{
 "cells": [
  {
   "cell_type": "code",
   "execution_count": 96,
   "id": "65fbb79f",
   "metadata": {
    "scrolled": true
   },
   "outputs": [
    {
     "name": "stdout",
     "output_type": "stream",
     "text": [
      "Requirement already satisfied: lightgbm in c:\\users\\arias\\anaconda3\\lib\\site-packages (3.3.1)\n",
      "Requirement already satisfied: wheel in c:\\users\\arias\\anaconda3\\lib\\site-packages (from lightgbm) (0.37.0)\n",
      "Requirement already satisfied: scipy in c:\\users\\arias\\anaconda3\\lib\\site-packages (from lightgbm) (1.7.1)\n",
      "Requirement already satisfied: scikit-learn!=0.22.0 in c:\\users\\arias\\anaconda3\\lib\\site-packages (from lightgbm) (1.0.2)\n",
      "Requirement already satisfied: numpy in c:\\users\\arias\\anaconda3\\lib\\site-packages (from lightgbm) (1.20.3)\n",
      "Requirement already satisfied: threadpoolctl>=2.0.0 in c:\\users\\arias\\anaconda3\\lib\\site-packages (from scikit-learn!=0.22.0->lightgbm) (2.2.0)\n",
      "Requirement already satisfied: joblib>=0.11 in c:\\users\\arias\\anaconda3\\lib\\site-packages (from scikit-learn!=0.22.0->lightgbm) (1.1.0)\n"
     ]
    },
    {
     "name": "stderr",
     "output_type": "stream",
     "text": [
      "C:\\Users\\arias\\anaconda3\\lib\\site-packages\\IPython\\utils\\_process_win32.py:145: ResourceWarning: unclosed file <_io.BufferedWriter name=5>\n",
      "  return process_handler(cmd, _system_body)\n",
      "ResourceWarning: Enable tracemalloc to get the object allocation traceback\n",
      "C:\\Users\\arias\\anaconda3\\lib\\site-packages\\IPython\\utils\\_process_win32.py:145: ResourceWarning: unclosed file <_io.BufferedReader name=6>\n",
      "  return process_handler(cmd, _system_body)\n",
      "ResourceWarning: Enable tracemalloc to get the object allocation traceback\n",
      "C:\\Users\\arias\\anaconda3\\lib\\site-packages\\IPython\\utils\\_process_win32.py:145: ResourceWarning: unclosed file <_io.BufferedReader name=7>\n",
      "  return process_handler(cmd, _system_body)\n",
      "ResourceWarning: Enable tracemalloc to get the object allocation traceback\n"
     ]
    }
   ],
   "source": [
    "!pip install lightgbm"
   ]
  },
  {
   "cell_type": "code",
   "execution_count": 97,
   "id": "f4127752",
   "metadata": {},
   "outputs": [
    {
     "name": "stdout",
     "output_type": "stream",
     "text": [
      "Requirement already satisfied: catboost in c:\\users\\arias\\anaconda3\\lib\\site-packages (1.0.3)\n",
      "Requirement already satisfied: numpy>=1.16.0 in c:\\users\\arias\\anaconda3\\lib\\site-packages (from catboost) (1.20.3)\n",
      "Requirement already satisfied: graphviz in c:\\users\\arias\\anaconda3\\lib\\site-packages (from catboost) (0.19.1)\n",
      "Requirement already satisfied: scipy in c:\\users\\arias\\anaconda3\\lib\\site-packages (from catboost) (1.7.1)\n",
      "Requirement already satisfied: pandas>=0.24.0 in c:\\users\\arias\\anaconda3\\lib\\site-packages (from catboost) (1.3.4)\n",
      "Requirement already satisfied: six in c:\\users\\arias\\anaconda3\\lib\\site-packages (from catboost) (1.16.0)\n",
      "Requirement already satisfied: matplotlib in c:\\users\\arias\\anaconda3\\lib\\site-packages (from catboost) (3.4.3)\n",
      "Requirement already satisfied: plotly in c:\\users\\arias\\anaconda3\\lib\\site-packages (from catboost) (5.5.0)\n",
      "Requirement already satisfied: pytz>=2017.3 in c:\\users\\arias\\anaconda3\\lib\\site-packages (from pandas>=0.24.0->catboost) (2021.3)\n",
      "Requirement already satisfied: python-dateutil>=2.7.3 in c:\\users\\arias\\anaconda3\\lib\\site-packages (from pandas>=0.24.0->catboost) (2.8.2)\n",
      "Requirement already satisfied: cycler>=0.10 in c:\\users\\arias\\anaconda3\\lib\\site-packages (from matplotlib->catboost) (0.10.0)\n",
      "Requirement already satisfied: pyparsing>=2.2.1 in c:\\users\\arias\\anaconda3\\lib\\site-packages (from matplotlib->catboost) (3.0.4)\n",
      "Requirement already satisfied: kiwisolver>=1.0.1 in c:\\users\\arias\\anaconda3\\lib\\site-packages (from matplotlib->catboost) (1.3.1)\n",
      "Requirement already satisfied: pillow>=6.2.0 in c:\\users\\arias\\anaconda3\\lib\\site-packages (from matplotlib->catboost) (8.4.0)\n",
      "Requirement already satisfied: tenacity>=6.2.0 in c:\\users\\arias\\anaconda3\\lib\\site-packages (from plotly->catboost) (8.0.1)\n"
     ]
    }
   ],
   "source": [
    "!pip install catboost"
   ]
  },
  {
   "cell_type": "code",
   "execution_count": 98,
   "id": "dc7a14e4",
   "metadata": {},
   "outputs": [
    {
     "name": "stdout",
     "output_type": "stream",
     "text": [
      "Requirement already satisfied: skforecast in c:\\users\\arias\\appdata\\roaming\\python\\python39\\site-packages (0.4.1)\n",
      "Requirement already satisfied: tqdm>=4.57.0 in c:\\users\\arias\\anaconda3\\lib\\site-packages (from skforecast) (4.62.3)\n",
      "Requirement already satisfied: scikit-learn>=1.0.1 in c:\\users\\arias\\anaconda3\\lib\\site-packages (from skforecast) (1.0.2)\n",
      "Requirement already satisfied: numpy>=1.20.1 in c:\\users\\arias\\anaconda3\\lib\\site-packages (from skforecast) (1.20.3)\n",
      "Requirement already satisfied: statsmodels>=0.12.2 in c:\\users\\arias\\anaconda3\\lib\\site-packages (from skforecast) (0.13.1)\n",
      "Requirement already satisfied: pandas>=1.2.2 in c:\\users\\arias\\anaconda3\\lib\\site-packages (from skforecast) (1.3.4)\n",
      "Requirement already satisfied: python-dateutil>=2.7.3 in c:\\users\\arias\\anaconda3\\lib\\site-packages (from pandas>=1.2.2->skforecast) (2.8.2)\n",
      "Requirement already satisfied: pytz>=2017.3 in c:\\users\\arias\\anaconda3\\lib\\site-packages (from pandas>=1.2.2->skforecast) (2021.3)\n",
      "Requirement already satisfied: six>=1.5 in c:\\users\\arias\\anaconda3\\lib\\site-packages (from python-dateutil>=2.7.3->pandas>=1.2.2->skforecast) (1.16.0)\n",
      "Requirement already satisfied: joblib>=0.11 in c:\\users\\arias\\anaconda3\\lib\\site-packages (from scikit-learn>=1.0.1->skforecast) (1.1.0)\n",
      "Requirement already satisfied: scipy>=1.1.0 in c:\\users\\arias\\anaconda3\\lib\\site-packages (from scikit-learn>=1.0.1->skforecast) (1.7.1)\n",
      "Requirement already satisfied: threadpoolctl>=2.0.0 in c:\\users\\arias\\anaconda3\\lib\\site-packages (from scikit-learn>=1.0.1->skforecast) (2.2.0)\n",
      "Requirement already satisfied: patsy>=0.5.2 in c:\\users\\arias\\anaconda3\\lib\\site-packages (from statsmodels>=0.12.2->skforecast) (0.5.2)\n",
      "Requirement already satisfied: colorama in c:\\users\\arias\\anaconda3\\lib\\site-packages (from tqdm>=4.57.0->skforecast) (0.4.4)\n"
     ]
    }
   ],
   "source": [
    "!pip install skforecast"
   ]
  },
  {
   "cell_type": "code",
   "execution_count": 99,
   "id": "d247e806",
   "metadata": {},
   "outputs": [
    {
     "name": "stdout",
     "output_type": "stream",
     "text": [
      "Requirement already satisfied: scikit-learn in c:\\users\\arias\\anaconda3\\lib\\site-packages (1.0.2)\n",
      "Requirement already satisfied: scipy>=1.1.0 in c:\\users\\arias\\anaconda3\\lib\\site-packages (from scikit-learn) (1.7.1)\n",
      "Requirement already satisfied: numpy>=1.14.6 in c:\\users\\arias\\anaconda3\\lib\\site-packages (from scikit-learn) (1.20.3)\n",
      "Requirement already satisfied: joblib>=0.11 in c:\\users\\arias\\anaconda3\\lib\\site-packages (from scikit-learn) (1.1.0)\n",
      "Requirement already satisfied: threadpoolctl>=2.0.0 in c:\\users\\arias\\anaconda3\\lib\\site-packages (from scikit-learn) (2.2.0)\n"
     ]
    }
   ],
   "source": [
    "! pip install scikit-learn"
   ]
  },
  {
   "cell_type": "code",
   "execution_count": 1,
   "id": "bc73d41a",
   "metadata": {},
   "outputs": [],
   "source": [
    "# Tratamiento de datos\n",
    "# ==============================================================================\n",
    "import numpy as np\n",
    "import pandas as pd\n",
    "\n",
    "# Gráficos\n",
    "# ==============================================================================\n",
    "import matplotlib.pyplot as plt\n",
    "from statsmodels.graphics.tsaplots import plot_acf\n",
    "from statsmodels.graphics.tsaplots import plot_pacf\n",
    "import plotly.express as px\n",
    "plt.style.use('fivethirtyeight')\n",
    "plt.rcParams['lines.linewidth'] = 1.5\n",
    "%matplotlib inline\n",
    "\n",
    "# Modelado y Forecasting\n",
    "# ==============================================================================\n",
    "from xgboost import XGBRegressor\n",
    "from lightgbm import LGBMRegressor\n",
    "from catboost import CatBoostRegressor\n",
    "\n",
    "from sklearn.preprocessing import OneHotEncoder\n",
    "from sklearn.preprocessing import StandardScaler\n",
    "from sklearn.compose import ColumnTransformer\n",
    "from sklearn.pipeline import make_pipeline\n",
    "import sklearn.metrics \n",
    "\n",
    "import sklearn.metrics as metrics\n",
    "from skforecast.ForecasterAutoreg import ForecasterAutoreg\n",
    "from skforecast.ForecasterAutoregMultiOutput import ForecasterAutoregMultiOutput\n",
    "from skforecast.model_selection import grid_search_forecaster\n",
    "from skforecast.model_selection import backtesting_forecaster\n",
    "\n",
    "from joblib import dump, load\n",
    "\n",
    "# Configuración warnings\n",
    "# ==============================================================================\n",
    "import warnings\n",
    "warnings.filterwarnings('once')\n",
    "%config Completer.use_jedi = False"
   ]
  },
  {
   "cell_type": "code",
   "execution_count": 85,
   "id": "6ac32684",
   "metadata": {},
   "outputs": [],
   "source": [
    "# load data\n",
    "data = pd.read_excel(r'C:\\Users\\arias\\Desktop\\DataSet\\recaudoDiarioConfinDeSemana2.xlsx')\n"
   ]
  },
  {
   "cell_type": "code",
   "execution_count": 86,
   "id": "13ec955d",
   "metadata": {},
   "outputs": [],
   "source": [
    "data['value'] = data['value'].astype('float') "
   ]
  },
  {
   "cell_type": "code",
   "execution_count": 87,
   "id": "9657842f",
   "metadata": {},
   "outputs": [
    {
     "data": {
      "text/html": [
       "<div>\n",
       "<style scoped>\n",
       "    .dataframe tbody tr th:only-of-type {\n",
       "        vertical-align: middle;\n",
       "    }\n",
       "\n",
       "    .dataframe tbody tr th {\n",
       "        vertical-align: top;\n",
       "    }\n",
       "\n",
       "    .dataframe thead th {\n",
       "        text-align: right;\n",
       "    }\n",
       "</style>\n",
       "<table border=\"1\" class=\"dataframe\">\n",
       "  <thead>\n",
       "    <tr style=\"text-align: right;\">\n",
       "      <th></th>\n",
       "      <th>fecha</th>\n",
       "      <th>value</th>\n",
       "    </tr>\n",
       "  </thead>\n",
       "  <tbody>\n",
       "    <tr>\n",
       "      <th>0</th>\n",
       "      <td>2019-07-04</td>\n",
       "      <td>932383252.0</td>\n",
       "    </tr>\n",
       "    <tr>\n",
       "      <th>1</th>\n",
       "      <td>2019-07-05</td>\n",
       "      <td>263540907.0</td>\n",
       "    </tr>\n",
       "    <tr>\n",
       "      <th>2</th>\n",
       "      <td>2019-07-06</td>\n",
       "      <td>0.0</td>\n",
       "    </tr>\n",
       "    <tr>\n",
       "      <th>3</th>\n",
       "      <td>2019-07-07</td>\n",
       "      <td>0.0</td>\n",
       "    </tr>\n",
       "    <tr>\n",
       "      <th>4</th>\n",
       "      <td>2019-07-08</td>\n",
       "      <td>301014942.0</td>\n",
       "    </tr>\n",
       "    <tr>\n",
       "      <th>...</th>\n",
       "      <td>...</td>\n",
       "      <td>...</td>\n",
       "    </tr>\n",
       "    <tr>\n",
       "      <th>732</th>\n",
       "      <td>2021-07-05</td>\n",
       "      <td>0.0</td>\n",
       "    </tr>\n",
       "    <tr>\n",
       "      <th>733</th>\n",
       "      <td>2021-07-06</td>\n",
       "      <td>763135176.0</td>\n",
       "    </tr>\n",
       "    <tr>\n",
       "      <th>734</th>\n",
       "      <td>2021-07-07</td>\n",
       "      <td>363085445.0</td>\n",
       "    </tr>\n",
       "    <tr>\n",
       "      <th>735</th>\n",
       "      <td>2021-07-08</td>\n",
       "      <td>236200655.0</td>\n",
       "    </tr>\n",
       "    <tr>\n",
       "      <th>736</th>\n",
       "      <td>2021-07-09</td>\n",
       "      <td>228483931.0</td>\n",
       "    </tr>\n",
       "  </tbody>\n",
       "</table>\n",
       "<p>737 rows × 2 columns</p>\n",
       "</div>"
      ],
      "text/plain": [
       "         fecha        value\n",
       "0   2019-07-04  932383252.0\n",
       "1   2019-07-05  263540907.0\n",
       "2   2019-07-06          0.0\n",
       "3   2019-07-07          0.0\n",
       "4   2019-07-08  301014942.0\n",
       "..         ...          ...\n",
       "732 2021-07-05          0.0\n",
       "733 2021-07-06  763135176.0\n",
       "734 2021-07-07  363085445.0\n",
       "735 2021-07-08  236200655.0\n",
       "736 2021-07-09  228483931.0\n",
       "\n",
       "[737 rows x 2 columns]"
      ]
     },
     "execution_count": 87,
     "metadata": {},
     "output_type": "execute_result"
    }
   ],
   "source": [
    "data"
   ]
  },
  {
   "cell_type": "code",
   "execution_count": 45,
   "id": "deb5a956",
   "metadata": {},
   "outputs": [],
   "source": [
    "# Se parten los datos para entrenamiento, validación y test.\n",
    "fin_train = '2020-07-04' \n",
    "fin_validacion = '2021-05-10' \n",
    "datos_train = data.loc[0:478]\n",
    "datos_val   = data.loc[479:600]\n",
    "datos_test  = data.loc[601:737]"
   ]
  },
  {
   "cell_type": "code",
   "execution_count": 46,
   "id": "b15281ce",
   "metadata": {},
   "outputs": [
    {
     "name": "stdout",
     "output_type": "stream",
     "text": [
      "Fechas train      : 0 --- 478  (n=479)\n",
      "Fechas validacion : 479 --- 600  (n=122)\n",
      "Fechas test       : 601 --- 736  (n=136)\n"
     ]
    }
   ],
   "source": [
    "print(f\"Fechas train      : {datos_train.index.min()} --- {datos_train.index.max()}  (n={len(datos_train)})\")\n",
    "print(f\"Fechas validacion : {datos_val.index.min()} --- {datos_val.index.max()}  (n={len(datos_val)})\")\n",
    "print(f\"Fechas test       : {datos_test.index.min()} --- {datos_test.index.max()}  (n={len(datos_test)})\")"
   ]
  },
  {
   "cell_type": "code",
   "execution_count": 47,
   "id": "c6a27003",
   "metadata": {},
   "outputs": [
    {
     "data": {
      "image/png": "[encoded data removed]",
      "text/plain": [
       "<Figure size 792x288 with 1 Axes>"
      ]
     },
     "metadata": {
      "needs_background": "light"
     },
     "output_type": "display_data"
    }
   ],
   "source": [
    "# Se grafican datos entrenamiento, validación y test.\n",
    "fig, ax = plt.subplots(figsize=(11, 4))\n",
    "datos_train['value'].plot(ax=ax, label='entrenamiento')\n",
    "datos_val['value'].plot(ax=ax, label='validación')\n",
    "datos_test['value'].plot(ax=ax, label='test')\n",
    "ax.set_title('Recaudo por fecha')\n",
    "ax.legend();"
   ]
  },
  {
   "cell_type": "code",
   "execution_count": 48,
   "id": "1596522c",
   "metadata": {},
   "outputs": [],
   "source": [
    "# Se crea el dataframe datos \n",
    "datos=data\n"
   ]
  },
  {
   "cell_type": "code",
   "execution_count": 49,
   "id": "45c6bfde",
   "metadata": {},
   "outputs": [
    {
     "data": {
      "text/plain": [
       "================= \n",
       "ForecasterAutoreg \n",
       "================= \n",
       "Regressor: XGBRegressor(base_score=None, booster=None, colsample_bylevel=None,\n",
       "             colsample_bynode=None, colsample_bytree=None,\n",
       "             enable_categorical=False, gamma=None, gpu_id=None,\n",
       "             importance_type=None, interaction_constraints=None,\n",
       "             learning_rate=None, max_delta_step=None, max_depth=None,\n",
       "             min_child_weight=None, missing=nan, monotone_constraints=None,\n",
       "             n_estimators=100, n_jobs=None, num_parallel_tree=None,\n",
       "             predictor=None, random_state=123, reg_alpha=None, reg_lambda=None,\n",
       "             scale_pos_weight=None, subsample=None, tree_method=None,\n",
       "             validate_parameters=None, verbosity=None) \n",
       "Lags: [ 1  2  3  4  5  6  7  8  9 10 11 12 13 14 15 16 17 18 19 20 21 22 23 24\n",
       " 25 26 27 28 29 30] \n",
       "Window size: 30 \n",
       "Included exogenous: False \n",
       "Type of exogenous variable: None \n",
       "Exogenous variables names: None \n",
       "Training range: None \n",
       "Training index type: None \n",
       "Training index frequency: None \n",
       "Regressor parameters: {'objective': 'reg:squarederror', 'base_score': None, 'booster': None, 'colsample_bylevel': None, 'colsample_bynode': None, 'colsample_bytree': None, 'enable_categorical': False, 'gamma': None, 'gpu_id': None, 'importance_type': None, 'interaction_constraints': None, 'learning_rate': None, 'max_delta_step': None, 'max_depth': None, 'min_child_weight': None, 'missing': nan, 'monotone_constraints': None, 'n_estimators': 100, 'n_jobs': None, 'num_parallel_tree': None, 'predictor': None, 'random_state': 123, 'reg_alpha': None, 'reg_lambda': None, 'scale_pos_weight': None, 'subsample': None, 'tree_method': None, 'validate_parameters': None, 'verbosity': None} \n",
       "Creation date: 2022-02-02 10:53:45 \n",
       "Last fit date: None \n",
       "Skforecast version: 0.4.1 "
      ]
     },
     "execution_count": 49,
     "metadata": {},
     "output_type": "execute_result"
    }
   ],
   "source": [
    "# Entrenamiento del modelo\n",
    "forecaster = ForecasterAutoreg(\n",
    "                regressor = XGBRegressor(random_state=123),\n",
    "                lags = 30\n",
    "             )\n",
    "\n",
    "forecaster"
   ]
  },
  {
   "cell_type": "code",
   "execution_count": 50,
   "id": "edece4ad",
   "metadata": {},
   "outputs": [],
   "source": [
    "# se configura la fecha como indice(por ser series temporales)\n",
    "data = data.set_index('fecha')"
   ]
  },
  {
   "cell_type": "code",
   "execution_count": 51,
   "id": "9dfc6b26",
   "metadata": {},
   "outputs": [
    {
     "data": {
      "text/html": [
       "<div>\n",
       "<style scoped>\n",
       "    .dataframe tbody tr th:only-of-type {\n",
       "        vertical-align: middle;\n",
       "    }\n",
       "\n",
       "    .dataframe tbody tr th {\n",
       "        vertical-align: top;\n",
       "    }\n",
       "\n",
       "    .dataframe thead th {\n",
       "        text-align: right;\n",
       "    }\n",
       "</style>\n",
       "<table border=\"1\" class=\"dataframe\">\n",
       "  <thead>\n",
       "    <tr style=\"text-align: right;\">\n",
       "      <th></th>\n",
       "      <th>fecha</th>\n",
       "      <th>value</th>\n",
       "    </tr>\n",
       "  </thead>\n",
       "  <tbody>\n",
       "    <tr>\n",
       "      <th>0</th>\n",
       "      <td>2019-07-04</td>\n",
       "      <td>932383252.0</td>\n",
       "    </tr>\n",
       "    <tr>\n",
       "      <th>1</th>\n",
       "      <td>2019-07-05</td>\n",
       "      <td>263540907.0</td>\n",
       "    </tr>\n",
       "    <tr>\n",
       "      <th>2</th>\n",
       "      <td>2019-07-06</td>\n",
       "      <td>0.0</td>\n",
       "    </tr>\n",
       "    <tr>\n",
       "      <th>3</th>\n",
       "      <td>2019-07-07</td>\n",
       "      <td>0.0</td>\n",
       "    </tr>\n",
       "    <tr>\n",
       "      <th>4</th>\n",
       "      <td>2019-07-08</td>\n",
       "      <td>301014942.0</td>\n",
       "    </tr>\n",
       "    <tr>\n",
       "      <th>...</th>\n",
       "      <td>...</td>\n",
       "      <td>...</td>\n",
       "    </tr>\n",
       "    <tr>\n",
       "      <th>732</th>\n",
       "      <td>2021-07-05</td>\n",
       "      <td>0.0</td>\n",
       "    </tr>\n",
       "    <tr>\n",
       "      <th>733</th>\n",
       "      <td>2021-07-06</td>\n",
       "      <td>763135176.0</td>\n",
       "    </tr>\n",
       "    <tr>\n",
       "      <th>734</th>\n",
       "      <td>2021-07-07</td>\n",
       "      <td>363085445.0</td>\n",
       "    </tr>\n",
       "    <tr>\n",
       "      <th>735</th>\n",
       "      <td>2021-07-08</td>\n",
       "      <td>236200655.0</td>\n",
       "    </tr>\n",
       "    <tr>\n",
       "      <th>736</th>\n",
       "      <td>2021-07-09</td>\n",
       "      <td>228483931.0</td>\n",
       "    </tr>\n",
       "  </tbody>\n",
       "</table>\n",
       "<p>737 rows × 2 columns</p>\n",
       "</div>"
      ],
      "text/plain": [
       "         fecha        value\n",
       "0   2019-07-04  932383252.0\n",
       "1   2019-07-05  263540907.0\n",
       "2   2019-07-06          0.0\n",
       "3   2019-07-07          0.0\n",
       "4   2019-07-08  301014942.0\n",
       "..         ...          ...\n",
       "732 2021-07-05          0.0\n",
       "733 2021-07-06  763135176.0\n",
       "734 2021-07-07  363085445.0\n",
       "735 2021-07-08  236200655.0\n",
       "736 2021-07-09  228483931.0\n",
       "\n",
       "[737 rows x 2 columns]"
      ]
     },
     "execution_count": 51,
     "metadata": {},
     "output_type": "execute_result"
    }
   ],
   "source": [
    "datos"
   ]
  },
  {
   "cell_type": "code",
   "execution_count": 52,
   "id": "acedd517",
   "metadata": {},
   "outputs": [
    {
     "name": "stdout",
     "output_type": "stream",
     "text": [
      "Number of models compared: 54\n"
     ]
    },
    {
     "name": "stderr",
     "output_type": "stream",
     "text": [
      "loop lags_grid:   0%|                                               | 0/3 [00:00<?, ?it/s]\n",
      "loop param_grid:   0%|                                             | 0/18 [00:00<?, ?it/s]\u001b[A\n",
      "loop param_grid:   6%|██                                   | 1/18 [00:00<00:11,  1.43it/s]\u001b[A\n",
      "loop param_grid:  11%|████                                 | 2/18 [00:01<00:14,  1.08it/s]\u001b[A\n",
      "loop param_grid:  17%|██████▏                              | 3/18 [00:02<00:13,  1.11it/s]\u001b[A\n",
      "loop param_grid:  22%|████████▏                            | 4/18 [00:04<00:15,  1.09s/it]\u001b[A\n",
      "loop param_grid:  28%|██████████▎                          | 5/18 [00:05<00:13,  1.07s/it]\u001b[A\n",
      "loop param_grid:  33%|████████████▎                        | 6/18 [00:07<00:17,  1.47s/it]\u001b[A\n",
      "loop param_grid:  39%|██████████████▍                      | 7/18 [00:08<00:13,  1.25s/it]\u001b[A\n",
      "loop param_grid:  44%|████████████████▍                    | 8/18 [00:09<00:12,  1.20s/it]\u001b[A\n",
      "loop param_grid:  50%|██████████████████▌                  | 9/18 [00:10<00:09,  1.10s/it]\u001b[A\n",
      "loop param_grid:  56%|████████████████████                | 10/18 [00:11<00:09,  1.18s/it]\u001b[A\n",
      "loop param_grid:  61%|██████████████████████              | 11/18 [00:12<00:07,  1.14s/it]\u001b[A\n",
      "loop param_grid:  67%|████████████████████████            | 12/18 [00:14<00:08,  1.47s/it]\u001b[A\n",
      "loop param_grid:  72%|██████████████████████████          | 13/18 [00:15<00:06,  1.26s/it]\u001b[A\n",
      "loop param_grid:  78%|████████████████████████████        | 14/18 [00:16<00:04,  1.20s/it]\u001b[A\n",
      "loop param_grid:  83%|██████████████████████████████      | 15/18 [00:17<00:03,  1.06s/it]\u001b[A\n",
      "loop param_grid:  89%|████████████████████████████████    | 16/18 [00:18<00:02,  1.19s/it]\u001b[A\n",
      "loop param_grid:  94%|██████████████████████████████████  | 17/18 [00:19<00:01,  1.15s/it]\u001b[A\n",
      "loop param_grid: 100%|████████████████████████████████████| 18/18 [00:21<00:00,  1.43s/it]\u001b[A\n",
      "loop lags_grid:  33%|█████████████                          | 1/3 [00:21<00:43, 21.94s/it]\u001b[A\n",
      "loop param_grid:   0%|                                             | 0/18 [00:00<?, ?it/s]\u001b[A\n",
      "loop param_grid:   6%|██                                   | 1/18 [00:00<00:14,  1.19it/s]\u001b[A\n",
      "loop param_grid:  11%|████                                 | 2/18 [00:02<00:19,  1.23s/it]\u001b[A\n",
      "loop param_grid:  17%|██████▏                              | 3/18 [00:03<00:16,  1.13s/it]\u001b[A\n",
      "loop param_grid:  22%|████████▏                            | 4/18 [00:05<00:19,  1.42s/it]\u001b[A\n",
      "loop param_grid:  28%|██████████▎                          | 5/18 [00:06<00:17,  1.33s/it]\u001b[A\n",
      "loop param_grid:  33%|████████████▎                        | 6/18 [00:09<00:22,  1.88s/it]\u001b[A\n",
      "loop param_grid:  39%|██████████████▍                      | 7/18 [00:10<00:17,  1.55s/it]\u001b[A\n",
      "loop param_grid:  44%|████████████████▍                    | 8/18 [00:11<00:15,  1.51s/it]\u001b[A\n",
      "loop param_grid:  50%|██████████████████▌                  | 9/18 [00:12<00:12,  1.35s/it]\u001b[A\n",
      "loop param_grid:  56%|████████████████████                | 10/18 [00:14<00:12,  1.54s/it]\u001b[A\n",
      "loop param_grid:  61%|██████████████████████              | 11/18 [00:15<00:10,  1.46s/it]\u001b[A\n",
      "loop param_grid:  67%|████████████████████████            | 12/18 [00:18<00:11,  1.92s/it]\u001b[A\n",
      "loop param_grid:  72%|██████████████████████████          | 13/18 [00:19<00:08,  1.60s/it]\u001b[A\n",
      "loop param_grid:  78%|████████████████████████████        | 14/18 [00:21<00:06,  1.55s/it]\u001b[A\n",
      "loop param_grid:  83%|██████████████████████████████      | 15/18 [00:22<00:04,  1.37s/it]\u001b[A\n",
      "loop param_grid:  89%|████████████████████████████████    | 16/18 [00:23<00:03,  1.51s/it]\u001b[A\n",
      "loop param_grid:  94%|██████████████████████████████████  | 17/18 [00:25<00:01,  1.42s/it]\u001b[A\n",
      "loop param_grid: 100%|████████████████████████████████████| 18/18 [00:28<00:00,  1.99s/it]\u001b[A\n",
      "loop lags_grid:  67%|██████████████████████████             | 2/3 [00:50<00:25, 25.79s/it]\u001b[A\n",
      "loop param_grid:   0%|                                             | 0/18 [00:00<?, ?it/s]\u001b[A\n",
      "loop param_grid:   6%|██                                   | 1/18 [00:00<00:13,  1.28it/s]\u001b[A\n",
      "loop param_grid:  11%|████                                 | 2/18 [00:01<00:15,  1.05it/s]\u001b[A\n",
      "loop param_grid:  17%|██████▏                              | 3/18 [00:02<00:13,  1.12it/s]\u001b[A\n",
      "loop param_grid:  22%|████████▏                            | 4/18 [00:03<00:14,  1.04s/it]\u001b[A\n",
      "loop param_grid:  28%|██████████▎                          | 5/18 [00:04<00:13,  1.01s/it]\u001b[A\n",
      "loop param_grid:  33%|████████████▎                        | 6/18 [00:06<00:15,  1.30s/it]\u001b[A\n",
      "loop param_grid:  39%|██████████████▍                      | 7/18 [00:07<00:12,  1.13s/it]\u001b[A\n",
      "loop param_grid:  44%|████████████████▍                    | 8/18 [00:08<00:11,  1.11s/it]\u001b[A\n",
      "loop param_grid:  50%|██████████████████▌                  | 9/18 [00:09<00:09,  1.02s/it]\u001b[A\n",
      "loop param_grid:  56%|████████████████████                | 10/18 [00:10<00:08,  1.09s/it]\u001b[A\n",
      "loop param_grid:  61%|██████████████████████              | 11/18 [00:11<00:07,  1.05s/it]\u001b[A\n",
      "loop param_grid:  67%|████████████████████████            | 12/18 [00:13<00:07,  1.29s/it]\u001b[A\n",
      "loop param_grid:  72%|██████████████████████████          | 13/18 [00:14<00:05,  1.11s/it]\u001b[A\n",
      "loop param_grid:  78%|████████████████████████████        | 14/18 [00:15<00:04,  1.08s/it]\u001b[A\n",
      "loop param_grid:  83%|██████████████████████████████      | 15/18 [00:15<00:02,  1.01it/s]\u001b[A\n",
      "loop param_grid:  89%|████████████████████████████████    | 16/18 [00:17<00:02,  1.07s/it]\u001b[A\n",
      "loop param_grid:  94%|██████████████████████████████████  | 17/18 [00:18<00:01,  1.04s/it]\u001b[A\n",
      "loop param_grid: 100%|████████████████████████████████████| 18/18 [00:20<00:00,  1.28s/it]\u001b[A\n",
      "loop lags_grid: 100%|███████████████████████████████████████| 3/3 [01:10<00:00, 23.49s/it]\u001b[A\n"
     ]
    },
    {
     "name": "stdout",
     "output_type": "stream",
     "text": [
      "Refitting `forecaster` using the best found parameters and the whole data set: \n",
      "  lags: [ 1  2  3  4  5  6  7  8  9 10 11 12 13 14 15 16 17 18 19 20 21 22 23 24\n",
      " 25 26 27 28 29 30] \n",
      "  params: {'learning_rate': 0.09, 'max_depth': 5, 'n_estimators': 500}\n",
      "\n"
     ]
    }
   ],
   "source": [
    "# Hiperparámetros del regresor.  Se identifica la combinación de hiperparámetros y lags con los que se consigue menor error.\n",
    "param_grid = {\n",
    "    'n_estimators': [100, 500],\n",
    "    'max_depth': [3, 5, 10],\n",
    "    'learning_rate': [0.09, 0.1, 0.15]\n",
    "}\n",
    "\n",
    "# Lags utilizados como predictores\n",
    "lags_grid = [7, 30, [1, 2, 3]]\n",
    "\n",
    "\n",
    "resultados_grid = grid_search_forecaster(\n",
    "        forecaster         = forecaster,\n",
    "        y                  = datos.loc[:600, 'value'], # conjunto de train y validación\n",
    "        param_grid         = param_grid,\n",
    "        lags_grid          = lags_grid,\n",
    "        steps              = 90,\n",
    "        refit              = False,\n",
    "        metric             = 'mean_squared_error',\n",
    "        initial_train_size = int(len(datos_train)), # El modelo se entrena con los datos de entrenamiento\n",
    "        return_best        = True,\n",
    "        verbose            = False\n",
    ")"
   ]
  },
  {
   "cell_type": "code",
   "execution_count": 53,
   "id": "90d9a8be",
   "metadata": {},
   "outputs": [
    {
     "data": {
      "text/html": [
       "<div>\n",
       "<style scoped>\n",
       "    .dataframe tbody tr th:only-of-type {\n",
       "        vertical-align: middle;\n",
       "    }\n",
       "\n",
       "    .dataframe tbody tr th {\n",
       "        vertical-align: top;\n",
       "    }\n",
       "\n",
       "    .dataframe thead th {\n",
       "        text-align: right;\n",
       "    }\n",
       "</style>\n",
       "<table border=\"1\" class=\"dataframe\">\n",
       "  <thead>\n",
       "    <tr style=\"text-align: right;\">\n",
       "      <th></th>\n",
       "      <th>lags</th>\n",
       "      <th>params</th>\n",
       "      <th>metric</th>\n",
       "      <th>learning_rate</th>\n",
       "      <th>max_depth</th>\n",
       "      <th>n_estimators</th>\n",
       "    </tr>\n",
       "  </thead>\n",
       "  <tbody>\n",
       "    <tr>\n",
       "      <th>21</th>\n",
       "      <td>[1, 2, 3, 4, 5, 6, 7, 8, 9, 10, 11, 12, 13, 14...</td>\n",
       "      <td>{'learning_rate': 0.09, 'max_depth': 5, 'n_est...</td>\n",
       "      <td>3.009636e+16</td>\n",
       "      <td>0.09</td>\n",
       "      <td>5.0</td>\n",
       "      <td>500.0</td>\n",
       "    </tr>\n",
       "    <tr>\n",
       "      <th>35</th>\n",
       "      <td>[1, 2, 3, 4, 5, 6, 7, 8, 9, 10, 11, 12, 13, 14...</td>\n",
       "      <td>{'learning_rate': 0.15, 'max_depth': 10, 'n_es...</td>\n",
       "      <td>3.160482e+16</td>\n",
       "      <td>0.15</td>\n",
       "      <td>10.0</td>\n",
       "      <td>500.0</td>\n",
       "    </tr>\n",
       "    <tr>\n",
       "      <th>22</th>\n",
       "      <td>[1, 2, 3, 4, 5, 6, 7, 8, 9, 10, 11, 12, 13, 14...</td>\n",
       "      <td>{'learning_rate': 0.09, 'max_depth': 10, 'n_es...</td>\n",
       "      <td>3.191153e+16</td>\n",
       "      <td>0.09</td>\n",
       "      <td>10.0</td>\n",
       "      <td>100.0</td>\n",
       "    </tr>\n",
       "    <tr>\n",
       "      <th>34</th>\n",
       "      <td>[1, 2, 3, 4, 5, 6, 7, 8, 9, 10, 11, 12, 13, 14...</td>\n",
       "      <td>{'learning_rate': 0.15, 'max_depth': 10, 'n_es...</td>\n",
       "      <td>3.209638e+16</td>\n",
       "      <td>0.15</td>\n",
       "      <td>10.0</td>\n",
       "      <td>100.0</td>\n",
       "    </tr>\n",
       "    <tr>\n",
       "      <th>20</th>\n",
       "      <td>[1, 2, 3, 4, 5, 6, 7, 8, 9, 10, 11, 12, 13, 14...</td>\n",
       "      <td>{'learning_rate': 0.09, 'max_depth': 5, 'n_est...</td>\n",
       "      <td>3.290839e+16</td>\n",
       "      <td>0.09</td>\n",
       "      <td>5.0</td>\n",
       "      <td>100.0</td>\n",
       "    </tr>\n",
       "    <tr>\n",
       "      <th>33</th>\n",
       "      <td>[1, 2, 3, 4, 5, 6, 7, 8, 9, 10, 11, 12, 13, 14...</td>\n",
       "      <td>{'learning_rate': 0.15, 'max_depth': 5, 'n_est...</td>\n",
       "      <td>3.308887e+16</td>\n",
       "      <td>0.15</td>\n",
       "      <td>5.0</td>\n",
       "      <td>500.0</td>\n",
       "    </tr>\n",
       "    <tr>\n",
       "      <th>23</th>\n",
       "      <td>[1, 2, 3, 4, 5, 6, 7, 8, 9, 10, 11, 12, 13, 14...</td>\n",
       "      <td>{'learning_rate': 0.09, 'max_depth': 10, 'n_es...</td>\n",
       "      <td>3.344051e+16</td>\n",
       "      <td>0.09</td>\n",
       "      <td>10.0</td>\n",
       "      <td>500.0</td>\n",
       "    </tr>\n",
       "    <tr>\n",
       "      <th>24</th>\n",
       "      <td>[1, 2, 3, 4, 5, 6, 7, 8, 9, 10, 11, 12, 13, 14...</td>\n",
       "      <td>{'learning_rate': 0.1, 'max_depth': 3, 'n_esti...</td>\n",
       "      <td>3.406143e+16</td>\n",
       "      <td>0.10</td>\n",
       "      <td>3.0</td>\n",
       "      <td>100.0</td>\n",
       "    </tr>\n",
       "    <tr>\n",
       "      <th>32</th>\n",
       "      <td>[1, 2, 3, 4, 5, 6, 7, 8, 9, 10, 11, 12, 13, 14...</td>\n",
       "      <td>{'learning_rate': 0.15, 'max_depth': 5, 'n_est...</td>\n",
       "      <td>3.448678e+16</td>\n",
       "      <td>0.15</td>\n",
       "      <td>5.0</td>\n",
       "      <td>100.0</td>\n",
       "    </tr>\n",
       "    <tr>\n",
       "      <th>26</th>\n",
       "      <td>[1, 2, 3, 4, 5, 6, 7, 8, 9, 10, 11, 12, 13, 14...</td>\n",
       "      <td>{'learning_rate': 0.1, 'max_depth': 5, 'n_esti...</td>\n",
       "      <td>3.640480e+16</td>\n",
       "      <td>0.10</td>\n",
       "      <td>5.0</td>\n",
       "      <td>100.0</td>\n",
       "    </tr>\n",
       "  </tbody>\n",
       "</table>\n",
       "</div>"
      ],
      "text/plain": [
       "                                                 lags  \\\n",
       "21  [1, 2, 3, 4, 5, 6, 7, 8, 9, 10, 11, 12, 13, 14...   \n",
       "35  [1, 2, 3, 4, 5, 6, 7, 8, 9, 10, 11, 12, 13, 14...   \n",
       "22  [1, 2, 3, 4, 5, 6, 7, 8, 9, 10, 11, 12, 13, 14...   \n",
       "34  [1, 2, 3, 4, 5, 6, 7, 8, 9, 10, 11, 12, 13, 14...   \n",
       "20  [1, 2, 3, 4, 5, 6, 7, 8, 9, 10, 11, 12, 13, 14...   \n",
       "33  [1, 2, 3, 4, 5, 6, 7, 8, 9, 10, 11, 12, 13, 14...   \n",
       "23  [1, 2, 3, 4, 5, 6, 7, 8, 9, 10, 11, 12, 13, 14...   \n",
       "24  [1, 2, 3, 4, 5, 6, 7, 8, 9, 10, 11, 12, 13, 14...   \n",
       "32  [1, 2, 3, 4, 5, 6, 7, 8, 9, 10, 11, 12, 13, 14...   \n",
       "26  [1, 2, 3, 4, 5, 6, 7, 8, 9, 10, 11, 12, 13, 14...   \n",
       "\n",
       "                                               params        metric  \\\n",
       "21  {'learning_rate': 0.09, 'max_depth': 5, 'n_est...  3.009636e+16   \n",
       "35  {'learning_rate': 0.15, 'max_depth': 10, 'n_es...  3.160482e+16   \n",
       "22  {'learning_rate': 0.09, 'max_depth': 10, 'n_es...  3.191153e+16   \n",
       "34  {'learning_rate': 0.15, 'max_depth': 10, 'n_es...  3.209638e+16   \n",
       "20  {'learning_rate': 0.09, 'max_depth': 5, 'n_est...  3.290839e+16   \n",
       "33  {'learning_rate': 0.15, 'max_depth': 5, 'n_est...  3.308887e+16   \n",
       "23  {'learning_rate': 0.09, 'max_depth': 10, 'n_es...  3.344051e+16   \n",
       "24  {'learning_rate': 0.1, 'max_depth': 3, 'n_esti...  3.406143e+16   \n",
       "32  {'learning_rate': 0.15, 'max_depth': 5, 'n_est...  3.448678e+16   \n",
       "26  {'learning_rate': 0.1, 'max_depth': 5, 'n_esti...  3.640480e+16   \n",
       "\n",
       "    learning_rate  max_depth  n_estimators  \n",
       "21           0.09        5.0         500.0  \n",
       "35           0.15       10.0         500.0  \n",
       "22           0.09       10.0         100.0  \n",
       "34           0.15       10.0         100.0  \n",
       "20           0.09        5.0         100.0  \n",
       "33           0.15        5.0         500.0  \n",
       "23           0.09       10.0         500.0  \n",
       "24           0.10        3.0         100.0  \n",
       "32           0.15        5.0         100.0  \n",
       "26           0.10        5.0         100.0  "
      ]
     },
     "execution_count": 53,
     "metadata": {},
     "output_type": "execute_result"
    }
   ],
   "source": [
    "resultados_grid.head(10)"
   ]
  },
  {
   "cell_type": "code",
   "execution_count": 54,
   "id": "28f30d60",
   "metadata": {},
   "outputs": [
    {
     "name": "stdout",
     "output_type": "stream",
     "text": [
      "Error de backtest: [2.5331045e+16]\n"
     ]
    }
   ],
   "source": [
    "# Backtesting\n",
    "# ==============================================================================\n",
    "metric, predicciones = backtesting_forecaster(\n",
    "    forecaster = forecaster,\n",
    "    y          = datos['value'],\n",
    "    initial_train_size = len(datos.loc[:600]),\n",
    "    steps      = 30,\n",
    "    refit      = False,\n",
    "    metric     = 'mean_squared_error',\n",
    "    verbose    = False # Change to True to see detailed information\n",
    ")\n",
    "\n",
    "print(f\"Error de backtest: {metric}\")"
   ]
  },
  {
   "cell_type": "code",
   "execution_count": 55,
   "id": "346427dd",
   "metadata": {},
   "outputs": [
    {
     "data": {
      "text/html": [
       "<div>\n",
       "<style scoped>\n",
       "    .dataframe tbody tr th:only-of-type {\n",
       "        vertical-align: middle;\n",
       "    }\n",
       "\n",
       "    .dataframe tbody tr th {\n",
       "        vertical-align: top;\n",
       "    }\n",
       "\n",
       "    .dataframe thead th {\n",
       "        text-align: right;\n",
       "    }\n",
       "</style>\n",
       "<table border=\"1\" class=\"dataframe\">\n",
       "  <thead>\n",
       "    <tr style=\"text-align: right;\">\n",
       "      <th></th>\n",
       "      <th>pred</th>\n",
       "    </tr>\n",
       "  </thead>\n",
       "  <tbody>\n",
       "    <tr>\n",
       "      <th>601</th>\n",
       "      <td>445298752.0</td>\n",
       "    </tr>\n",
       "    <tr>\n",
       "      <th>602</th>\n",
       "      <td>382567424.0</td>\n",
       "    </tr>\n",
       "    <tr>\n",
       "      <th>603</th>\n",
       "      <td>236680752.0</td>\n",
       "    </tr>\n",
       "    <tr>\n",
       "      <th>604</th>\n",
       "      <td>26105460.0</td>\n",
       "    </tr>\n",
       "    <tr>\n",
       "      <th>605</th>\n",
       "      <td>188543552.0</td>\n",
       "    </tr>\n",
       "    <tr>\n",
       "      <th>...</th>\n",
       "      <td>...</td>\n",
       "    </tr>\n",
       "    <tr>\n",
       "      <th>732</th>\n",
       "      <td>273878656.0</td>\n",
       "    </tr>\n",
       "    <tr>\n",
       "      <th>733</th>\n",
       "      <td>304710656.0</td>\n",
       "    </tr>\n",
       "    <tr>\n",
       "      <th>734</th>\n",
       "      <td>351650048.0</td>\n",
       "    </tr>\n",
       "    <tr>\n",
       "      <th>735</th>\n",
       "      <td>309895328.0</td>\n",
       "    </tr>\n",
       "    <tr>\n",
       "      <th>736</th>\n",
       "      <td>294896576.0</td>\n",
       "    </tr>\n",
       "  </tbody>\n",
       "</table>\n",
       "<p>136 rows × 1 columns</p>\n",
       "</div>"
      ],
      "text/plain": [
       "            pred\n",
       "601  445298752.0\n",
       "602  382567424.0\n",
       "603  236680752.0\n",
       "604   26105460.0\n",
       "605  188543552.0\n",
       "..           ...\n",
       "732  273878656.0\n",
       "733  304710656.0\n",
       "734  351650048.0\n",
       "735  309895328.0\n",
       "736  294896576.0\n",
       "\n",
       "[136 rows x 1 columns]"
      ]
     },
     "execution_count": 55,
     "metadata": {},
     "output_type": "execute_result"
    }
   ],
   "source": [
    "predicciones"
   ]
  },
  {
   "cell_type": "code",
   "execution_count": 56,
   "id": "8da6fa81",
   "metadata": {},
   "outputs": [
    {
     "data": {
      "image/png": "[encoded data removed]",
      "text/plain": [
       "<Figure size 792x288 with 1 Axes>"
      ]
     },
     "metadata": {
      "needs_background": "light"
     },
     "output_type": "display_data"
    }
   ],
   "source": [
    "fig, ax = plt.subplots(figsize=(11, 4))\n",
    "datos_test['value'].plot(ax=ax, label='test')\n",
    "predicciones['pred'].plot(ax=ax, label='predicciones')\n",
    "ax.legend();"
   ]
  },
  {
   "cell_type": "code",
   "execution_count": 57,
   "id": "9dfc7eed",
   "metadata": {},
   "outputs": [
    {
     "data": {
      "text/plain": [
       "================= \n",
       "ForecasterAutoreg \n",
       "================= \n",
       "Regressor: XGBRegressor(base_score=0.5, booster='gbtree', colsample_bylevel=1,\n",
       "             colsample_bynode=1, colsample_bytree=1, enable_categorical=False,\n",
       "             gamma=0, gpu_id=-1, importance_type=None,\n",
       "             interaction_constraints='', learning_rate=0.09, max_delta_step=0,\n",
       "             max_depth=5, min_child_weight=1, missing=nan,\n",
       "             monotone_constraints='()', n_estimators=500, n_jobs=4,\n",
       "             num_parallel_tree=1, predictor='auto', random_state=123,\n",
       "             reg_alpha=0, reg_lambda=1, scale_pos_weight=1, subsample=1,\n",
       "             tree_method='exact', validate_parameters=1, verbosity=None) \n",
       "Lags: [ 1  2  3  4  5  6  7  8  9 10 11 12 13 14 15 16 17 18 19 20 21 22 23 24\n",
       " 25 26 27 28 29 30] \n",
       "Window size: 30 \n",
       "Included exogenous: False \n",
       "Type of exogenous variable: None \n",
       "Exogenous variables names: None \n",
       "Training range: [0, 600] \n",
       "Training index type: RangeIndex \n",
       "Training index frequency: 1 \n",
       "Regressor parameters: {'objective': 'reg:squarederror', 'base_score': 0.5, 'booster': 'gbtree', 'colsample_bylevel': 1, 'colsample_bynode': 1, 'colsample_bytree': 1, 'enable_categorical': False, 'gamma': 0, 'gpu_id': -1, 'importance_type': None, 'interaction_constraints': '', 'learning_rate': 0.09, 'max_delta_step': 0, 'max_depth': 5, 'min_child_weight': 1, 'missing': nan, 'monotone_constraints': '()', 'n_estimators': 500, 'n_jobs': 4, 'num_parallel_tree': 1, 'predictor': 'auto', 'random_state': 123, 'reg_alpha': 0, 'reg_lambda': 1, 'scale_pos_weight': 1, 'subsample': 1, 'tree_method': 'exact', 'validate_parameters': 1, 'verbosity': None} \n",
       "Creation date: 2022-02-02 10:53:45 \n",
       "Last fit date: 2022-02-02 10:55:46 \n",
       "Skforecast version: 0.4.1 "
      ]
     },
     "execution_count": 57,
     "metadata": {},
     "output_type": "execute_result"
    }
   ],
   "source": [
    "forecaster"
   ]
  },
  {
   "cell_type": "code",
   "execution_count": 58,
   "id": "f0726aa8",
   "metadata": {},
   "outputs": [
    {
     "data": {
      "application/vnd.plotly.v1+json": {
       "config": {
        "plotlyServerURL": "https://plot.ly"
       },
       "data": [
        {
         "hovertemplate": "variable=test<br>date_time=%{x}<br>value=%{y}<extra></extra>",
         "legendgroup": "test",
         "line": {
          "color": "#636efa",
          "dash": "solid"
         },
         "marker": {
          "symbol": "circle"
         },
         "mode": "lines",
         "name": "test",
         "orientation": "v",
         "showlegend": true,
         "type": "scatter",
         "x": [
          601,
          602,
          603,
          604,
          605,
          606,
          607,
          608,
          609,
          610,
          611,
          612,
          613,
          614,
          615,
          616,
          617,
          618,
          619,
          620,
          621,
          622,
          623,
          624,
          625,
          626,
          627,
          628,
          629,
          630,
          631,
          632,
          633,
          634,
          635,
          636,
          637,
          638,
          639,
          640,
          641,
          642,
          643,
          644,
          645,
          646,
          647,
          648,
          649,
          650,
          651,
          652,
          653,
          654,
          655,
          656,
          657,
          658,
          659,
          660,
          661,
          662,
          663,
          664,
          665,
          666,
          667,
          668,
          669,
          670,
          671,
          672,
          673,
          674,
          675,
          676,
          677,
          678,
          679,
          680,
          681,
          682,
          683,
          684,
          685,
          686,
          687,
          688,
          689,
          690,
          691,
          692,
          693,
          694,
          695,
          696,
          697,
          698,
          699,
          700,
          701,
          702,
          703,
          704,
          705,
          706,
          707,
          708,
          709,
          710,
          711,
          712,
          713,
          714,
          715,
          716,
          717,
          718,
          719,
          720,
          721,
          722,
          723,
          724,
          725,
          726,
          727,
          728,
          729,
          730,
          731,
          732,
          733,
          734,
          735,
          736
         ],
         "xaxis": "x",
         "y": [
          423179057,
          323001141,
          305419867,
          0,
          0,
          0,
          1274250042,
          442279010,
          339853724,
          241960270,
          105646383,
          0,
          298063296,
          301153974,
          250729372,
          297732388,
          274644992,
          0,
          0,
          532211746,
          592882666,
          559495163,
          538147248,
          459722983,
          0,
          0,
          0,
          971429473,
          587232641,
          358237477,
          301947985,
          0,
          0,
          426478184,
          342967387,
          406513904,
          400924392,
          0,
          153533063,
          105709507,
          469227509,
          434829330,
          272658697,
          251178090,
          201197577,
          75808988,
          0,
          302025487,
          422294360,
          375890536,
          393357179,
          429403683,
          256638668,
          0,
          563159546,
          776893461,
          609472152,
          481694248,
          394307732,
          0,
          0,
          513343797,
          415795750,
          307113775,
          166972260,
          234142619,
          0,
          0,
          510111855,
          392246862,
          266610383,
          177094280,
          146542899,
          0,
          0,
          201254794,
          137038876,
          107999808,
          127270601,
          192743863,
          0,
          0,
          0,
          611314375,
          565033845,
          502184573,
          477369282,
          289151495,
          0,
          489539679,
          695427617,
          526984083,
          408174191,
          392226550,
          0,
          0,
          622136553,
          603692163,
          503797031,
          389157774,
          298627579,
          0,
          0,
          0,
          368853596,
          460475200,
          258555467,
          233009994,
          0,
          0,
          0,
          445062897,
          440185445,
          510045635,
          420745345,
          259216007,
          0,
          477567932,
          667632251,
          530988567,
          398341383,
          332395364,
          209321480,
          0,
          358793211,
          497324580,
          399713350,
          533519026,
          482622146,
          0,
          0,
          0,
          763135176,
          363085445,
          236200655,
          228483931
         ],
         "yaxis": "y"
        },
        {
         "hovertemplate": "variable=prediccion<br>date_time=%{x}<br>value=%{y}<extra></extra>",
         "legendgroup": "prediccion",
         "line": {
          "color": "#EF553B",
          "dash": "solid"
         },
         "marker": {
          "symbol": "circle"
         },
         "mode": "lines",
         "name": "prediccion",
         "orientation": "v",
         "showlegend": true,
         "type": "scatter",
         "x": [
          601,
          602,
          603,
          604,
          605,
          606,
          607,
          608,
          609,
          610,
          611,
          612,
          613,
          614,
          615,
          616,
          617,
          618,
          619,
          620,
          621,
          622,
          623,
          624,
          625,
          626,
          627,
          628,
          629,
          630,
          631,
          632,
          633,
          634,
          635,
          636,
          637,
          638,
          639,
          640,
          641,
          642,
          643,
          644,
          645,
          646,
          647,
          648,
          649,
          650,
          651,
          652,
          653,
          654,
          655,
          656,
          657,
          658,
          659,
          660,
          661,
          662,
          663,
          664,
          665,
          666,
          667,
          668,
          669,
          670,
          671,
          672,
          673,
          674,
          675,
          676,
          677,
          678,
          679,
          680,
          681,
          682,
          683,
          684,
          685,
          686,
          687,
          688,
          689,
          690,
          691,
          692,
          693,
          694,
          695,
          696,
          697,
          698,
          699,
          700,
          701,
          702,
          703,
          704,
          705,
          706,
          707,
          708,
          709,
          710,
          711,
          712,
          713,
          714,
          715,
          716,
          717,
          718,
          719,
          720,
          721,
          722,
          723,
          724,
          725,
          726,
          727,
          728,
          729,
          730,
          731,
          732,
          733,
          734,
          735,
          736
         ],
         "xaxis": "x",
         "y": [
          445298752,
          382567424,
          236680752,
          26105460,
          188543552,
          339720544,
          418914592,
          348553888,
          327561664,
          264617376,
          19620346,
          33114532,
          237170832,
          249196976,
          291890400,
          302418944,
          194858800,
          -8163916,
          1086797.125,
          344365984,
          445345344,
          494752160,
          519011968,
          519209568,
          23991462,
          -12186796,
          777194880,
          709873792,
          556891264,
          393523360,
          293077984,
          46815664,
          138662176,
          168828416,
          463647552,
          470267424,
          353022880,
          305296064,
          62296296,
          8741204,
          269127264,
          224204816,
          444652832,
          254744384,
          192084736,
          14131208,
          -508852.8125,
          479290656,
          556412288,
          527330304,
          494498944,
          481706016,
          100765680,
          -6875649.5,
          545089536,
          725432512,
          545277120,
          336174528,
          275121408,
          7456322.5,
          68367904,
          488774016,
          391723904,
          350225664,
          300819168,
          253210656,
          32042704,
          94836976,
          300195808,
          354078112,
          324088640,
          301616864,
          253219600,
          46324208,
          11356391,
          169552560,
          223971072,
          172177216,
          76648504,
          210179008,
          67484096,
          2480256.75,
          297319808,
          452378016,
          507536576,
          492895232,
          441503232,
          92178992,
          33541952,
          535762464,
          532830720,
          408815264,
          288736672,
          259264208,
          132474280,
          37451420,
          300331680,
          385746400,
          388896608,
          308025856,
          173680016,
          35098820,
          6787580.5,
          183456640,
          170731264,
          133284424,
          78531240,
          160041152,
          14205434,
          -9484538,
          91859216,
          349558848,
          421875744,
          424432576,
          474367040,
          334241088,
          28777936,
          618332608,
          644691968,
          543076096,
          426140096,
          335246720,
          122683744,
          -40852548,
          660598592,
          500892640,
          469165440,
          420391200,
          311226112,
          8105612.5,
          20102416,
          273878656,
          304710656,
          351650048,
          309895328,
          294896576
         ],
         "yaxis": "y"
        }
       ],
       "layout": {
        "height": 500,
        "legend": {
         "title": {
          "text": "variable"
         },
         "tracegroupgap": 0
        },
        "template": {
         "data": {
          "bar": [
           {
            "error_x": {
             "color": "#2a3f5f"
            },
            "error_y": {
             "color": "#2a3f5f"
            },
            "marker": {
             "line": {
              "color": "#E5ECF6",
              "width": 0.5
             },
             "pattern": {
              "fillmode": "overlay",
              "size": 10,
              "solidity": 0.2
             }
            },
            "type": "bar"
           }
          ],
          "barpolar": [
           {
            "marker": {
             "line": {
              "color": "#E5ECF6",
              "width": 0.5
             },
             "pattern": {
              "fillmode": "overlay",
              "size": 10,
              "solidity": 0.2
             }
            },
            "type": "barpolar"
           }
          ],
          "carpet": [
           {
            "aaxis": {
             "endlinecolor": "#2a3f5f",
             "gridcolor": "white",
             "linecolor": "white",
             "minorgridcolor": "white",
             "startlinecolor": "#2a3f5f"
            },
            "baxis": {
             "endlinecolor": "#2a3f5f",
             "gridcolor": "white",
             "linecolor": "white",
             "minorgridcolor": "white",
             "startlinecolor": "#2a3f5f"
            },
            "type": "carpet"
           }
          ],
          "choropleth": [
           {
            "colorbar": {
             "outlinewidth": 0,
             "ticks": ""
            },
            "type": "choropleth"
           }
          ],
          "contour": [
           {
            "colorbar": {
             "outlinewidth": 0,
             "ticks": ""
            },
            "colorscale": [
             [
              0,
              "#0d0887"
             ],
             [
              0.1111111111111111,
              "#46039f"
             ],
             [
              0.2222222222222222,
              "#7201a8"
             ],
             [
              0.3333333333333333,
              "#9c179e"
             ],
             [
              0.4444444444444444,
              "#bd3786"
             ],
             [
              0.5555555555555556,
              "#d8576b"
             ],
             [
              0.6666666666666666,
              "#ed7953"
             ],
             [
              0.7777777777777778,
              "#fb9f3a"
             ],
             [
              0.8888888888888888,
              "#fdca26"
             ],
             [
              1,
              "#f0f921"
             ]
            ],
            "type": "contour"
           }
          ],
          "contourcarpet": [
           {
            "colorbar": {
             "outlinewidth": 0,
             "ticks": ""
            },
            "type": "contourcarpet"
           }
          ],
          "heatmap": [
           {
            "colorbar": {
             "outlinewidth": 0,
             "ticks": ""
            },
            "colorscale": [
             [
              0,
              "#0d0887"
             ],
             [
              0.1111111111111111,
              "#46039f"
             ],
             [
              0.2222222222222222,
              "#7201a8"
             ],
             [
              0.3333333333333333,
              "#9c179e"
             ],
             [
              0.4444444444444444,
              "#bd3786"
             ],
             [
              0.5555555555555556,
              "#d8576b"
             ],
             [
              0.6666666666666666,
              "#ed7953"
             ],
             [
              0.7777777777777778,
              "#fb9f3a"
             ],
             [
              0.8888888888888888,
              "#fdca26"
             ],
             [
              1,
              "#f0f921"
             ]
            ],
            "type": "heatmap"
           }
          ],
          "heatmapgl": [
           {
            "colorbar": {
             "outlinewidth": 0,
             "ticks": ""
            },
            "colorscale": [
             [
              0,
              "#0d0887"
             ],
             [
              0.1111111111111111,
              "#46039f"
             ],
             [
              0.2222222222222222,
              "#7201a8"
             ],
             [
              0.3333333333333333,
              "#9c179e"
             ],
             [
              0.4444444444444444,
              "#bd3786"
             ],
             [
              0.5555555555555556,
              "#d8576b"
             ],
             [
              0.6666666666666666,
              "#ed7953"
             ],
             [
              0.7777777777777778,
              "#fb9f3a"
             ],
             [
              0.8888888888888888,
              "#fdca26"
             ],
             [
              1,
              "#f0f921"
             ]
            ],
            "type": "heatmapgl"
           }
          ],
          "histogram": [
           {
            "marker": {
             "pattern": {
              "fillmode": "overlay",
              "size": 10,
              "solidity": 0.2
             }
            },
            "type": "histogram"
           }
          ],
          "histogram2d": [
           {
            "colorbar": {
             "outlinewidth": 0,
             "ticks": ""
            },
            "colorscale": [
             [
              0,
              "#0d0887"
             ],
             [
              0.1111111111111111,
              "#46039f"
             ],
             [
              0.2222222222222222,
              "#7201a8"
             ],
             [
              0.3333333333333333,
              "#9c179e"
             ],
             [
              0.4444444444444444,
              "#bd3786"
             ],
             [
              0.5555555555555556,
              "#d8576b"
             ],
             [
              0.6666666666666666,
              "#ed7953"
             ],
             [
              0.7777777777777778,
              "#fb9f3a"
             ],
             [
              0.8888888888888888,
              "#fdca26"
             ],
             [
              1,
              "#f0f921"
             ]
            ],
            "type": "histogram2d"
           }
          ],
          "histogram2dcontour": [
           {
            "colorbar": {
             "outlinewidth": 0,
             "ticks": ""
            },
            "colorscale": [
             [
              0,
              "#0d0887"
             ],
             [
              0.1111111111111111,
              "#46039f"
             ],
             [
              0.2222222222222222,
              "#7201a8"
             ],
             [
              0.3333333333333333,
              "#9c179e"
             ],
             [
              0.4444444444444444,
              "#bd3786"
             ],
             [
              0.5555555555555556,
              "#d8576b"
             ],
             [
              0.6666666666666666,
              "#ed7953"
             ],
             [
              0.7777777777777778,
              "#fb9f3a"
             ],
             [
              0.8888888888888888,
              "#fdca26"
             ],
             [
              1,
              "#f0f921"
             ]
            ],
            "type": "histogram2dcontour"
           }
          ],
          "mesh3d": [
           {
            "colorbar": {
             "outlinewidth": 0,
             "ticks": ""
            },
            "type": "mesh3d"
           }
          ],
          "parcoords": [
           {
            "line": {
             "colorbar": {
              "outlinewidth": 0,
              "ticks": ""
             }
            },
            "type": "parcoords"
           }
          ],
          "pie": [
           {
            "automargin": true,
            "type": "pie"
           }
          ],
          "scatter": [
           {
            "marker": {
             "colorbar": {
              "outlinewidth": 0,
              "ticks": ""
             }
            },
            "type": "scatter"
           }
          ],
          "scatter3d": [
           {
            "line": {
             "colorbar": {
              "outlinewidth": 0,
              "ticks": ""
             }
            },
            "marker": {
             "colorbar": {
              "outlinewidth": 0,
              "ticks": ""
             }
            },
            "type": "scatter3d"
           }
          ],
          "scattercarpet": [
           {
            "marker": {
             "colorbar": {
              "outlinewidth": 0,
              "ticks": ""
             }
            },
            "type": "scattercarpet"
           }
          ],
          "scattergeo": [
           {
            "marker": {
             "colorbar": {
              "outlinewidth": 0,
              "ticks": ""
             }
            },
            "type": "scattergeo"
           }
          ],
          "scattergl": [
           {
            "marker": {
             "colorbar": {
              "outlinewidth": 0,
              "ticks": ""
             }
            },
            "type": "scattergl"
           }
          ],
          "scattermapbox": [
           {
            "marker": {
             "colorbar": {
              "outlinewidth": 0,
              "ticks": ""
             }
            },
            "type": "scattermapbox"
           }
          ],
          "scatterpolar": [
           {
            "marker": {
             "colorbar": {
              "outlinewidth": 0,
              "ticks": ""
             }
            },
            "type": "scatterpolar"
           }
          ],
          "scatterpolargl": [
           {
            "marker": {
             "colorbar": {
              "outlinewidth": 0,
              "ticks": ""
             }
            },
            "type": "scatterpolargl"
           }
          ],
          "scatterternary": [
           {
            "marker": {
             "colorbar": {
              "outlinewidth": 0,
              "ticks": ""
             }
            },
            "type": "scatterternary"
           }
          ],
          "surface": [
           {
            "colorbar": {
             "outlinewidth": 0,
             "ticks": ""
            },
            "colorscale": [
             [
              0,
              "#0d0887"
             ],
             [
              0.1111111111111111,
              "#46039f"
             ],
             [
              0.2222222222222222,
              "#7201a8"
             ],
             [
              0.3333333333333333,
              "#9c179e"
             ],
             [
              0.4444444444444444,
              "#bd3786"
             ],
             [
              0.5555555555555556,
              "#d8576b"
             ],
             [
              0.6666666666666666,
              "#ed7953"
             ],
             [
              0.7777777777777778,
              "#fb9f3a"
             ],
             [
              0.8888888888888888,
              "#fdca26"
             ],
             [
              1,
              "#f0f921"
             ]
            ],
            "type": "surface"
           }
          ],
          "table": [
           {
            "cells": {
             "fill": {
              "color": "#EBF0F8"
             },
             "line": {
              "color": "white"
             }
            },
            "header": {
             "fill": {
              "color": "#C8D4E3"
             },
             "line": {
              "color": "white"
             }
            },
            "type": "table"
           }
          ]
         },
         "layout": {
          "annotationdefaults": {
           "arrowcolor": "#2a3f5f",
           "arrowhead": 0,
           "arrowwidth": 1
          },
          "autotypenumbers": "strict",
          "coloraxis": {
           "colorbar": {
            "outlinewidth": 0,
            "ticks": ""
           }
          },
          "colorscale": {
           "diverging": [
            [
             0,
             "#8e0152"
            ],
            [
             0.1,
             "#c51b7d"
            ],
            [
             0.2,
             "#de77ae"
            ],
            [
             0.3,
             "#f1b6da"
            ],
            [
             0.4,
             "#fde0ef"
            ],
            [
             0.5,
             "#f7f7f7"
            ],
            [
             0.6,
             "#e6f5d0"
            ],
            [
             0.7,
             "#b8e186"
            ],
            [
             0.8,
             "#7fbc41"
            ],
            [
             0.9,
             "#4d9221"
            ],
            [
             1,
             "#276419"
            ]
           ],
           "sequential": [
            [
             0,
             "#0d0887"
            ],
            [
             0.1111111111111111,
             "#46039f"
            ],
            [
             0.2222222222222222,
             "#7201a8"
            ],
            [
             0.3333333333333333,
             "#9c179e"
            ],
            [
             0.4444444444444444,
             "#bd3786"
            ],
            [
             0.5555555555555556,
             "#d8576b"
            ],
            [
             0.6666666666666666,
             "#ed7953"
            ],
            [
             0.7777777777777778,
             "#fb9f3a"
            ],
            [
             0.8888888888888888,
             "#fdca26"
            ],
            [
             1,
             "#f0f921"
            ]
           ],
           "sequentialminus": [
            [
             0,
             "#0d0887"
            ],
            [
             0.1111111111111111,
             "#46039f"
            ],
            [
             0.2222222222222222,
             "#7201a8"
            ],
            [
             0.3333333333333333,
             "#9c179e"
            ],
            [
             0.4444444444444444,
             "#bd3786"
            ],
            [
             0.5555555555555556,
             "#d8576b"
            ],
            [
             0.6666666666666666,
             "#ed7953"
            ],
            [
             0.7777777777777778,
             "#fb9f3a"
            ],
            [
             0.8888888888888888,
             "#fdca26"
            ],
            [
             1,
             "#f0f921"
            ]
           ]
          },
          "colorway": [
           "#636efa",
           "#EF553B",
           "#00cc96",
           "#ab63fa",
           "#FFA15A",
           "#19d3f3",
           "#FF6692",
           "#B6E880",
           "#FF97FF",
           "#FECB52"
          ],
          "font": {
           "color": "#2a3f5f"
          },
          "geo": {
           "bgcolor": "white",
           "lakecolor": "white",
           "landcolor": "#E5ECF6",
           "showlakes": true,
           "showland": true,
           "subunitcolor": "white"
          },
          "hoverlabel": {
           "align": "left"
          },
          "hovermode": "closest",
          "mapbox": {
           "style": "light"
          },
          "paper_bgcolor": "white",
          "plot_bgcolor": "#E5ECF6",
          "polar": {
           "angularaxis": {
            "gridcolor": "white",
            "linecolor": "white",
            "ticks": ""
           },
           "bgcolor": "#E5ECF6",
           "radialaxis": {
            "gridcolor": "white",
            "linecolor": "white",
            "ticks": ""
           }
          },
          "scene": {
           "xaxis": {
            "backgroundcolor": "#E5ECF6",
            "gridcolor": "white",
            "gridwidth": 2,
            "linecolor": "white",
            "showbackground": true,
            "ticks": "",
            "zerolinecolor": "white"
           },
           "yaxis": {
            "backgroundcolor": "#E5ECF6",
            "gridcolor": "white",
            "gridwidth": 2,
            "linecolor": "white",
            "showbackground": true,
            "ticks": "",
            "zerolinecolor": "white"
           },
           "zaxis": {
            "backgroundcolor": "#E5ECF6",
            "gridcolor": "white",
            "gridwidth": 2,
            "linecolor": "white",
            "showbackground": true,
            "ticks": "",
            "zerolinecolor": "white"
           }
          },
          "shapedefaults": {
           "line": {
            "color": "#2a3f5f"
           }
          },
          "ternary": {
           "aaxis": {
            "gridcolor": "white",
            "linecolor": "white",
            "ticks": ""
           },
           "baxis": {
            "gridcolor": "white",
            "linecolor": "white",
            "ticks": ""
           },
           "bgcolor": "#E5ECF6",
           "caxis": {
            "gridcolor": "white",
            "linecolor": "white",
            "ticks": ""
           }
          },
          "title": {
           "x": 0.05
          },
          "xaxis": {
           "automargin": true,
           "gridcolor": "white",
           "linecolor": "white",
           "ticks": "",
           "title": {
            "standoff": 15
           },
           "zerolinecolor": "white",
           "zerolinewidth": 2
          },
          "yaxis": {
           "automargin": true,
           "gridcolor": "white",
           "linecolor": "white",
           "ticks": "",
           "title": {
            "standoff": 15
           },
           "zerolinecolor": "white",
           "zerolinewidth": 2
          }
         }
        },
        "title": {
         "text": "Valor Recaudo"
        },
        "width": 900,
        "xaxis": {
         "anchor": "y",
         "domain": [
          0,
          1
         ],
         "rangeslider": {
          "visible": true
         },
         "title": {
          "text": "date_time"
         }
        },
        "yaxis": {
         "anchor": "x",
         "domain": [
          0,
          1
         ],
         "title": {
          "text": "value"
         }
        }
       }
      },
      "text/html": [
       "<div>                            <div id=\"134170a5-f230-4ec2-b454-358a73b98a8d\" class=\"plotly-graph-div\" style=\"height:500px; width:900px;\"></div>            <script type=\"text/javascript\">                require([\"plotly\"], function(Plotly) {                    window.PLOTLYENV=window.PLOTLYENV || {};                                    if (document.getElementById(\"134170a5-f230-4ec2-b454-358a73b98a8d\")) {                    Plotly.newPlot(                        \"134170a5-f230-4ec2-b454-358a73b98a8d\",                        [{\"hovertemplate\":\"variable=test<br>date_time=%{x}<br>value=%{y}<extra></extra>\",\"legendgroup\":\"test\",\"line\":{\"color\":\"#636efa\",\"dash\":\"solid\"},\"marker\":{\"symbol\":\"circle\"},\"mode\":\"lines\",\"name\":\"test\",\"orientation\":\"v\",\"showlegend\":true,\"x\":[601,602,603,604,605,606,607,608,609,610,611,612,613,614,615,616,617,618,619,620,621,622,623,624,625,626,627,628,629,630,631,632,633,634,635,636,637,638,639,640,641,642,643,644,645,646,647,648,649,650,651,652,653,654,655,656,657,658,659,660,661,662,663,664,665,666,667,668,669,670,671,672,673,674,675,676,677,678,679,680,681,682,683,684,685,686,687,688,689,690,691,692,693,694,695,696,697,698,699,700,701,702,703,704,705,706,707,708,709,710,711,712,713,714,715,716,717,718,719,720,721,722,723,724,725,726,727,728,729,730,731,732,733,734,735,736],\"xaxis\":\"x\",\"y\":[423179057.0,323001141.0,305419867.0,0.0,0.0,0.0,1274250042.0,442279010.0,339853724.0,241960270.0,105646383.0,0.0,298063296.0,301153974.0,250729372.0,297732388.0,274644992.0,0.0,0.0,532211746.0,592882666.0,559495163.0,538147248.0,459722983.0,0.0,0.0,0.0,971429473.0,587232641.0,358237477.0,301947985.0,0.0,0.0,426478184.0,342967387.0,406513904.0,400924392.0,0.0,153533063.0,105709507.0,469227509.0,434829330.0,272658697.0,251178090.0,201197577.0,75808988.0,0.0,302025487.0,422294360.0,375890536.0,393357179.0,429403683.0,256638668.0,0.0,563159546.0,776893461.0,609472152.0,481694248.0,394307732.0,0.0,0.0,513343797.0,415795750.0,307113775.0,166972260.0,234142619.0,0.0,0.0,510111855.0,392246862.0,266610383.0,177094280.0,146542899.0,0.0,0.0,201254794.0,137038876.0,107999808.0,127270601.0,192743863.0,0.0,0.0,0.0,611314375.0,565033845.0,502184573.0,477369282.0,289151495.0,0.0,489539679.0,695427617.0,526984083.0,408174191.0,392226550.0,0.0,0.0,622136553.0,603692163.0,503797031.0,389157774.0,298627579.0,0.0,0.0,0.0,368853596.0,460475200.0,258555467.0,233009994.0,0.0,0.0,0.0,445062897.0,440185445.0,510045635.0,420745345.0,259216007.0,0.0,477567932.0,667632251.0,530988567.0,398341383.0,332395364.0,209321480.0,0.0,358793211.0,497324580.0,399713350.0,533519026.0,482622146.0,0.0,0.0,0.0,763135176.0,363085445.0,236200655.0,228483931.0],\"yaxis\":\"y\",\"type\":\"scatter\"},{\"hovertemplate\":\"variable=prediccion<br>date_time=%{x}<br>value=%{y}<extra></extra>\",\"legendgroup\":\"prediccion\",\"line\":{\"color\":\"#EF553B\",\"dash\":\"solid\"},\"marker\":{\"symbol\":\"circle\"},\"mode\":\"lines\",\"name\":\"prediccion\",\"orientation\":\"v\",\"showlegend\":true,\"x\":[601,602,603,604,605,606,607,608,609,610,611,612,613,614,615,616,617,618,619,620,621,622,623,624,625,626,627,628,629,630,631,632,633,634,635,636,637,638,639,640,641,642,643,644,645,646,647,648,649,650,651,652,653,654,655,656,657,658,659,660,661,662,663,664,665,666,667,668,669,670,671,672,673,674,675,676,677,678,679,680,681,682,683,684,685,686,687,688,689,690,691,692,693,694,695,696,697,698,699,700,701,702,703,704,705,706,707,708,709,710,711,712,713,714,715,716,717,718,719,720,721,722,723,724,725,726,727,728,729,730,731,732,733,734,735,736],\"xaxis\":\"x\",\"y\":[445298752.0,382567424.0,236680752.0,26105460.0,188543552.0,339720544.0,418914592.0,348553888.0,327561664.0,264617376.0,19620346.0,33114532.0,237170832.0,249196976.0,291890400.0,302418944.0,194858800.0,-8163916.0,1086797.125,344365984.0,445345344.0,494752160.0,519011968.0,519209568.0,23991462.0,-12186796.0,777194880.0,709873792.0,556891264.0,393523360.0,293077984.0,46815664.0,138662176.0,168828416.0,463647552.0,470267424.0,353022880.0,305296064.0,62296296.0,8741204.0,269127264.0,224204816.0,444652832.0,254744384.0,192084736.0,14131208.0,-508852.8125,479290656.0,556412288.0,527330304.0,494498944.0,481706016.0,100765680.0,-6875649.5,545089536.0,725432512.0,545277120.0,336174528.0,275121408.0,7456322.5,68367904.0,488774016.0,391723904.0,350225664.0,300819168.0,253210656.0,32042704.0,94836976.0,300195808.0,354078112.0,324088640.0,301616864.0,253219600.0,46324208.0,11356391.0,169552560.0,223971072.0,172177216.0,76648504.0,210179008.0,67484096.0,2480256.75,297319808.0,452378016.0,507536576.0,492895232.0,441503232.0,92178992.0,33541952.0,535762464.0,532830720.0,408815264.0,288736672.0,259264208.0,132474280.0,37451420.0,300331680.0,385746400.0,388896608.0,308025856.0,173680016.0,35098820.0,6787580.5,183456640.0,170731264.0,133284424.0,78531240.0,160041152.0,14205434.0,-9484538.0,91859216.0,349558848.0,421875744.0,424432576.0,474367040.0,334241088.0,28777936.0,618332608.0,644691968.0,543076096.0,426140096.0,335246720.0,122683744.0,-40852548.0,660598592.0,500892640.0,469165440.0,420391200.0,311226112.0,8105612.5,20102416.0,273878656.0,304710656.0,351650048.0,309895328.0,294896576.0],\"yaxis\":\"y\",\"type\":\"scatter\"}],                        {\"template\":{\"data\":{\"bar\":[{\"error_x\":{\"color\":\"#2a3f5f\"},\"error_y\":{\"color\":\"#2a3f5f\"},\"marker\":{\"line\":{\"color\":\"#E5ECF6\",\"width\":0.5},\"pattern\":{\"fillmode\":\"overlay\",\"size\":10,\"solidity\":0.2}},\"type\":\"bar\"}],\"barpolar\":[{\"marker\":{\"line\":{\"color\":\"#E5ECF6\",\"width\":0.5},\"pattern\":{\"fillmode\":\"overlay\",\"size\":10,\"solidity\":0.2}},\"type\":\"barpolar\"}],\"carpet\":[{\"aaxis\":{\"endlinecolor\":\"#2a3f5f\",\"gridcolor\":\"white\",\"linecolor\":\"white\",\"minorgridcolor\":\"white\",\"startlinecolor\":\"#2a3f5f\"},\"baxis\":{\"endlinecolor\":\"#2a3f5f\",\"gridcolor\":\"white\",\"linecolor\":\"white\",\"minorgridcolor\":\"white\",\"startlinecolor\":\"#2a3f5f\"},\"type\":\"carpet\"}],\"choropleth\":[{\"colorbar\":{\"outlinewidth\":0,\"ticks\":\"\"},\"type\":\"choropleth\"}],\"contour\":[{\"colorbar\":{\"outlinewidth\":0,\"ticks\":\"\"},\"colorscale\":[[0.0,\"#0d0887\"],[0.1111111111111111,\"#46039f\"],[0.2222222222222222,\"#7201a8\"],[0.3333333333333333,\"#9c179e\"],[0.4444444444444444,\"#bd3786\"],[0.5555555555555556,\"#d8576b\"],[0.6666666666666666,\"#ed7953\"],[0.7777777777777778,\"#fb9f3a\"],[0.8888888888888888,\"#fdca26\"],[1.0,\"#f0f921\"]],\"type\":\"contour\"}],\"contourcarpet\":[{\"colorbar\":{\"outlinewidth\":0,\"ticks\":\"\"},\"type\":\"contourcarpet\"}],\"heatmap\":[{\"colorbar\":{\"outlinewidth\":0,\"ticks\":\"\"},\"colorscale\":[[0.0,\"#0d0887\"],[0.1111111111111111,\"#46039f\"],[0.2222222222222222,\"#7201a8\"],[0.3333333333333333,\"#9c179e\"],[0.4444444444444444,\"#bd3786\"],[0.5555555555555556,\"#d8576b\"],[0.6666666666666666,\"#ed7953\"],[0.7777777777777778,\"#fb9f3a\"],[0.8888888888888888,\"#fdca26\"],[1.0,\"#f0f921\"]],\"type\":\"heatmap\"}],\"heatmapgl\":[{\"colorbar\":{\"outlinewidth\":0,\"ticks\":\"\"},\"colorscale\":[[0.0,\"#0d0887\"],[0.1111111111111111,\"#46039f\"],[0.2222222222222222,\"#7201a8\"],[0.3333333333333333,\"#9c179e\"],[0.4444444444444444,\"#bd3786\"],[0.5555555555555556,\"#d8576b\"],[0.6666666666666666,\"#ed7953\"],[0.7777777777777778,\"#fb9f3a\"],[0.8888888888888888,\"#fdca26\"],[1.0,\"#f0f921\"]],\"type\":\"heatmapgl\"}],\"histogram\":[{\"marker\":{\"pattern\":{\"fillmode\":\"overlay\",\"size\":10,\"solidity\":0.2}},\"type\":\"histogram\"}],\"histogram2d\":[{\"colorbar\":{\"outlinewidth\":0,\"ticks\":\"\"},\"colorscale\":[[0.0,\"#0d0887\"],[0.1111111111111111,\"#46039f\"],[0.2222222222222222,\"#7201a8\"],[0.3333333333333333,\"#9c179e\"],[0.4444444444444444,\"#bd3786\"],[0.5555555555555556,\"#d8576b\"],[0.6666666666666666,\"#ed7953\"],[0.7777777777777778,\"#fb9f3a\"],[0.8888888888888888,\"#fdca26\"],[1.0,\"#f0f921\"]],\"type\":\"histogram2d\"}],\"histogram2dcontour\":[{\"colorbar\":{\"outlinewidth\":0,\"ticks\":\"\"},\"colorscale\":[[0.0,\"#0d0887\"],[0.1111111111111111,\"#46039f\"],[0.2222222222222222,\"#7201a8\"],[0.3333333333333333,\"#9c179e\"],[0.4444444444444444,\"#bd3786\"],[0.5555555555555556,\"#d8576b\"],[0.6666666666666666,\"#ed7953\"],[0.7777777777777778,\"#fb9f3a\"],[0.8888888888888888,\"#fdca26\"],[1.0,\"#f0f921\"]],\"type\":\"histogram2dcontour\"}],\"mesh3d\":[{\"colorbar\":{\"outlinewidth\":0,\"ticks\":\"\"},\"type\":\"mesh3d\"}],\"parcoords\":[{\"line\":{\"colorbar\":{\"outlinewidth\":0,\"ticks\":\"\"}},\"type\":\"parcoords\"}],\"pie\":[{\"automargin\":true,\"type\":\"pie\"}],\"scatter\":[{\"marker\":{\"colorbar\":{\"outlinewidth\":0,\"ticks\":\"\"}},\"type\":\"scatter\"}],\"scatter3d\":[{\"line\":{\"colorbar\":{\"outlinewidth\":0,\"ticks\":\"\"}},\"marker\":{\"colorbar\":{\"outlinewidth\":0,\"ticks\":\"\"}},\"type\":\"scatter3d\"}],\"scattercarpet\":[{\"marker\":{\"colorbar\":{\"outlinewidth\":0,\"ticks\":\"\"}},\"type\":\"scattercarpet\"}],\"scattergeo\":[{\"marker\":{\"colorbar\":{\"outlinewidth\":0,\"ticks\":\"\"}},\"type\":\"scattergeo\"}],\"scattergl\":[{\"marker\":{\"colorbar\":{\"outlinewidth\":0,\"ticks\":\"\"}},\"type\":\"scattergl\"}],\"scattermapbox\":[{\"marker\":{\"colorbar\":{\"outlinewidth\":0,\"ticks\":\"\"}},\"type\":\"scattermapbox\"}],\"scatterpolar\":[{\"marker\":{\"colorbar\":{\"outlinewidth\":0,\"ticks\":\"\"}},\"type\":\"scatterpolar\"}],\"scatterpolargl\":[{\"marker\":{\"colorbar\":{\"outlinewidth\":0,\"ticks\":\"\"}},\"type\":\"scatterpolargl\"}],\"scatterternary\":[{\"marker\":{\"colorbar\":{\"outlinewidth\":0,\"ticks\":\"\"}},\"type\":\"scatterternary\"}],\"surface\":[{\"colorbar\":{\"outlinewidth\":0,\"ticks\":\"\"},\"colorscale\":[[0.0,\"#0d0887\"],[0.1111111111111111,\"#46039f\"],[0.2222222222222222,\"#7201a8\"],[0.3333333333333333,\"#9c179e\"],[0.4444444444444444,\"#bd3786\"],[0.5555555555555556,\"#d8576b\"],[0.6666666666666666,\"#ed7953\"],[0.7777777777777778,\"#fb9f3a\"],[0.8888888888888888,\"#fdca26\"],[1.0,\"#f0f921\"]],\"type\":\"surface\"}],\"table\":[{\"cells\":{\"fill\":{\"color\":\"#EBF0F8\"},\"line\":{\"color\":\"white\"}},\"header\":{\"fill\":{\"color\":\"#C8D4E3\"},\"line\":{\"color\":\"white\"}},\"type\":\"table\"}]},\"layout\":{\"annotationdefaults\":{\"arrowcolor\":\"#2a3f5f\",\"arrowhead\":0,\"arrowwidth\":1},\"autotypenumbers\":\"strict\",\"coloraxis\":{\"colorbar\":{\"outlinewidth\":0,\"ticks\":\"\"}},\"colorscale\":{\"diverging\":[[0,\"#8e0152\"],[0.1,\"#c51b7d\"],[0.2,\"#de77ae\"],[0.3,\"#f1b6da\"],[0.4,\"#fde0ef\"],[0.5,\"#f7f7f7\"],[0.6,\"#e6f5d0\"],[0.7,\"#b8e186\"],[0.8,\"#7fbc41\"],[0.9,\"#4d9221\"],[1,\"#276419\"]],\"sequential\":[[0.0,\"#0d0887\"],[0.1111111111111111,\"#46039f\"],[0.2222222222222222,\"#7201a8\"],[0.3333333333333333,\"#9c179e\"],[0.4444444444444444,\"#bd3786\"],[0.5555555555555556,\"#d8576b\"],[0.6666666666666666,\"#ed7953\"],[0.7777777777777778,\"#fb9f3a\"],[0.8888888888888888,\"#fdca26\"],[1.0,\"#f0f921\"]],\"sequentialminus\":[[0.0,\"#0d0887\"],[0.1111111111111111,\"#46039f\"],[0.2222222222222222,\"#7201a8\"],[0.3333333333333333,\"#9c179e\"],[0.4444444444444444,\"#bd3786\"],[0.5555555555555556,\"#d8576b\"],[0.6666666666666666,\"#ed7953\"],[0.7777777777777778,\"#fb9f3a\"],[0.8888888888888888,\"#fdca26\"],[1.0,\"#f0f921\"]]},\"colorway\":[\"#636efa\",\"#EF553B\",\"#00cc96\",\"#ab63fa\",\"#FFA15A\",\"#19d3f3\",\"#FF6692\",\"#B6E880\",\"#FF97FF\",\"#FECB52\"],\"font\":{\"color\":\"#2a3f5f\"},\"geo\":{\"bgcolor\":\"white\",\"lakecolor\":\"white\",\"landcolor\":\"#E5ECF6\",\"showlakes\":true,\"showland\":true,\"subunitcolor\":\"white\"},\"hoverlabel\":{\"align\":\"left\"},\"hovermode\":\"closest\",\"mapbox\":{\"style\":\"light\"},\"paper_bgcolor\":\"white\",\"plot_bgcolor\":\"#E5ECF6\",\"polar\":{\"angularaxis\":{\"gridcolor\":\"white\",\"linecolor\":\"white\",\"ticks\":\"\"},\"bgcolor\":\"#E5ECF6\",\"radialaxis\":{\"gridcolor\":\"white\",\"linecolor\":\"white\",\"ticks\":\"\"}},\"scene\":{\"xaxis\":{\"backgroundcolor\":\"#E5ECF6\",\"gridcolor\":\"white\",\"gridwidth\":2,\"linecolor\":\"white\",\"showbackground\":true,\"ticks\":\"\",\"zerolinecolor\":\"white\"},\"yaxis\":{\"backgroundcolor\":\"#E5ECF6\",\"gridcolor\":\"white\",\"gridwidth\":2,\"linecolor\":\"white\",\"showbackground\":true,\"ticks\":\"\",\"zerolinecolor\":\"white\"},\"zaxis\":{\"backgroundcolor\":\"#E5ECF6\",\"gridcolor\":\"white\",\"gridwidth\":2,\"linecolor\":\"white\",\"showbackground\":true,\"ticks\":\"\",\"zerolinecolor\":\"white\"}},\"shapedefaults\":{\"line\":{\"color\":\"#2a3f5f\"}},\"ternary\":{\"aaxis\":{\"gridcolor\":\"white\",\"linecolor\":\"white\",\"ticks\":\"\"},\"baxis\":{\"gridcolor\":\"white\",\"linecolor\":\"white\",\"ticks\":\"\"},\"bgcolor\":\"#E5ECF6\",\"caxis\":{\"gridcolor\":\"white\",\"linecolor\":\"white\",\"ticks\":\"\"}},\"title\":{\"x\":0.05},\"xaxis\":{\"automargin\":true,\"gridcolor\":\"white\",\"linecolor\":\"white\",\"ticks\":\"\",\"title\":{\"standoff\":15},\"zerolinecolor\":\"white\",\"zerolinewidth\":2},\"yaxis\":{\"automargin\":true,\"gridcolor\":\"white\",\"linecolor\":\"white\",\"ticks\":\"\",\"title\":{\"standoff\":15},\"zerolinecolor\":\"white\",\"zerolinewidth\":2}}},\"xaxis\":{\"anchor\":\"y\",\"domain\":[0.0,1.0],\"title\":{\"text\":\"date_time\"},\"rangeslider\":{\"visible\":true}},\"yaxis\":{\"anchor\":\"x\",\"domain\":[0.0,1.0],\"title\":{\"text\":\"value\"}},\"legend\":{\"title\":{\"text\":\"variable\"},\"tracegroupgap\":0},\"title\":{\"text\":\"Valor Recaudo\"},\"height\":500,\"width\":900},                        {\"responsive\": true}                    ).then(function(){\n",
       "                            \n",
       "var gd = document.getElementById('134170a5-f230-4ec2-b454-358a73b98a8d');\n",
       "var x = new MutationObserver(function (mutations, observer) {{\n",
       "        var display = window.getComputedStyle(gd).display;\n",
       "        if (!display || display === 'none') {{\n",
       "            console.log([gd, 'removed!']);\n",
       "            Plotly.purge(gd);\n",
       "            observer.disconnect();\n",
       "        }}\n",
       "}});\n",
       "\n",
       "// Listen for the removal of the full notebook cells\n",
       "var notebookContainer = gd.closest('#notebook-container');\n",
       "if (notebookContainer) {{\n",
       "    x.observe(notebookContainer, {childList: true});\n",
       "}}\n",
       "\n",
       "// Listen for the clearing of the current output cell\n",
       "var outputEl = gd.closest('.output');\n",
       "if (outputEl) {{\n",
       "    x.observe(outputEl, {childList: true});\n",
       "}}\n",
       "\n",
       "                        })                };                });            </script>        </div>"
      ]
     },
     "metadata": {},
     "output_type": "display_data"
    }
   ],
   "source": [
    "# Gráfico interactivo serie temporal\n",
    "# ==============================================================================\n",
    "datos_plot = pd.DataFrame({\n",
    "                'test': datos_test['value'],\n",
    "                'prediccion': predicciones['pred'],\n",
    "\n",
    "                 })\n",
    "datos_plot.index.name = 'date_time'\n",
    "\n",
    "fig = px.line(\n",
    "    data_frame = datos_plot.reset_index(),\n",
    "    x      = 'date_time',\n",
    "    y      = datos_plot.columns,\n",
    "    title  = 'Valor Recaudo',\n",
    "    width  = 900,\n",
    "    height = 500\n",
    ")\n",
    "\n",
    "fig.update_xaxes(rangeslider_visible=True)\n",
    "fig.show()"
   ]
  },
  {
   "cell_type": "markdown",
   "id": "7b0fa76c",
   "metadata": {},
   "source": [
    "#### Predicción datos futuros 1"
   ]
  },
  {
   "cell_type": "code",
   "execution_count": 59,
   "id": "b49abbee",
   "metadata": {},
   "outputs": [
    {
     "data": {
      "text/plain": [
       "601    445298752.0\n",
       "602    382567424.0\n",
       "603    236680752.0\n",
       "604     26105460.0\n",
       "605    188543552.0\n",
       "606    339720544.0\n",
       "607    418914592.0\n",
       "608    348553888.0\n",
       "609    327561664.0\n",
       "610    264617376.0\n",
       "Name: pred, dtype: float64"
      ]
     },
     "execution_count": 59,
     "metadata": {},
     "output_type": "execute_result"
    }
   ],
   "source": [
    "predic_datos_futuros1= forecaster.predict(steps= 200)\n",
    "predic_datos_futuros1.head(10)"
   ]
  },
  {
   "cell_type": "code",
   "execution_count": 60,
   "id": "eb22ff0b",
   "metadata": {},
   "outputs": [],
   "source": [
    "#predic_datos_futuros1.to_excel('predic_datos_futuros1.xlsx')    "
   ]
  },
  {
   "cell_type": "code",
   "execution_count": 61,
   "id": "a2884e08",
   "metadata": {},
   "outputs": [
    {
     "data": {
      "image/png": "[encoded data removed]",
      "text/plain": [
       "<Figure size 792x288 with 1 Axes>"
      ]
     },
     "metadata": {
      "needs_background": "light"
     },
     "output_type": "display_data"
    }
   ],
   "source": [
    "fig, ax = plt.subplots(figsize=(11, 4))\n",
    "datos_test['value'].plot(ax=ax, label='test')\n",
    "predic_datos_futuros1.plot(ax=ax, label='predicciones')\n",
    "ax.legend();"
   ]
  },
  {
   "cell_type": "markdown",
   "id": "2b6f336d",
   "metadata": {},
   "source": [
    "## Variables exógenas\n",
    "Se agregó una columna con un 1 para día laboral y ceros para sábados y domingos."
   ]
  },
  {
   "cell_type": "code",
   "execution_count": 62,
   "id": "9a1428e7",
   "metadata": {},
   "outputs": [],
   "source": [
    "from datetime import datetime"
   ]
  },
  {
   "cell_type": "code",
   "execution_count": 88,
   "id": "4e908b7e",
   "metadata": {},
   "outputs": [],
   "source": [
    "# load data\n",
    "data = pd.read_excel(r'C:\\Users\\arias\\Desktop\\DataSet\\recaudoDiarioConfinDeSemana2.xlsx')"
   ]
  },
  {
   "cell_type": "code",
   "execution_count": 89,
   "id": "8ec0271c",
   "metadata": {},
   "outputs": [
    {
     "data": {
      "text/html": [
       "<div>\n",
       "<style scoped>\n",
       "    .dataframe tbody tr th:only-of-type {\n",
       "        vertical-align: middle;\n",
       "    }\n",
       "\n",
       "    .dataframe tbody tr th {\n",
       "        vertical-align: top;\n",
       "    }\n",
       "\n",
       "    .dataframe thead th {\n",
       "        text-align: right;\n",
       "    }\n",
       "</style>\n",
       "<table border=\"1\" class=\"dataframe\">\n",
       "  <thead>\n",
       "    <tr style=\"text-align: right;\">\n",
       "      <th></th>\n",
       "      <th>fecha</th>\n",
       "      <th>value</th>\n",
       "    </tr>\n",
       "  </thead>\n",
       "  <tbody>\n",
       "    <tr>\n",
       "      <th>0</th>\n",
       "      <td>2019-07-04</td>\n",
       "      <td>932383252</td>\n",
       "    </tr>\n",
       "    <tr>\n",
       "      <th>1</th>\n",
       "      <td>2019-07-05</td>\n",
       "      <td>263540907</td>\n",
       "    </tr>\n",
       "    <tr>\n",
       "      <th>2</th>\n",
       "      <td>2019-07-06</td>\n",
       "      <td>0</td>\n",
       "    </tr>\n",
       "    <tr>\n",
       "      <th>3</th>\n",
       "      <td>2019-07-07</td>\n",
       "      <td>0</td>\n",
       "    </tr>\n",
       "    <tr>\n",
       "      <th>4</th>\n",
       "      <td>2019-07-08</td>\n",
       "      <td>301014942</td>\n",
       "    </tr>\n",
       "    <tr>\n",
       "      <th>...</th>\n",
       "      <td>...</td>\n",
       "      <td>...</td>\n",
       "    </tr>\n",
       "    <tr>\n",
       "      <th>732</th>\n",
       "      <td>2021-07-05</td>\n",
       "      <td>0</td>\n",
       "    </tr>\n",
       "    <tr>\n",
       "      <th>733</th>\n",
       "      <td>2021-07-06</td>\n",
       "      <td>763135176</td>\n",
       "    </tr>\n",
       "    <tr>\n",
       "      <th>734</th>\n",
       "      <td>2021-07-07</td>\n",
       "      <td>363085445</td>\n",
       "    </tr>\n",
       "    <tr>\n",
       "      <th>735</th>\n",
       "      <td>2021-07-08</td>\n",
       "      <td>236200655</td>\n",
       "    </tr>\n",
       "    <tr>\n",
       "      <th>736</th>\n",
       "      <td>2021-07-09</td>\n",
       "      <td>228483931</td>\n",
       "    </tr>\n",
       "  </tbody>\n",
       "</table>\n",
       "<p>737 rows × 2 columns</p>\n",
       "</div>"
      ],
      "text/plain": [
       "         fecha      value\n",
       "0   2019-07-04  932383252\n",
       "1   2019-07-05  263540907\n",
       "2   2019-07-06          0\n",
       "3   2019-07-07          0\n",
       "4   2019-07-08  301014942\n",
       "..         ...        ...\n",
       "732 2021-07-05          0\n",
       "733 2021-07-06  763135176\n",
       "734 2021-07-07  363085445\n",
       "735 2021-07-08  236200655\n",
       "736 2021-07-09  228483931\n",
       "\n",
       "[737 rows x 2 columns]"
      ]
     },
     "execution_count": 89,
     "metadata": {},
     "output_type": "execute_result"
    }
   ],
   "source": [
    "data"
   ]
  },
  {
   "cell_type": "code",
   "execution_count": 70,
   "id": "878d5be0",
   "metadata": {},
   "outputs": [
    {
     "data": {
      "text/html": [
       "<div>\n",
       "<style scoped>\n",
       "    .dataframe tbody tr th:only-of-type {\n",
       "        vertical-align: middle;\n",
       "    }\n",
       "\n",
       "    .dataframe tbody tr th {\n",
       "        vertical-align: top;\n",
       "    }\n",
       "\n",
       "    .dataframe thead th {\n",
       "        text-align: right;\n",
       "    }\n",
       "</style>\n",
       "<table border=\"1\" class=\"dataframe\">\n",
       "  <thead>\n",
       "    <tr style=\"text-align: right;\">\n",
       "      <th></th>\n",
       "      <th>fecha</th>\n",
       "      <th>value</th>\n",
       "    </tr>\n",
       "  </thead>\n",
       "  <tbody>\n",
       "    <tr>\n",
       "      <th>0</th>\n",
       "      <td>2019-07-04</td>\n",
       "      <td>932383252.0</td>\n",
       "    </tr>\n",
       "    <tr>\n",
       "      <th>1</th>\n",
       "      <td>2019-07-05</td>\n",
       "      <td>263540907.0</td>\n",
       "    </tr>\n",
       "    <tr>\n",
       "      <th>2</th>\n",
       "      <td>2019-07-06</td>\n",
       "      <td>0.0</td>\n",
       "    </tr>\n",
       "    <tr>\n",
       "      <th>3</th>\n",
       "      <td>2019-07-07</td>\n",
       "      <td>0.0</td>\n",
       "    </tr>\n",
       "    <tr>\n",
       "      <th>4</th>\n",
       "      <td>2019-07-08</td>\n",
       "      <td>301014942.0</td>\n",
       "    </tr>\n",
       "    <tr>\n",
       "      <th>...</th>\n",
       "      <td>...</td>\n",
       "      <td>...</td>\n",
       "    </tr>\n",
       "    <tr>\n",
       "      <th>732</th>\n",
       "      <td>2021-07-05</td>\n",
       "      <td>0.0</td>\n",
       "    </tr>\n",
       "    <tr>\n",
       "      <th>733</th>\n",
       "      <td>2021-07-06</td>\n",
       "      <td>763135176.0</td>\n",
       "    </tr>\n",
       "    <tr>\n",
       "      <th>734</th>\n",
       "      <td>2021-07-07</td>\n",
       "      <td>363085445.0</td>\n",
       "    </tr>\n",
       "    <tr>\n",
       "      <th>735</th>\n",
       "      <td>2021-07-08</td>\n",
       "      <td>236200655.0</td>\n",
       "    </tr>\n",
       "    <tr>\n",
       "      <th>736</th>\n",
       "      <td>2021-07-09</td>\n",
       "      <td>228483931.0</td>\n",
       "    </tr>\n",
       "  </tbody>\n",
       "</table>\n",
       "<p>737 rows × 2 columns</p>\n",
       "</div>"
      ],
      "text/plain": [
       "         fecha        value\n",
       "0   2019-07-04  932383252.0\n",
       "1   2019-07-05  263540907.0\n",
       "2   2019-07-06          0.0\n",
       "3   2019-07-07          0.0\n",
       "4   2019-07-08  301014942.0\n",
       "..         ...          ...\n",
       "732 2021-07-05          0.0\n",
       "733 2021-07-06  763135176.0\n",
       "734 2021-07-07  363085445.0\n",
       "735 2021-07-08  236200655.0\n",
       "736 2021-07-09  228483931.0\n",
       "\n",
       "[737 rows x 2 columns]"
      ]
     },
     "execution_count": 70,
     "metadata": {},
     "output_type": "execute_result"
    }
   ],
   "source": [
    "datos"
   ]
  },
  {
   "cell_type": "code",
   "execution_count": 90,
   "id": "b9e6a5a6",
   "metadata": {},
   "outputs": [],
   "source": [
    "dataos =data\n"
   ]
  },
  {
   "cell_type": "code",
   "execution_count": 91,
   "id": "e4456209",
   "metadata": {},
   "outputs": [],
   "source": [
    "data['weekend'] = np.where(data1.index.dayofweek < 5, 1, 0)\n",
    "#data['weekend'] = data1['weekend'].astype('category')"
   ]
  },
  {
   "cell_type": "code",
   "execution_count": 92,
   "id": "6ed40a8c",
   "metadata": {},
   "outputs": [
    {
     "data": {
      "text/html": [
       "<div>\n",
       "<style scoped>\n",
       "    .dataframe tbody tr th:only-of-type {\n",
       "        vertical-align: middle;\n",
       "    }\n",
       "\n",
       "    .dataframe tbody tr th {\n",
       "        vertical-align: top;\n",
       "    }\n",
       "\n",
       "    .dataframe thead th {\n",
       "        text-align: right;\n",
       "    }\n",
       "</style>\n",
       "<table border=\"1\" class=\"dataframe\">\n",
       "  <thead>\n",
       "    <tr style=\"text-align: right;\">\n",
       "      <th></th>\n",
       "      <th>fecha</th>\n",
       "      <th>value</th>\n",
       "      <th>weekend</th>\n",
       "    </tr>\n",
       "  </thead>\n",
       "  <tbody>\n",
       "    <tr>\n",
       "      <th>0</th>\n",
       "      <td>2019-07-04</td>\n",
       "      <td>932383252</td>\n",
       "      <td>1</td>\n",
       "    </tr>\n",
       "    <tr>\n",
       "      <th>1</th>\n",
       "      <td>2019-07-05</td>\n",
       "      <td>263540907</td>\n",
       "      <td>1</td>\n",
       "    </tr>\n",
       "    <tr>\n",
       "      <th>2</th>\n",
       "      <td>2019-07-06</td>\n",
       "      <td>0</td>\n",
       "      <td>0</td>\n",
       "    </tr>\n",
       "    <tr>\n",
       "      <th>3</th>\n",
       "      <td>2019-07-07</td>\n",
       "      <td>0</td>\n",
       "      <td>0</td>\n",
       "    </tr>\n",
       "    <tr>\n",
       "      <th>4</th>\n",
       "      <td>2019-07-08</td>\n",
       "      <td>301014942</td>\n",
       "      <td>1</td>\n",
       "    </tr>\n",
       "    <tr>\n",
       "      <th>5</th>\n",
       "      <td>2019-07-09</td>\n",
       "      <td>175079127</td>\n",
       "      <td>1</td>\n",
       "    </tr>\n",
       "    <tr>\n",
       "      <th>6</th>\n",
       "      <td>2019-07-10</td>\n",
       "      <td>137211552</td>\n",
       "      <td>1</td>\n",
       "    </tr>\n",
       "    <tr>\n",
       "      <th>7</th>\n",
       "      <td>2019-07-11</td>\n",
       "      <td>75995494</td>\n",
       "      <td>1</td>\n",
       "    </tr>\n",
       "    <tr>\n",
       "      <th>8</th>\n",
       "      <td>2019-07-12</td>\n",
       "      <td>89353363</td>\n",
       "      <td>1</td>\n",
       "    </tr>\n",
       "    <tr>\n",
       "      <th>9</th>\n",
       "      <td>2019-07-13</td>\n",
       "      <td>0</td>\n",
       "      <td>0</td>\n",
       "    </tr>\n",
       "    <tr>\n",
       "      <th>10</th>\n",
       "      <td>2019-07-14</td>\n",
       "      <td>0</td>\n",
       "      <td>0</td>\n",
       "    </tr>\n",
       "    <tr>\n",
       "      <th>11</th>\n",
       "      <td>2019-07-15</td>\n",
       "      <td>232265653</td>\n",
       "      <td>1</td>\n",
       "    </tr>\n",
       "    <tr>\n",
       "      <th>12</th>\n",
       "      <td>2019-07-16</td>\n",
       "      <td>265609266</td>\n",
       "      <td>1</td>\n",
       "    </tr>\n",
       "    <tr>\n",
       "      <th>13</th>\n",
       "      <td>2019-07-17</td>\n",
       "      <td>0</td>\n",
       "      <td>1</td>\n",
       "    </tr>\n",
       "    <tr>\n",
       "      <th>14</th>\n",
       "      <td>2019-07-18</td>\n",
       "      <td>799105851</td>\n",
       "      <td>1</td>\n",
       "    </tr>\n",
       "    <tr>\n",
       "      <th>15</th>\n",
       "      <td>2019-07-19</td>\n",
       "      <td>431922307</td>\n",
       "      <td>1</td>\n",
       "    </tr>\n",
       "    <tr>\n",
       "      <th>16</th>\n",
       "      <td>2019-07-20</td>\n",
       "      <td>0</td>\n",
       "      <td>0</td>\n",
       "    </tr>\n",
       "    <tr>\n",
       "      <th>17</th>\n",
       "      <td>2019-07-21</td>\n",
       "      <td>0</td>\n",
       "      <td>0</td>\n",
       "    </tr>\n",
       "    <tr>\n",
       "      <th>18</th>\n",
       "      <td>2019-07-22</td>\n",
       "      <td>659301551</td>\n",
       "      <td>1</td>\n",
       "    </tr>\n",
       "    <tr>\n",
       "      <th>19</th>\n",
       "      <td>2019-07-23</td>\n",
       "      <td>865419048</td>\n",
       "      <td>1</td>\n",
       "    </tr>\n",
       "  </tbody>\n",
       "</table>\n",
       "</div>"
      ],
      "text/plain": [
       "        fecha      value  weekend\n",
       "0  2019-07-04  932383252        1\n",
       "1  2019-07-05  263540907        1\n",
       "2  2019-07-06          0        0\n",
       "3  2019-07-07          0        0\n",
       "4  2019-07-08  301014942        1\n",
       "5  2019-07-09  175079127        1\n",
       "6  2019-07-10  137211552        1\n",
       "7  2019-07-11   75995494        1\n",
       "8  2019-07-12   89353363        1\n",
       "9  2019-07-13          0        0\n",
       "10 2019-07-14          0        0\n",
       "11 2019-07-15  232265653        1\n",
       "12 2019-07-16  265609266        1\n",
       "13 2019-07-17          0        1\n",
       "14 2019-07-18  799105851        1\n",
       "15 2019-07-19  431922307        1\n",
       "16 2019-07-20          0        0\n",
       "17 2019-07-21          0        0\n",
       "18 2019-07-22  659301551        1\n",
       "19 2019-07-23  865419048        1"
      ]
     },
     "execution_count": 92,
     "metadata": {},
     "output_type": "execute_result"
    }
   ],
   "source": [
    "data.head(20)"
   ]
  },
  {
   "cell_type": "code",
   "execution_count": 93,
   "id": "cdb1b69f",
   "metadata": {},
   "outputs": [],
   "source": [
    "# Como los datos han sido modificados, se repite el reparto en train, val y test.\n",
    "datos_train = data.loc[0:478]\n",
    "datos_val   = data.loc[479:600]\n",
    "datos_test  = data.loc[601:737]"
   ]
  },
  {
   "cell_type": "code",
   "execution_count": 94,
   "id": "e241eb0d",
   "metadata": {},
   "outputs": [
    {
     "data": {
      "text/plain": [
       "================= \n",
       "ForecasterAutoreg \n",
       "================= \n",
       "Regressor: XGBRegressor(base_score=None, booster=None, colsample_bylevel=None,\n",
       "             colsample_bynode=None, colsample_bytree=None,\n",
       "             enable_categorical=False, gamma=None, gpu_id=None,\n",
       "             importance_type=None, interaction_constraints=None,\n",
       "             learning_rate=None, max_delta_step=None, max_depth=None,\n",
       "             min_child_weight=None, missing=nan, monotone_constraints=None,\n",
       "             n_estimators=100, n_jobs=None, num_parallel_tree=None,\n",
       "             predictor=None, random_state=123, reg_alpha=None, reg_lambda=None,\n",
       "             scale_pos_weight=None, subsample=None, tree_method=None,\n",
       "             validate_parameters=None, verbosity=None) \n",
       "Lags: [ 1  2  3  4  5  6  7  8  9 10 11 12 13 14 15 16 17 18 19 20 21 22 23 24\n",
       " 25 26 27 28 29 30] \n",
       "Window size: 30 \n",
       "Included exogenous: False \n",
       "Type of exogenous variable: None \n",
       "Exogenous variables names: None \n",
       "Training range: None \n",
       "Training index type: None \n",
       "Training index frequency: None \n",
       "Regressor parameters: {'objective': 'reg:squarederror', 'base_score': None, 'booster': None, 'colsample_bylevel': None, 'colsample_bynode': None, 'colsample_bytree': None, 'enable_categorical': False, 'gamma': None, 'gpu_id': None, 'importance_type': None, 'interaction_constraints': None, 'learning_rate': None, 'max_delta_step': None, 'max_depth': None, 'min_child_weight': None, 'missing': nan, 'monotone_constraints': None, 'n_estimators': 100, 'n_jobs': None, 'num_parallel_tree': None, 'predictor': None, 'random_state': 123, 'reg_alpha': None, 'reg_lambda': None, 'scale_pos_weight': None, 'subsample': None, 'tree_method': None, 'validate_parameters': None, 'verbosity': None} \n",
       "Creation date: 2022-02-02 11:37:27 \n",
       "Last fit date: None \n",
       "Skforecast version: 0.4.1 "
      ]
     },
     "execution_count": 94,
     "metadata": {},
     "output_type": "execute_result"
    }
   ],
   "source": [
    "# Se entrena nuevamente el modelo\n",
    "forecaster = ForecasterAutoreg(\n",
    "                regressor = XGBRegressor(random_state=123),\n",
    "                lags = 30\n",
    "             )\n",
    "\n",
    "forecaster"
   ]
  },
  {
   "cell_type": "code",
   "execution_count": 96,
   "id": "77d10098",
   "metadata": {},
   "outputs": [
    {
     "name": "stdout",
     "output_type": "stream",
     "text": [
      "Number of models compared: 54\n"
     ]
    },
    {
     "name": "stderr",
     "output_type": "stream",
     "text": [
      "loop lags_grid:   0%|                                               | 0/3 [00:00<?, ?it/s]\n",
      "loop param_grid:   0%|                                             | 0/18 [00:00<?, ?it/s]\u001b[A\n",
      "loop param_grid:   6%|██                                   | 1/18 [00:00<00:13,  1.22it/s]\u001b[A\n",
      "loop param_grid:  11%|████                                 | 2/18 [00:02<00:17,  1.12s/it]\u001b[A\n",
      "loop param_grid:  17%|██████▏                              | 3/18 [00:03<00:15,  1.01s/it]\u001b[A\n",
      "loop param_grid:  22%|████████▏                            | 4/18 [00:04<00:16,  1.17s/it]\u001b[A\n",
      "loop param_grid:  28%|██████████▎                          | 5/18 [00:05<00:14,  1.09s/it]\u001b[A\n",
      "loop param_grid:  33%|████████████▎                        | 6/18 [00:07<00:18,  1.57s/it]\u001b[A\n",
      "loop param_grid:  39%|██████████████▍                      | 7/18 [00:08<00:14,  1.31s/it]\u001b[A\n",
      "loop param_grid:  44%|████████████████▍                    | 8/18 [00:09<00:12,  1.26s/it]\u001b[A\n",
      "loop param_grid:  50%|██████████████████▌                  | 9/18 [00:10<00:10,  1.15s/it]\u001b[A\n",
      "loop param_grid:  56%|████████████████████                | 10/18 [00:12<00:09,  1.24s/it]\u001b[A\n",
      "loop param_grid:  61%|██████████████████████              | 11/18 [00:13<00:08,  1.19s/it]\u001b[A\n",
      "loop param_grid:  67%|████████████████████████            | 12/18 [00:15<00:09,  1.51s/it]\u001b[A\n",
      "loop param_grid:  72%|██████████████████████████          | 13/18 [00:16<00:06,  1.29s/it]\u001b[A\n",
      "loop param_grid:  78%|████████████████████████████        | 14/18 [00:17<00:05,  1.25s/it]\u001b[A\n",
      "loop param_grid:  83%|██████████████████████████████      | 15/18 [00:18<00:03,  1.12s/it]\u001b[A\n",
      "loop param_grid:  89%|████████████████████████████████    | 16/18 [00:19<00:02,  1.21s/it]\u001b[A\n",
      "loop param_grid:  94%|██████████████████████████████████  | 17/18 [00:20<00:01,  1.15s/it]\u001b[A\n",
      "loop param_grid: 100%|████████████████████████████████████| 18/18 [00:23<00:00,  1.54s/it]\u001b[A\n",
      "loop lags_grid:  33%|█████████████                          | 1/3 [00:23<00:46, 23.14s/it]\u001b[A\n",
      "loop param_grid:   0%|                                             | 0/18 [00:00<?, ?it/s]\u001b[A\n",
      "loop param_grid:   6%|██                                   | 1/18 [00:00<00:14,  1.16it/s]\u001b[A\n",
      "loop param_grid:  11%|████                                 | 2/18 [00:02<00:19,  1.22s/it]\u001b[A\n",
      "loop param_grid:  17%|██████▏                              | 3/18 [00:03<00:16,  1.10s/it]\u001b[A\n",
      "loop param_grid:  22%|████████▏                            | 4/18 [00:05<00:19,  1.43s/it]\u001b[A\n",
      "loop param_grid:  28%|██████████▎                          | 5/18 [00:06<00:17,  1.36s/it]\u001b[A\n",
      "loop param_grid:  33%|████████████▎                        | 6/18 [00:09<00:23,  1.92s/it]\u001b[A\n",
      "loop param_grid:  39%|██████████████▍                      | 7/18 [00:10<00:17,  1.59s/it]\u001b[A\n",
      "loop param_grid:  44%|████████████████▍                    | 8/18 [00:11<00:15,  1.59s/it]\u001b[A\n",
      "loop param_grid:  50%|██████████████████▌                  | 9/18 [00:12<00:12,  1.41s/it]\u001b[A\n",
      "loop param_grid:  56%|████████████████████                | 10/18 [00:14<00:12,  1.60s/it]\u001b[A\n",
      "loop param_grid:  61%|██████████████████████              | 11/18 [00:16<00:10,  1.49s/it]\u001b[A\n",
      "loop param_grid:  67%|████████████████████████            | 12/18 [00:19<00:11,  1.97s/it]\u001b[A\n",
      "loop param_grid:  72%|██████████████████████████          | 13/18 [00:20<00:08,  1.64s/it]\u001b[A\n",
      "loop param_grid:  78%|████████████████████████████        | 14/18 [00:21<00:06,  1.58s/it]\u001b[A\n",
      "loop param_grid:  83%|██████████████████████████████      | 15/18 [00:22<00:04,  1.40s/it]\u001b[A\n",
      "loop param_grid:  89%|████████████████████████████████    | 16/18 [00:24<00:03,  1.56s/it]\u001b[A\n",
      "loop param_grid:  94%|██████████████████████████████████  | 17/18 [00:25<00:01,  1.46s/it]\u001b[A\n",
      "loop param_grid: 100%|████████████████████████████████████| 18/18 [00:29<00:00,  2.05s/it]\u001b[A\n",
      "loop lags_grid:  67%|██████████████████████████             | 2/3 [00:52<00:26, 26.71s/it]\u001b[A\n",
      "loop param_grid:   0%|                                             | 0/18 [00:00<?, ?it/s]\u001b[A\n",
      "loop param_grid:   6%|██                                   | 1/18 [00:00<00:11,  1.45it/s]\u001b[A\n",
      "loop param_grid:  11%|████                                 | 2/18 [00:01<00:15,  1.06it/s]\u001b[A\n",
      "loop param_grid:  17%|██████▏                              | 3/18 [00:02<00:13,  1.10it/s]\u001b[A\n",
      "loop param_grid:  22%|████████▏                            | 4/18 [00:03<00:14,  1.05s/it]\u001b[A\n",
      "loop param_grid:  28%|██████████▎                          | 5/18 [00:04<00:13,  1.03s/it]\u001b[A\n",
      "loop param_grid:  33%|████████████▎                        | 6/18 [00:06<00:16,  1.34s/it]\u001b[A\n",
      "loop param_grid:  39%|██████████████▍                      | 7/18 [00:07<00:12,  1.16s/it]\u001b[A\n",
      "loop param_grid:  44%|████████████████▍                    | 8/18 [00:08<00:11,  1.14s/it]\u001b[A\n",
      "loop param_grid:  50%|██████████████████▌                  | 9/18 [00:09<00:09,  1.05s/it]\u001b[A\n",
      "loop param_grid:  56%|████████████████████                | 10/18 [00:10<00:09,  1.14s/it]\u001b[A\n",
      "loop param_grid:  61%|██████████████████████              | 11/18 [00:11<00:07,  1.10s/it]\u001b[A\n",
      "loop param_grid:  67%|████████████████████████            | 12/18 [00:13<00:08,  1.38s/it]\u001b[A\n",
      "loop param_grid:  72%|██████████████████████████          | 13/18 [00:14<00:06,  1.21s/it]\u001b[A\n",
      "loop param_grid:  78%|████████████████████████████        | 14/18 [00:15<00:04,  1.19s/it]\u001b[A\n",
      "loop param_grid:  83%|██████████████████████████████      | 15/18 [00:16<00:03,  1.07s/it]\u001b[A\n",
      "loop param_grid:  89%|████████████████████████████████    | 16/18 [00:18<00:02,  1.13s/it]\u001b[A\n",
      "loop param_grid:  94%|██████████████████████████████████  | 17/18 [00:19<00:01,  1.10s/it]\u001b[A\n",
      "loop param_grid: 100%|████████████████████████████████████| 18/18 [00:20<00:00,  1.33s/it]\u001b[A\n",
      "loop lags_grid: 100%|███████████████████████████████████████| 3/3 [01:13<00:00, 24.43s/it]\u001b[A\n"
     ]
    },
    {
     "name": "stdout",
     "output_type": "stream",
     "text": [
      "Refitting `forecaster` using the best found parameters and the whole data set: \n",
      "  lags: [ 1  2  3  4  5  6  7  8  9 10 11 12 13 14 15 16 17 18 19 20 21 22 23 24\n",
      " 25 26 27 28 29 30] \n",
      "  params: {'learning_rate': 0.15, 'max_depth': 5, 'n_estimators': 100}\n",
      "\n"
     ]
    }
   ],
   "source": [
    "# Hiperparámetros del regresor\n",
    "param_grid = {\n",
    "    'n_estimators': [100, 500],\n",
    "    'max_depth': [3, 5, 10],\n",
    "    'learning_rate': [0.09, 0.1, 0.15]\n",
    "}\n",
    "\n",
    "# Lags utilizados como predictores\n",
    "lags_grid = [7, 30, [1, 2, 3]]\n",
    "\n",
    "\n",
    "resultados_grid = grid_search_forecaster(\n",
    "        forecaster         = forecaster,\n",
    "        y                  = data.loc[:600, 'value'], # conjunto de train y validación\n",
    "        param_grid         = param_grid,\n",
    "        lags_grid          = lags_grid,\n",
    "        steps              = 60, # Número de pasos a predecir\n",
    "        refit              = False,\n",
    "        metric             = 'mean_squared_error', #error cuadrático medio\n",
    "        initial_train_size = int(len(datos_train)), # El modelo se entrena con los datos de entrenamiento\n",
    "        return_best        = True,\n",
    "        verbose            = False\n",
    ")"
   ]
  },
  {
   "cell_type": "code",
   "execution_count": 97,
   "id": "b5919207",
   "metadata": {},
   "outputs": [
    {
     "data": {
      "text/plain": [
       "================= \n",
       "ForecasterAutoreg \n",
       "================= \n",
       "Regressor: XGBRegressor(base_score=0.5, booster='gbtree', colsample_bylevel=1,\n",
       "             colsample_bynode=1, colsample_bytree=1, enable_categorical=False,\n",
       "             gamma=0, gpu_id=-1, importance_type=None,\n",
       "             interaction_constraints='', learning_rate=0.15, max_delta_step=0,\n",
       "             max_depth=5, min_child_weight=1, missing=nan,\n",
       "             monotone_constraints='()', n_estimators=100, n_jobs=4,\n",
       "             num_parallel_tree=1, predictor='auto', random_state=123,\n",
       "             reg_alpha=0, reg_lambda=1, scale_pos_weight=1, subsample=1,\n",
       "             tree_method='exact', validate_parameters=1, verbosity=None) \n",
       "Lags: [ 1  2  3  4  5  6  7  8  9 10 11 12 13 14 15 16 17 18 19 20 21 22 23 24\n",
       " 25 26 27 28 29 30] \n",
       "Window size: 30 \n",
       "Included exogenous: False \n",
       "Type of exogenous variable: None \n",
       "Exogenous variables names: None \n",
       "Training range: [0, 600] \n",
       "Training index type: RangeIndex \n",
       "Training index frequency: 1 \n",
       "Regressor parameters: {'objective': 'reg:squarederror', 'base_score': 0.5, 'booster': 'gbtree', 'colsample_bylevel': 1, 'colsample_bynode': 1, 'colsample_bytree': 1, 'enable_categorical': False, 'gamma': 0, 'gpu_id': -1, 'importance_type': None, 'interaction_constraints': '', 'learning_rate': 0.15, 'max_delta_step': 0, 'max_depth': 5, 'min_child_weight': 1, 'missing': nan, 'monotone_constraints': '()', 'n_estimators': 100, 'n_jobs': 4, 'num_parallel_tree': 1, 'predictor': 'auto', 'random_state': 123, 'reg_alpha': 0, 'reg_lambda': 1, 'scale_pos_weight': 1, 'subsample': 1, 'tree_method': 'exact', 'validate_parameters': 1, 'verbosity': None} \n",
       "Creation date: 2022-02-02 11:37:27 \n",
       "Last fit date: 2022-02-02 11:39:14 \n",
       "Skforecast version: 0.4.1 "
      ]
     },
     "execution_count": 97,
     "metadata": {},
     "output_type": "execute_result"
    }
   ],
   "source": [
    "forecaster"
   ]
  },
  {
   "cell_type": "code",
   "execution_count": 98,
   "id": "b89bd604",
   "metadata": {},
   "outputs": [
    {
     "name": "stdout",
     "output_type": "stream",
     "text": [
      "Error de backtest: [2.40807353e+16]\n"
     ]
    }
   ],
   "source": [
    "# Backtesting\n",
    "# ==============================================================================\n",
    "metric, predicciones = backtesting_forecaster(\n",
    "    forecaster = forecaster,\n",
    "    y          = data['value'],\n",
    "    initial_train_size = len(data.loc[:600]),\n",
    "    steps      = 30,\n",
    "    refit      = False,\n",
    "    metric     = 'mean_squared_error',\n",
    "    verbose    = False # Change to True to see detailed information\n",
    ")\n",
    "\n",
    "print(f\"Error de backtest: {metric}\")"
   ]
  },
  {
   "cell_type": "code",
   "execution_count": 99,
   "id": "1cfc0466",
   "metadata": {},
   "outputs": [
    {
     "data": {
      "application/vnd.plotly.v1+json": {
       "config": {
        "plotlyServerURL": "https://plot.ly"
       },
       "data": [
        {
         "hovertemplate": "variable=test<br>date_time=%{x}<br>value=%{y}<extra></extra>",
         "legendgroup": "test",
         "line": {
          "color": "#636efa",
          "dash": "solid"
         },
         "marker": {
          "symbol": "circle"
         },
         "mode": "lines",
         "name": "test",
         "orientation": "v",
         "showlegend": true,
         "type": "scatter",
         "x": [
          601,
          602,
          603,
          604,
          605,
          606,
          607,
          608,
          609,
          610,
          611,
          612,
          613,
          614,
          615,
          616,
          617,
          618,
          619,
          620,
          621,
          622,
          623,
          624,
          625,
          626,
          627,
          628,
          629,
          630,
          631,
          632,
          633,
          634,
          635,
          636,
          637,
          638,
          639,
          640,
          641,
          642,
          643,
          644,
          645,
          646,
          647,
          648,
          649,
          650,
          651,
          652,
          653,
          654,
          655,
          656,
          657,
          658,
          659,
          660,
          661,
          662,
          663,
          664,
          665,
          666,
          667,
          668,
          669,
          670,
          671,
          672,
          673,
          674,
          675,
          676,
          677,
          678,
          679,
          680,
          681,
          682,
          683,
          684,
          685,
          686,
          687,
          688,
          689,
          690,
          691,
          692,
          693,
          694,
          695,
          696,
          697,
          698,
          699,
          700,
          701,
          702,
          703,
          704,
          705,
          706,
          707,
          708,
          709,
          710,
          711,
          712,
          713,
          714,
          715,
          716,
          717,
          718,
          719,
          720,
          721,
          722,
          723,
          724,
          725,
          726,
          727,
          728,
          729,
          730,
          731,
          732,
          733,
          734,
          735,
          736
         ],
         "xaxis": "x",
         "y": [
          423179057,
          323001141,
          305419867,
          0,
          0,
          0,
          1274250042,
          442279010,
          339853724,
          241960270,
          105646383,
          0,
          298063296,
          301153974,
          250729372,
          297732388,
          274644992,
          0,
          0,
          532211746,
          592882666,
          559495163,
          538147248,
          459722983,
          0,
          0,
          0,
          971429473,
          587232641,
          358237477,
          301947985,
          0,
          0,
          426478184,
          342967387,
          406513904,
          400924392,
          0,
          153533063,
          105709507,
          469227509,
          434829330,
          272658697,
          251178090,
          201197577,
          75808988,
          0,
          302025487,
          422294360,
          375890536,
          393357179,
          429403683,
          256638668,
          0,
          563159546,
          776893461,
          609472152,
          481694248,
          394307732,
          0,
          0,
          513343797,
          415795750,
          307113775,
          166972260,
          234142619,
          0,
          0,
          510111855,
          392246862,
          266610383,
          177094280,
          146542899,
          0,
          0,
          201254794,
          137038876,
          107999808,
          127270601,
          192743863,
          0,
          0,
          0,
          611314375,
          565033845,
          502184573,
          477369282,
          289151495,
          0,
          489539679,
          695427617,
          526984083,
          408174191,
          392226550,
          0,
          0,
          622136553,
          603692163,
          503797031,
          389157774,
          298627579,
          0,
          0,
          0,
          368853596,
          460475200,
          258555467,
          233009994,
          0,
          0,
          0,
          445062897,
          440185445,
          510045635,
          420745345,
          259216007,
          0,
          477567932,
          667632251,
          530988567,
          398341383,
          332395364,
          209321480,
          0,
          358793211,
          497324580,
          399713350,
          533519026,
          482622146,
          0,
          0,
          0,
          763135176,
          363085445,
          236200655,
          228483931
         ],
         "yaxis": "y"
        },
        {
         "hovertemplate": "variable=prediccion<br>date_time=%{x}<br>value=%{y}<extra></extra>",
         "legendgroup": "prediccion",
         "line": {
          "color": "#EF553B",
          "dash": "solid"
         },
         "marker": {
          "symbol": "circle"
         },
         "mode": "lines",
         "name": "prediccion",
         "orientation": "v",
         "showlegend": true,
         "type": "scatter",
         "x": [
          601,
          602,
          603,
          604,
          605,
          606,
          607,
          608,
          609,
          610,
          611,
          612,
          613,
          614,
          615,
          616,
          617,
          618,
          619,
          620,
          621,
          622,
          623,
          624,
          625,
          626,
          627,
          628,
          629,
          630,
          631,
          632,
          633,
          634,
          635,
          636,
          637,
          638,
          639,
          640,
          641,
          642,
          643,
          644,
          645,
          646,
          647,
          648,
          649,
          650,
          651,
          652,
          653,
          654,
          655,
          656,
          657,
          658,
          659,
          660,
          661,
          662,
          663,
          664,
          665,
          666,
          667,
          668,
          669,
          670,
          671,
          672,
          673,
          674,
          675,
          676,
          677,
          678,
          679,
          680,
          681,
          682,
          683,
          684,
          685,
          686,
          687,
          688,
          689,
          690,
          691,
          692,
          693,
          694,
          695,
          696,
          697,
          698,
          699,
          700,
          701,
          702,
          703,
          704,
          705,
          706,
          707,
          708,
          709,
          710,
          711,
          712,
          713,
          714,
          715,
          716,
          717,
          718,
          719,
          720,
          721,
          722,
          723,
          724,
          725,
          726,
          727,
          728,
          729,
          730,
          731,
          732,
          733,
          734,
          735,
          736
         ],
         "xaxis": "x",
         "y": [
          436329376,
          356473440,
          258127392,
          51136620,
          151903776,
          351904096,
          549613248,
          416703072,
          295352736,
          294446272,
          532163.0625,
          28195496,
          231027904,
          255843776,
          303468928,
          293935264,
          260888464,
          -20627000,
          8323276.5,
          463476032,
          528654592,
          497438336,
          508688832,
          472190720,
          9950616,
          -3827280,
          878081024,
          622969344,
          489295296,
          315650880,
          298021472,
          55663704,
          126103552,
          209672064,
          554533760,
          355883872,
          334835680,
          314560224,
          51133556,
          23882724,
          244755120,
          189168640,
          467744672,
          272943616,
          174059648,
          19382418,
          2075649,
          458927680,
          517050048,
          507006496,
          498681856,
          490478880,
          135671056,
          -17659078,
          424903680,
          773987968,
          580964224,
          321226560,
          296966880,
          54905548,
          94967960,
          495624768,
          410602208,
          336707968,
          303208832,
          211938016,
          62527488,
          39014744,
          442374816,
          312232544,
          293829184,
          280648864,
          270301152,
          53872768,
          -4856083.5,
          205043216,
          287113568,
          273198272,
          227690848,
          256652528,
          138875216,
          32248656,
          282564704,
          504990848,
          491075168,
          490200928,
          446779776,
          79740624,
          703839,
          539849408,
          524199808,
          411856896,
          320372896,
          269172256,
          116219336,
          33786868,
          351718304,
          385085760,
          376321312,
          325099200,
          234210976,
          20915866,
          -5850945,
          176615088,
          205415248,
          288842048,
          202959744,
          176863728,
          28822110,
          -14306484,
          119937376,
          469575072,
          475375616,
          475897952,
          500179872,
          311732992,
          7075877,
          503920896,
          599361216,
          490042592,
          420145984,
          308632288,
          134118688,
          -24632460,
          592539968,
          553379648,
          397605632,
          360565472,
          306450432,
          30985068,
          27209862,
          269216896,
          257652048,
          285977312,
          284185536,
          292999744
         ],
         "yaxis": "y"
        }
       ],
       "layout": {
        "height": 500,
        "legend": {
         "title": {
          "text": "variable"
         },
         "tracegroupgap": 0
        },
        "template": {
         "data": {
          "bar": [
           {
            "error_x": {
             "color": "#2a3f5f"
            },
            "error_y": {
             "color": "#2a3f5f"
            },
            "marker": {
             "line": {
              "color": "#E5ECF6",
              "width": 0.5
             },
             "pattern": {
              "fillmode": "overlay",
              "size": 10,
              "solidity": 0.2
             }
            },
            "type": "bar"
           }
          ],
          "barpolar": [
           {
            "marker": {
             "line": {
              "color": "#E5ECF6",
              "width": 0.5
             },
             "pattern": {
              "fillmode": "overlay",
              "size": 10,
              "solidity": 0.2
             }
            },
            "type": "barpolar"
           }
          ],
          "carpet": [
           {
            "aaxis": {
             "endlinecolor": "#2a3f5f",
             "gridcolor": "white",
             "linecolor": "white",
             "minorgridcolor": "white",
             "startlinecolor": "#2a3f5f"
            },
            "baxis": {
             "endlinecolor": "#2a3f5f",
             "gridcolor": "white",
             "linecolor": "white",
             "minorgridcolor": "white",
             "startlinecolor": "#2a3f5f"
            },
            "type": "carpet"
           }
          ],
          "choropleth": [
           {
            "colorbar": {
             "outlinewidth": 0,
             "ticks": ""
            },
            "type": "choropleth"
           }
          ],
          "contour": [
           {
            "colorbar": {
             "outlinewidth": 0,
             "ticks": ""
            },
            "colorscale": [
             [
              0,
              "#0d0887"
             ],
             [
              0.1111111111111111,
              "#46039f"
             ],
             [
              0.2222222222222222,
              "#7201a8"
             ],
             [
              0.3333333333333333,
              "#9c179e"
             ],
             [
              0.4444444444444444,
              "#bd3786"
             ],
             [
              0.5555555555555556,
              "#d8576b"
             ],
             [
              0.6666666666666666,
              "#ed7953"
             ],
             [
              0.7777777777777778,
              "#fb9f3a"
             ],
             [
              0.8888888888888888,
              "#fdca26"
             ],
             [
              1,
              "#f0f921"
             ]
            ],
            "type": "contour"
           }
          ],
          "contourcarpet": [
           {
            "colorbar": {
             "outlinewidth": 0,
             "ticks": ""
            },
            "type": "contourcarpet"
           }
          ],
          "heatmap": [
           {
            "colorbar": {
             "outlinewidth": 0,
             "ticks": ""
            },
            "colorscale": [
             [
              0,
              "#0d0887"
             ],
             [
              0.1111111111111111,
              "#46039f"
             ],
             [
              0.2222222222222222,
              "#7201a8"
             ],
             [
              0.3333333333333333,
              "#9c179e"
             ],
             [
              0.4444444444444444,
              "#bd3786"
             ],
             [
              0.5555555555555556,
              "#d8576b"
             ],
             [
              0.6666666666666666,
              "#ed7953"
             ],
             [
              0.7777777777777778,
              "#fb9f3a"
             ],
             [
              0.8888888888888888,
              "#fdca26"
             ],
             [
              1,
              "#f0f921"
             ]
            ],
            "type": "heatmap"
           }
          ],
          "heatmapgl": [
           {
            "colorbar": {
             "outlinewidth": 0,
             "ticks": ""
            },
            "colorscale": [
             [
              0,
              "#0d0887"
             ],
             [
              0.1111111111111111,
              "#46039f"
             ],
             [
              0.2222222222222222,
              "#7201a8"
             ],
             [
              0.3333333333333333,
              "#9c179e"
             ],
             [
              0.4444444444444444,
              "#bd3786"
             ],
             [
              0.5555555555555556,
              "#d8576b"
             ],
             [
              0.6666666666666666,
              "#ed7953"
             ],
             [
              0.7777777777777778,
              "#fb9f3a"
             ],
             [
              0.8888888888888888,
              "#fdca26"
             ],
             [
              1,
              "#f0f921"
             ]
            ],
            "type": "heatmapgl"
           }
          ],
          "histogram": [
           {
            "marker": {
             "pattern": {
              "fillmode": "overlay",
              "size": 10,
              "solidity": 0.2
             }
            },
            "type": "histogram"
           }
          ],
          "histogram2d": [
           {
            "colorbar": {
             "outlinewidth": 0,
             "ticks": ""
            },
            "colorscale": [
             [
              0,
              "#0d0887"
             ],
             [
              0.1111111111111111,
              "#46039f"
             ],
             [
              0.2222222222222222,
              "#7201a8"
             ],
             [
              0.3333333333333333,
              "#9c179e"
             ],
             [
              0.4444444444444444,
              "#bd3786"
             ],
             [
              0.5555555555555556,
              "#d8576b"
             ],
             [
              0.6666666666666666,
              "#ed7953"
             ],
             [
              0.7777777777777778,
              "#fb9f3a"
             ],
             [
              0.8888888888888888,
              "#fdca26"
             ],
             [
              1,
              "#f0f921"
             ]
            ],
            "type": "histogram2d"
           }
          ],
          "histogram2dcontour": [
           {
            "colorbar": {
             "outlinewidth": 0,
             "ticks": ""
            },
            "colorscale": [
             [
              0,
              "#0d0887"
             ],
             [
              0.1111111111111111,
              "#46039f"
             ],
             [
              0.2222222222222222,
              "#7201a8"
             ],
             [
              0.3333333333333333,
              "#9c179e"
             ],
             [
              0.4444444444444444,
              "#bd3786"
             ],
             [
              0.5555555555555556,
              "#d8576b"
             ],
             [
              0.6666666666666666,
              "#ed7953"
             ],
             [
              0.7777777777777778,
              "#fb9f3a"
             ],
             [
              0.8888888888888888,
              "#fdca26"
             ],
             [
              1,
              "#f0f921"
             ]
            ],
            "type": "histogram2dcontour"
           }
          ],
          "mesh3d": [
           {
            "colorbar": {
             "outlinewidth": 0,
             "ticks": ""
            },
            "type": "mesh3d"
           }
          ],
          "parcoords": [
           {
            "line": {
             "colorbar": {
              "outlinewidth": 0,
              "ticks": ""
             }
            },
            "type": "parcoords"
           }
          ],
          "pie": [
           {
            "automargin": true,
            "type": "pie"
           }
          ],
          "scatter": [
           {
            "marker": {
             "colorbar": {
              "outlinewidth": 0,
              "ticks": ""
             }
            },
            "type": "scatter"
           }
          ],
          "scatter3d": [
           {
            "line": {
             "colorbar": {
              "outlinewidth": 0,
              "ticks": ""
             }
            },
            "marker": {
             "colorbar": {
              "outlinewidth": 0,
              "ticks": ""
             }
            },
            "type": "scatter3d"
           }
          ],
          "scattercarpet": [
           {
            "marker": {
             "colorbar": {
              "outlinewidth": 0,
              "ticks": ""
             }
            },
            "type": "scattercarpet"
           }
          ],
          "scattergeo": [
           {
            "marker": {
             "colorbar": {
              "outlinewidth": 0,
              "ticks": ""
             }
            },
            "type": "scattergeo"
           }
          ],
          "scattergl": [
           {
            "marker": {
             "colorbar": {
              "outlinewidth": 0,
              "ticks": ""
             }
            },
            "type": "scattergl"
           }
          ],
          "scattermapbox": [
           {
            "marker": {
             "colorbar": {
              "outlinewidth": 0,
              "ticks": ""
             }
            },
            "type": "scattermapbox"
           }
          ],
          "scatterpolar": [
           {
            "marker": {
             "colorbar": {
              "outlinewidth": 0,
              "ticks": ""
             }
            },
            "type": "scatterpolar"
           }
          ],
          "scatterpolargl": [
           {
            "marker": {
             "colorbar": {
              "outlinewidth": 0,
              "ticks": ""
             }
            },
            "type": "scatterpolargl"
           }
          ],
          "scatterternary": [
           {
            "marker": {
             "colorbar": {
              "outlinewidth": 0,
              "ticks": ""
             }
            },
            "type": "scatterternary"
           }
          ],
          "surface": [
           {
            "colorbar": {
             "outlinewidth": 0,
             "ticks": ""
            },
            "colorscale": [
             [
              0,
              "#0d0887"
             ],
             [
              0.1111111111111111,
              "#46039f"
             ],
             [
              0.2222222222222222,
              "#7201a8"
             ],
             [
              0.3333333333333333,
              "#9c179e"
             ],
             [
              0.4444444444444444,
              "#bd3786"
             ],
             [
              0.5555555555555556,
              "#d8576b"
             ],
             [
              0.6666666666666666,
              "#ed7953"
             ],
             [
              0.7777777777777778,
              "#fb9f3a"
             ],
             [
              0.8888888888888888,
              "#fdca26"
             ],
             [
              1,
              "#f0f921"
             ]
            ],
            "type": "surface"
           }
          ],
          "table": [
           {
            "cells": {
             "fill": {
              "color": "#EBF0F8"
             },
             "line": {
              "color": "white"
             }
            },
            "header": {
             "fill": {
              "color": "#C8D4E3"
             },
             "line": {
              "color": "white"
             }
            },
            "type": "table"
           }
          ]
         },
         "layout": {
          "annotationdefaults": {
           "arrowcolor": "#2a3f5f",
           "arrowhead": 0,
           "arrowwidth": 1
          },
          "autotypenumbers": "strict",
          "coloraxis": {
           "colorbar": {
            "outlinewidth": 0,
            "ticks": ""
           }
          },
          "colorscale": {
           "diverging": [
            [
             0,
             "#8e0152"
            ],
            [
             0.1,
             "#c51b7d"
            ],
            [
             0.2,
             "#de77ae"
            ],
            [
             0.3,
             "#f1b6da"
            ],
            [
             0.4,
             "#fde0ef"
            ],
            [
             0.5,
             "#f7f7f7"
            ],
            [
             0.6,
             "#e6f5d0"
            ],
            [
             0.7,
             "#b8e186"
            ],
            [
             0.8,
             "#7fbc41"
            ],
            [
             0.9,
             "#4d9221"
            ],
            [
             1,
             "#276419"
            ]
           ],
           "sequential": [
            [
             0,
             "#0d0887"
            ],
            [
             0.1111111111111111,
             "#46039f"
            ],
            [
             0.2222222222222222,
             "#7201a8"
            ],
            [
             0.3333333333333333,
             "#9c179e"
            ],
            [
             0.4444444444444444,
             "#bd3786"
            ],
            [
             0.5555555555555556,
             "#d8576b"
            ],
            [
             0.6666666666666666,
             "#ed7953"
            ],
            [
             0.7777777777777778,
             "#fb9f3a"
            ],
            [
             0.8888888888888888,
             "#fdca26"
            ],
            [
             1,
             "#f0f921"
            ]
           ],
           "sequentialminus": [
            [
             0,
             "#0d0887"
            ],
            [
             0.1111111111111111,
             "#46039f"
            ],
            [
             0.2222222222222222,
             "#7201a8"
            ],
            [
             0.3333333333333333,
             "#9c179e"
            ],
            [
             0.4444444444444444,
             "#bd3786"
            ],
            [
             0.5555555555555556,
             "#d8576b"
            ],
            [
             0.6666666666666666,
             "#ed7953"
            ],
            [
             0.7777777777777778,
             "#fb9f3a"
            ],
            [
             0.8888888888888888,
             "#fdca26"
            ],
            [
             1,
             "#f0f921"
            ]
           ]
          },
          "colorway": [
           "#636efa",
           "#EF553B",
           "#00cc96",
           "#ab63fa",
           "#FFA15A",
           "#19d3f3",
           "#FF6692",
           "#B6E880",
           "#FF97FF",
           "#FECB52"
          ],
          "font": {
           "color": "#2a3f5f"
          },
          "geo": {
           "bgcolor": "white",
           "lakecolor": "white",
           "landcolor": "#E5ECF6",
           "showlakes": true,
           "showland": true,
           "subunitcolor": "white"
          },
          "hoverlabel": {
           "align": "left"
          },
          "hovermode": "closest",
          "mapbox": {
           "style": "light"
          },
          "paper_bgcolor": "white",
          "plot_bgcolor": "#E5ECF6",
          "polar": {
           "angularaxis": {
            "gridcolor": "white",
            "linecolor": "white",
            "ticks": ""
           },
           "bgcolor": "#E5ECF6",
           "radialaxis": {
            "gridcolor": "white",
            "linecolor": "white",
            "ticks": ""
           }
          },
          "scene": {
           "xaxis": {
            "backgroundcolor": "#E5ECF6",
            "gridcolor": "white",
            "gridwidth": 2,
            "linecolor": "white",
            "showbackground": true,
            "ticks": "",
            "zerolinecolor": "white"
           },
           "yaxis": {
            "backgroundcolor": "#E5ECF6",
            "gridcolor": "white",
            "gridwidth": 2,
            "linecolor": "white",
            "showbackground": true,
            "ticks": "",
            "zerolinecolor": "white"
           },
           "zaxis": {
            "backgroundcolor": "#E5ECF6",
            "gridcolor": "white",
            "gridwidth": 2,
            "linecolor": "white",
            "showbackground": true,
            "ticks": "",
            "zerolinecolor": "white"
           }
          },
          "shapedefaults": {
           "line": {
            "color": "#2a3f5f"
           }
          },
          "ternary": {
           "aaxis": {
            "gridcolor": "white",
            "linecolor": "white",
            "ticks": ""
           },
           "baxis": {
            "gridcolor": "white",
            "linecolor": "white",
            "ticks": ""
           },
           "bgcolor": "#E5ECF6",
           "caxis": {
            "gridcolor": "white",
            "linecolor": "white",
            "ticks": ""
           }
          },
          "title": {
           "x": 0.05
          },
          "xaxis": {
           "automargin": true,
           "gridcolor": "white",
           "linecolor": "white",
           "ticks": "",
           "title": {
            "standoff": 15
           },
           "zerolinecolor": "white",
           "zerolinewidth": 2
          },
          "yaxis": {
           "automargin": true,
           "gridcolor": "white",
           "linecolor": "white",
           "ticks": "",
           "title": {
            "standoff": 15
           },
           "zerolinecolor": "white",
           "zerolinewidth": 2
          }
         }
        },
        "title": {
         "text": "Valor Recaudo"
        },
        "width": 900,
        "xaxis": {
         "anchor": "y",
         "domain": [
          0,
          1
         ],
         "rangeslider": {
          "visible": true
         },
         "title": {
          "text": "date_time"
         }
        },
        "yaxis": {
         "anchor": "x",
         "domain": [
          0,
          1
         ],
         "title": {
          "text": "value"
         }
        }
       }
      },
      "text/html": [
       "<div>                            <div id=\"e1b843d9-e595-49a3-a35a-131682ff132a\" class=\"plotly-graph-div\" style=\"height:500px; width:900px;\"></div>            <script type=\"text/javascript\">                require([\"plotly\"], function(Plotly) {                    window.PLOTLYENV=window.PLOTLYENV || {};                                    if (document.getElementById(\"e1b843d9-e595-49a3-a35a-131682ff132a\")) {                    Plotly.newPlot(                        \"e1b843d9-e595-49a3-a35a-131682ff132a\",                        [{\"hovertemplate\":\"variable=test<br>date_time=%{x}<br>value=%{y}<extra></extra>\",\"legendgroup\":\"test\",\"line\":{\"color\":\"#636efa\",\"dash\":\"solid\"},\"marker\":{\"symbol\":\"circle\"},\"mode\":\"lines\",\"name\":\"test\",\"orientation\":\"v\",\"showlegend\":true,\"x\":[601,602,603,604,605,606,607,608,609,610,611,612,613,614,615,616,617,618,619,620,621,622,623,624,625,626,627,628,629,630,631,632,633,634,635,636,637,638,639,640,641,642,643,644,645,646,647,648,649,650,651,652,653,654,655,656,657,658,659,660,661,662,663,664,665,666,667,668,669,670,671,672,673,674,675,676,677,678,679,680,681,682,683,684,685,686,687,688,689,690,691,692,693,694,695,696,697,698,699,700,701,702,703,704,705,706,707,708,709,710,711,712,713,714,715,716,717,718,719,720,721,722,723,724,725,726,727,728,729,730,731,732,733,734,735,736],\"xaxis\":\"x\",\"y\":[423179057.0,323001141.0,305419867.0,0.0,0.0,0.0,1274250042.0,442279010.0,339853724.0,241960270.0,105646383.0,0.0,298063296.0,301153974.0,250729372.0,297732388.0,274644992.0,0.0,0.0,532211746.0,592882666.0,559495163.0,538147248.0,459722983.0,0.0,0.0,0.0,971429473.0,587232641.0,358237477.0,301947985.0,0.0,0.0,426478184.0,342967387.0,406513904.0,400924392.0,0.0,153533063.0,105709507.0,469227509.0,434829330.0,272658697.0,251178090.0,201197577.0,75808988.0,0.0,302025487.0,422294360.0,375890536.0,393357179.0,429403683.0,256638668.0,0.0,563159546.0,776893461.0,609472152.0,481694248.0,394307732.0,0.0,0.0,513343797.0,415795750.0,307113775.0,166972260.0,234142619.0,0.0,0.0,510111855.0,392246862.0,266610383.0,177094280.0,146542899.0,0.0,0.0,201254794.0,137038876.0,107999808.0,127270601.0,192743863.0,0.0,0.0,0.0,611314375.0,565033845.0,502184573.0,477369282.0,289151495.0,0.0,489539679.0,695427617.0,526984083.0,408174191.0,392226550.0,0.0,0.0,622136553.0,603692163.0,503797031.0,389157774.0,298627579.0,0.0,0.0,0.0,368853596.0,460475200.0,258555467.0,233009994.0,0.0,0.0,0.0,445062897.0,440185445.0,510045635.0,420745345.0,259216007.0,0.0,477567932.0,667632251.0,530988567.0,398341383.0,332395364.0,209321480.0,0.0,358793211.0,497324580.0,399713350.0,533519026.0,482622146.0,0.0,0.0,0.0,763135176.0,363085445.0,236200655.0,228483931.0],\"yaxis\":\"y\",\"type\":\"scatter\"},{\"hovertemplate\":\"variable=prediccion<br>date_time=%{x}<br>value=%{y}<extra></extra>\",\"legendgroup\":\"prediccion\",\"line\":{\"color\":\"#EF553B\",\"dash\":\"solid\"},\"marker\":{\"symbol\":\"circle\"},\"mode\":\"lines\",\"name\":\"prediccion\",\"orientation\":\"v\",\"showlegend\":true,\"x\":[601,602,603,604,605,606,607,608,609,610,611,612,613,614,615,616,617,618,619,620,621,622,623,624,625,626,627,628,629,630,631,632,633,634,635,636,637,638,639,640,641,642,643,644,645,646,647,648,649,650,651,652,653,654,655,656,657,658,659,660,661,662,663,664,665,666,667,668,669,670,671,672,673,674,675,676,677,678,679,680,681,682,683,684,685,686,687,688,689,690,691,692,693,694,695,696,697,698,699,700,701,702,703,704,705,706,707,708,709,710,711,712,713,714,715,716,717,718,719,720,721,722,723,724,725,726,727,728,729,730,731,732,733,734,735,736],\"xaxis\":\"x\",\"y\":[436329376.0,356473440.0,258127392.0,51136620.0,151903776.0,351904096.0,549613248.0,416703072.0,295352736.0,294446272.0,532163.0625,28195496.0,231027904.0,255843776.0,303468928.0,293935264.0,260888464.0,-20627000.0,8323276.5,463476032.0,528654592.0,497438336.0,508688832.0,472190720.0,9950616.0,-3827280.0,878081024.0,622969344.0,489295296.0,315650880.0,298021472.0,55663704.0,126103552.0,209672064.0,554533760.0,355883872.0,334835680.0,314560224.0,51133556.0,23882724.0,244755120.0,189168640.0,467744672.0,272943616.0,174059648.0,19382418.0,2075649.0,458927680.0,517050048.0,507006496.0,498681856.0,490478880.0,135671056.0,-17659078.0,424903680.0,773987968.0,580964224.0,321226560.0,296966880.0,54905548.0,94967960.0,495624768.0,410602208.0,336707968.0,303208832.0,211938016.0,62527488.0,39014744.0,442374816.0,312232544.0,293829184.0,280648864.0,270301152.0,53872768.0,-4856083.5,205043216.0,287113568.0,273198272.0,227690848.0,256652528.0,138875216.0,32248656.0,282564704.0,504990848.0,491075168.0,490200928.0,446779776.0,79740624.0,703839.0,539849408.0,524199808.0,411856896.0,320372896.0,269172256.0,116219336.0,33786868.0,351718304.0,385085760.0,376321312.0,325099200.0,234210976.0,20915866.0,-5850945.0,176615088.0,205415248.0,288842048.0,202959744.0,176863728.0,28822110.0,-14306484.0,119937376.0,469575072.0,475375616.0,475897952.0,500179872.0,311732992.0,7075877.0,503920896.0,599361216.0,490042592.0,420145984.0,308632288.0,134118688.0,-24632460.0,592539968.0,553379648.0,397605632.0,360565472.0,306450432.0,30985068.0,27209862.0,269216896.0,257652048.0,285977312.0,284185536.0,292999744.0],\"yaxis\":\"y\",\"type\":\"scatter\"}],                        {\"template\":{\"data\":{\"bar\":[{\"error_x\":{\"color\":\"#2a3f5f\"},\"error_y\":{\"color\":\"#2a3f5f\"},\"marker\":{\"line\":{\"color\":\"#E5ECF6\",\"width\":0.5},\"pattern\":{\"fillmode\":\"overlay\",\"size\":10,\"solidity\":0.2}},\"type\":\"bar\"}],\"barpolar\":[{\"marker\":{\"line\":{\"color\":\"#E5ECF6\",\"width\":0.5},\"pattern\":{\"fillmode\":\"overlay\",\"size\":10,\"solidity\":0.2}},\"type\":\"barpolar\"}],\"carpet\":[{\"aaxis\":{\"endlinecolor\":\"#2a3f5f\",\"gridcolor\":\"white\",\"linecolor\":\"white\",\"minorgridcolor\":\"white\",\"startlinecolor\":\"#2a3f5f\"},\"baxis\":{\"endlinecolor\":\"#2a3f5f\",\"gridcolor\":\"white\",\"linecolor\":\"white\",\"minorgridcolor\":\"white\",\"startlinecolor\":\"#2a3f5f\"},\"type\":\"carpet\"}],\"choropleth\":[{\"colorbar\":{\"outlinewidth\":0,\"ticks\":\"\"},\"type\":\"choropleth\"}],\"contour\":[{\"colorbar\":{\"outlinewidth\":0,\"ticks\":\"\"},\"colorscale\":[[0.0,\"#0d0887\"],[0.1111111111111111,\"#46039f\"],[0.2222222222222222,\"#7201a8\"],[0.3333333333333333,\"#9c179e\"],[0.4444444444444444,\"#bd3786\"],[0.5555555555555556,\"#d8576b\"],[0.6666666666666666,\"#ed7953\"],[0.7777777777777778,\"#fb9f3a\"],[0.8888888888888888,\"#fdca26\"],[1.0,\"#f0f921\"]],\"type\":\"contour\"}],\"contourcarpet\":[{\"colorbar\":{\"outlinewidth\":0,\"ticks\":\"\"},\"type\":\"contourcarpet\"}],\"heatmap\":[{\"colorbar\":{\"outlinewidth\":0,\"ticks\":\"\"},\"colorscale\":[[0.0,\"#0d0887\"],[0.1111111111111111,\"#46039f\"],[0.2222222222222222,\"#7201a8\"],[0.3333333333333333,\"#9c179e\"],[0.4444444444444444,\"#bd3786\"],[0.5555555555555556,\"#d8576b\"],[0.6666666666666666,\"#ed7953\"],[0.7777777777777778,\"#fb9f3a\"],[0.8888888888888888,\"#fdca26\"],[1.0,\"#f0f921\"]],\"type\":\"heatmap\"}],\"heatmapgl\":[{\"colorbar\":{\"outlinewidth\":0,\"ticks\":\"\"},\"colorscale\":[[0.0,\"#0d0887\"],[0.1111111111111111,\"#46039f\"],[0.2222222222222222,\"#7201a8\"],[0.3333333333333333,\"#9c179e\"],[0.4444444444444444,\"#bd3786\"],[0.5555555555555556,\"#d8576b\"],[0.6666666666666666,\"#ed7953\"],[0.7777777777777778,\"#fb9f3a\"],[0.8888888888888888,\"#fdca26\"],[1.0,\"#f0f921\"]],\"type\":\"heatmapgl\"}],\"histogram\":[{\"marker\":{\"pattern\":{\"fillmode\":\"overlay\",\"size\":10,\"solidity\":0.2}},\"type\":\"histogram\"}],\"histogram2d\":[{\"colorbar\":{\"outlinewidth\":0,\"ticks\":\"\"},\"colorscale\":[[0.0,\"#0d0887\"],[0.1111111111111111,\"#46039f\"],[0.2222222222222222,\"#7201a8\"],[0.3333333333333333,\"#9c179e\"],[0.4444444444444444,\"#bd3786\"],[0.5555555555555556,\"#d8576b\"],[0.6666666666666666,\"#ed7953\"],[0.7777777777777778,\"#fb9f3a\"],[0.8888888888888888,\"#fdca26\"],[1.0,\"#f0f921\"]],\"type\":\"histogram2d\"}],\"histogram2dcontour\":[{\"colorbar\":{\"outlinewidth\":0,\"ticks\":\"\"},\"colorscale\":[[0.0,\"#0d0887\"],[0.1111111111111111,\"#46039f\"],[0.2222222222222222,\"#7201a8\"],[0.3333333333333333,\"#9c179e\"],[0.4444444444444444,\"#bd3786\"],[0.5555555555555556,\"#d8576b\"],[0.6666666666666666,\"#ed7953\"],[0.7777777777777778,\"#fb9f3a\"],[0.8888888888888888,\"#fdca26\"],[1.0,\"#f0f921\"]],\"type\":\"histogram2dcontour\"}],\"mesh3d\":[{\"colorbar\":{\"outlinewidth\":0,\"ticks\":\"\"},\"type\":\"mesh3d\"}],\"parcoords\":[{\"line\":{\"colorbar\":{\"outlinewidth\":0,\"ticks\":\"\"}},\"type\":\"parcoords\"}],\"pie\":[{\"automargin\":true,\"type\":\"pie\"}],\"scatter\":[{\"marker\":{\"colorbar\":{\"outlinewidth\":0,\"ticks\":\"\"}},\"type\":\"scatter\"}],\"scatter3d\":[{\"line\":{\"colorbar\":{\"outlinewidth\":0,\"ticks\":\"\"}},\"marker\":{\"colorbar\":{\"outlinewidth\":0,\"ticks\":\"\"}},\"type\":\"scatter3d\"}],\"scattercarpet\":[{\"marker\":{\"colorbar\":{\"outlinewidth\":0,\"ticks\":\"\"}},\"type\":\"scattercarpet\"}],\"scattergeo\":[{\"marker\":{\"colorbar\":{\"outlinewidth\":0,\"ticks\":\"\"}},\"type\":\"scattergeo\"}],\"scattergl\":[{\"marker\":{\"colorbar\":{\"outlinewidth\":0,\"ticks\":\"\"}},\"type\":\"scattergl\"}],\"scattermapbox\":[{\"marker\":{\"colorbar\":{\"outlinewidth\":0,\"ticks\":\"\"}},\"type\":\"scattermapbox\"}],\"scatterpolar\":[{\"marker\":{\"colorbar\":{\"outlinewidth\":0,\"ticks\":\"\"}},\"type\":\"scatterpolar\"}],\"scatterpolargl\":[{\"marker\":{\"colorbar\":{\"outlinewidth\":0,\"ticks\":\"\"}},\"type\":\"scatterpolargl\"}],\"scatterternary\":[{\"marker\":{\"colorbar\":{\"outlinewidth\":0,\"ticks\":\"\"}},\"type\":\"scatterternary\"}],\"surface\":[{\"colorbar\":{\"outlinewidth\":0,\"ticks\":\"\"},\"colorscale\":[[0.0,\"#0d0887\"],[0.1111111111111111,\"#46039f\"],[0.2222222222222222,\"#7201a8\"],[0.3333333333333333,\"#9c179e\"],[0.4444444444444444,\"#bd3786\"],[0.5555555555555556,\"#d8576b\"],[0.6666666666666666,\"#ed7953\"],[0.7777777777777778,\"#fb9f3a\"],[0.8888888888888888,\"#fdca26\"],[1.0,\"#f0f921\"]],\"type\":\"surface\"}],\"table\":[{\"cells\":{\"fill\":{\"color\":\"#EBF0F8\"},\"line\":{\"color\":\"white\"}},\"header\":{\"fill\":{\"color\":\"#C8D4E3\"},\"line\":{\"color\":\"white\"}},\"type\":\"table\"}]},\"layout\":{\"annotationdefaults\":{\"arrowcolor\":\"#2a3f5f\",\"arrowhead\":0,\"arrowwidth\":1},\"autotypenumbers\":\"strict\",\"coloraxis\":{\"colorbar\":{\"outlinewidth\":0,\"ticks\":\"\"}},\"colorscale\":{\"diverging\":[[0,\"#8e0152\"],[0.1,\"#c51b7d\"],[0.2,\"#de77ae\"],[0.3,\"#f1b6da\"],[0.4,\"#fde0ef\"],[0.5,\"#f7f7f7\"],[0.6,\"#e6f5d0\"],[0.7,\"#b8e186\"],[0.8,\"#7fbc41\"],[0.9,\"#4d9221\"],[1,\"#276419\"]],\"sequential\":[[0.0,\"#0d0887\"],[0.1111111111111111,\"#46039f\"],[0.2222222222222222,\"#7201a8\"],[0.3333333333333333,\"#9c179e\"],[0.4444444444444444,\"#bd3786\"],[0.5555555555555556,\"#d8576b\"],[0.6666666666666666,\"#ed7953\"],[0.7777777777777778,\"#fb9f3a\"],[0.8888888888888888,\"#fdca26\"],[1.0,\"#f0f921\"]],\"sequentialminus\":[[0.0,\"#0d0887\"],[0.1111111111111111,\"#46039f\"],[0.2222222222222222,\"#7201a8\"],[0.3333333333333333,\"#9c179e\"],[0.4444444444444444,\"#bd3786\"],[0.5555555555555556,\"#d8576b\"],[0.6666666666666666,\"#ed7953\"],[0.7777777777777778,\"#fb9f3a\"],[0.8888888888888888,\"#fdca26\"],[1.0,\"#f0f921\"]]},\"colorway\":[\"#636efa\",\"#EF553B\",\"#00cc96\",\"#ab63fa\",\"#FFA15A\",\"#19d3f3\",\"#FF6692\",\"#B6E880\",\"#FF97FF\",\"#FECB52\"],\"font\":{\"color\":\"#2a3f5f\"},\"geo\":{\"bgcolor\":\"white\",\"lakecolor\":\"white\",\"landcolor\":\"#E5ECF6\",\"showlakes\":true,\"showland\":true,\"subunitcolor\":\"white\"},\"hoverlabel\":{\"align\":\"left\"},\"hovermode\":\"closest\",\"mapbox\":{\"style\":\"light\"},\"paper_bgcolor\":\"white\",\"plot_bgcolor\":\"#E5ECF6\",\"polar\":{\"angularaxis\":{\"gridcolor\":\"white\",\"linecolor\":\"white\",\"ticks\":\"\"},\"bgcolor\":\"#E5ECF6\",\"radialaxis\":{\"gridcolor\":\"white\",\"linecolor\":\"white\",\"ticks\":\"\"}},\"scene\":{\"xaxis\":{\"backgroundcolor\":\"#E5ECF6\",\"gridcolor\":\"white\",\"gridwidth\":2,\"linecolor\":\"white\",\"showbackground\":true,\"ticks\":\"\",\"zerolinecolor\":\"white\"},\"yaxis\":{\"backgroundcolor\":\"#E5ECF6\",\"gridcolor\":\"white\",\"gridwidth\":2,\"linecolor\":\"white\",\"showbackground\":true,\"ticks\":\"\",\"zerolinecolor\":\"white\"},\"zaxis\":{\"backgroundcolor\":\"#E5ECF6\",\"gridcolor\":\"white\",\"gridwidth\":2,\"linecolor\":\"white\",\"showbackground\":true,\"ticks\":\"\",\"zerolinecolor\":\"white\"}},\"shapedefaults\":{\"line\":{\"color\":\"#2a3f5f\"}},\"ternary\":{\"aaxis\":{\"gridcolor\":\"white\",\"linecolor\":\"white\",\"ticks\":\"\"},\"baxis\":{\"gridcolor\":\"white\",\"linecolor\":\"white\",\"ticks\":\"\"},\"bgcolor\":\"#E5ECF6\",\"caxis\":{\"gridcolor\":\"white\",\"linecolor\":\"white\",\"ticks\":\"\"}},\"title\":{\"x\":0.05},\"xaxis\":{\"automargin\":true,\"gridcolor\":\"white\",\"linecolor\":\"white\",\"ticks\":\"\",\"title\":{\"standoff\":15},\"zerolinecolor\":\"white\",\"zerolinewidth\":2},\"yaxis\":{\"automargin\":true,\"gridcolor\":\"white\",\"linecolor\":\"white\",\"ticks\":\"\",\"title\":{\"standoff\":15},\"zerolinecolor\":\"white\",\"zerolinewidth\":2}}},\"xaxis\":{\"anchor\":\"y\",\"domain\":[0.0,1.0],\"title\":{\"text\":\"date_time\"},\"rangeslider\":{\"visible\":true}},\"yaxis\":{\"anchor\":\"x\",\"domain\":[0.0,1.0],\"title\":{\"text\":\"value\"}},\"legend\":{\"title\":{\"text\":\"variable\"},\"tracegroupgap\":0},\"title\":{\"text\":\"Valor Recaudo\"},\"height\":500,\"width\":900},                        {\"responsive\": true}                    ).then(function(){\n",
       "                            \n",
       "var gd = document.getElementById('e1b843d9-e595-49a3-a35a-131682ff132a');\n",
       "var x = new MutationObserver(function (mutations, observer) {{\n",
       "        var display = window.getComputedStyle(gd).display;\n",
       "        if (!display || display === 'none') {{\n",
       "            console.log([gd, 'removed!']);\n",
       "            Plotly.purge(gd);\n",
       "            observer.disconnect();\n",
       "        }}\n",
       "}});\n",
       "\n",
       "// Listen for the removal of the full notebook cells\n",
       "var notebookContainer = gd.closest('#notebook-container');\n",
       "if (notebookContainer) {{\n",
       "    x.observe(notebookContainer, {childList: true});\n",
       "}}\n",
       "\n",
       "// Listen for the clearing of the current output cell\n",
       "var outputEl = gd.closest('.output');\n",
       "if (outputEl) {{\n",
       "    x.observe(outputEl, {childList: true});\n",
       "}}\n",
       "\n",
       "                        })                };                });            </script>        </div>"
      ]
     },
     "metadata": {},
     "output_type": "display_data"
    }
   ],
   "source": [
    "# Gráfico interactivo serie temporal\n",
    "# ==============================================================================\n",
    "datos_plot = pd.DataFrame({\n",
    "                'test': datos_test['value'],\n",
    "                'prediccion': predicciones['pred'],\n",
    "\n",
    "                 })\n",
    "datos_plot.index.name = 'date_time'\n",
    "\n",
    "fig = px.line(\n",
    "    data_frame = datos_plot.reset_index(),\n",
    "    x      = 'date_time',\n",
    "    y      = datos_plot.columns,\n",
    "    title  = 'Valor Recaudo',\n",
    "    width  = 900,\n",
    "    height = 500\n",
    ")\n",
    "\n",
    "fig.update_xaxes(rangeslider_visible=True)\n",
    "fig.show()"
   ]
  },
  {
   "cell_type": "markdown",
   "id": "8298f74f",
   "metadata": {},
   "source": [
    "#### Predicción datos futuros exógena"
   ]
  },
  {
   "cell_type": "code",
   "execution_count": 100,
   "id": "852754de",
   "metadata": {},
   "outputs": [
    {
     "data": {
      "text/plain": [
       "601    436329376.0\n",
       "602    356473440.0\n",
       "603    258127392.0\n",
       "604     51136620.0\n",
       "605    151903776.0\n",
       "          ...     \n",
       "796    581539968.0\n",
       "797    584157440.0\n",
       "798    580660992.0\n",
       "799    578306176.0\n",
       "800     37573056.0\n",
       "Name: pred, Length: 200, dtype: float64"
      ]
     },
     "execution_count": 100,
     "metadata": {},
     "output_type": "execute_result"
    }
   ],
   "source": [
    "predic_datos_futuros_exogena= forecaster.predict(steps= 200)\n",
    "predic_datos_futuros_exogena"
   ]
  },
  {
   "cell_type": "code",
   "execution_count": 101,
   "id": "c09fc672",
   "metadata": {},
   "outputs": [],
   "source": [
    "#predic_datos_futuros_exogena.to_excel('predic_datos_futuros_exogena.xlsx')"
   ]
  },
  {
   "cell_type": "code",
   "execution_count": 102,
   "id": "5d162f38",
   "metadata": {},
   "outputs": [
    {
     "data": {
      "image/png": "[encoded data removed]",
      "text/plain": [
       "<Figure size 792x288 with 1 Axes>"
      ]
     },
     "metadata": {
      "needs_background": "light"
     },
     "output_type": "display_data"
    }
   ],
   "source": [
    "fig, ax = plt.subplots(figsize=(11, 4))\n",
    "datos_test['value'].plot(ax=ax, label='test')\n",
    "predic_datos_futuros_exogena.plot(ax=ax, label='predicciones')\n",
    "ax.legend();"
   ]
  },
  {
   "cell_type": "markdown",
   "id": "ca36f82e",
   "metadata": {},
   "source": [
    "## LBM REGRESSOR\n"
   ]
  },
  {
   "cell_type": "code",
   "execution_count": 103,
   "id": "56604dc0",
   "metadata": {},
   "outputs": [
    {
     "data": {
      "text/plain": [
       "================= \n",
       "ForecasterAutoreg \n",
       "================= \n",
       "Regressor: LGBMRegressor(random_state=123) \n",
       "Lags: [ 1  2  3  4  5  6  7  8  9 10 11 12 13 14 15 16 17 18 19 20 21 22 23 24\n",
       " 25 26 27 28 29 30] \n",
       "Window size: 30 \n",
       "Included exogenous: False \n",
       "Type of exogenous variable: None \n",
       "Exogenous variables names: None \n",
       "Training range: None \n",
       "Training index type: None \n",
       "Training index frequency: None \n",
       "Regressor parameters: {'boosting_type': 'gbdt', 'class_weight': None, 'colsample_bytree': 1.0, 'importance_type': 'split', 'learning_rate': 0.1, 'max_depth': -1, 'min_child_samples': 20, 'min_child_weight': 0.001, 'min_split_gain': 0.0, 'n_estimators': 100, 'n_jobs': -1, 'num_leaves': 31, 'objective': None, 'random_state': 123, 'reg_alpha': 0.0, 'reg_lambda': 0.0, 'silent': 'warn', 'subsample': 1.0, 'subsample_for_bin': 200000, 'subsample_freq': 0} \n",
       "Creation date: 2022-02-02 11:40:56 \n",
       "Last fit date: None \n",
       "Skforecast version: 0.4.1 "
      ]
     },
     "execution_count": 103,
     "metadata": {},
     "output_type": "execute_result"
    }
   ],
   "source": [
    "forecaster = ForecasterAutoreg(\n",
    "                regressor = LGBMRegressor(random_state=123),\n",
    "                lags = 30\n",
    "             )\n",
    "\n",
    "forecaster"
   ]
  },
  {
   "cell_type": "code",
   "execution_count": 104,
   "id": "3f1e1d64",
   "metadata": {},
   "outputs": [
    {
     "data": {
      "text/html": [
       "<div>\n",
       "<style scoped>\n",
       "    .dataframe tbody tr th:only-of-type {\n",
       "        vertical-align: middle;\n",
       "    }\n",
       "\n",
       "    .dataframe tbody tr th {\n",
       "        vertical-align: top;\n",
       "    }\n",
       "\n",
       "    .dataframe thead th {\n",
       "        text-align: right;\n",
       "    }\n",
       "</style>\n",
       "<table border=\"1\" class=\"dataframe\">\n",
       "  <thead>\n",
       "    <tr style=\"text-align: right;\">\n",
       "      <th></th>\n",
       "      <th>fecha</th>\n",
       "      <th>value</th>\n",
       "      <th>weekend</th>\n",
       "    </tr>\n",
       "  </thead>\n",
       "  <tbody>\n",
       "    <tr>\n",
       "      <th>0</th>\n",
       "      <td>2019-07-04</td>\n",
       "      <td>932383252</td>\n",
       "      <td>1</td>\n",
       "    </tr>\n",
       "    <tr>\n",
       "      <th>1</th>\n",
       "      <td>2019-07-05</td>\n",
       "      <td>263540907</td>\n",
       "      <td>1</td>\n",
       "    </tr>\n",
       "    <tr>\n",
       "      <th>2</th>\n",
       "      <td>2019-07-06</td>\n",
       "      <td>0</td>\n",
       "      <td>0</td>\n",
       "    </tr>\n",
       "    <tr>\n",
       "      <th>3</th>\n",
       "      <td>2019-07-07</td>\n",
       "      <td>0</td>\n",
       "      <td>0</td>\n",
       "    </tr>\n",
       "    <tr>\n",
       "      <th>4</th>\n",
       "      <td>2019-07-08</td>\n",
       "      <td>301014942</td>\n",
       "      <td>1</td>\n",
       "    </tr>\n",
       "    <tr>\n",
       "      <th>...</th>\n",
       "      <td>...</td>\n",
       "      <td>...</td>\n",
       "      <td>...</td>\n",
       "    </tr>\n",
       "    <tr>\n",
       "      <th>732</th>\n",
       "      <td>2021-07-05</td>\n",
       "      <td>0</td>\n",
       "      <td>1</td>\n",
       "    </tr>\n",
       "    <tr>\n",
       "      <th>733</th>\n",
       "      <td>2021-07-06</td>\n",
       "      <td>763135176</td>\n",
       "      <td>1</td>\n",
       "    </tr>\n",
       "    <tr>\n",
       "      <th>734</th>\n",
       "      <td>2021-07-07</td>\n",
       "      <td>363085445</td>\n",
       "      <td>1</td>\n",
       "    </tr>\n",
       "    <tr>\n",
       "      <th>735</th>\n",
       "      <td>2021-07-08</td>\n",
       "      <td>236200655</td>\n",
       "      <td>1</td>\n",
       "    </tr>\n",
       "    <tr>\n",
       "      <th>736</th>\n",
       "      <td>2021-07-09</td>\n",
       "      <td>228483931</td>\n",
       "      <td>1</td>\n",
       "    </tr>\n",
       "  </tbody>\n",
       "</table>\n",
       "<p>737 rows × 3 columns</p>\n",
       "</div>"
      ],
      "text/plain": [
       "         fecha      value  weekend\n",
       "0   2019-07-04  932383252        1\n",
       "1   2019-07-05  263540907        1\n",
       "2   2019-07-06          0        0\n",
       "3   2019-07-07          0        0\n",
       "4   2019-07-08  301014942        1\n",
       "..         ...        ...      ...\n",
       "732 2021-07-05          0        1\n",
       "733 2021-07-06  763135176        1\n",
       "734 2021-07-07  363085445        1\n",
       "735 2021-07-08  236200655        1\n",
       "736 2021-07-09  228483931        1\n",
       "\n",
       "[737 rows x 3 columns]"
      ]
     },
     "execution_count": 104,
     "metadata": {},
     "output_type": "execute_result"
    }
   ],
   "source": [
    "data"
   ]
  },
  {
   "cell_type": "code",
   "execution_count": 105,
   "id": "1f465d22",
   "metadata": {},
   "outputs": [
    {
     "name": "stdout",
     "output_type": "stream",
     "text": [
      "Number of models compared: 54\n"
     ]
    },
    {
     "name": "stderr",
     "output_type": "stream",
     "text": [
      "loop lags_grid:   0%|                                               | 0/3 [00:00<?, ?it/s]\n",
      "loop param_grid:   0%|                                             | 0/18 [00:00<?, ?it/s]\u001b[A\n",
      "loop param_grid:   6%|██                                   | 1/18 [00:00<00:02,  7.88it/s]\u001b[A\n",
      "loop param_grid:  11%|████                                 | 2/18 [00:00<00:03,  5.32it/s]\u001b[A\n",
      "loop param_grid:  17%|██████▏                              | 3/18 [00:00<00:02,  6.12it/s]\u001b[A\n",
      "loop param_grid:  22%|████████▏                            | 4/18 [00:00<00:03,  4.43it/s]\u001b[A\n",
      "loop param_grid:  28%|██████████▎                          | 5/18 [00:00<00:02,  4.91it/s]\u001b[A\n",
      "loop param_grid:  33%|████████████▎                        | 6/18 [00:01<00:03,  3.19it/s]\u001b[A\n",
      "loop param_grid:  39%|██████████████▍                      | 7/18 [00:01<00:02,  4.01it/s]\u001b[A\n",
      "loop param_grid:  44%|████████████████▍                    | 8/18 [00:01<00:02,  4.11it/s]\u001b[A\n",
      "loop param_grid:  50%|██████████████████▌                  | 9/18 [00:01<00:01,  4.79it/s]\u001b[A\n",
      "loop param_grid:  56%|████████████████████                | 10/18 [00:02<00:01,  4.15it/s]\u001b[A\n",
      "loop param_grid:  61%|██████████████████████              | 11/18 [00:02<00:01,  4.60it/s]\u001b[A\n",
      "loop param_grid:  67%|████████████████████████            | 12/18 [00:02<00:01,  3.86it/s]\u001b[A\n",
      "loop param_grid:  72%|██████████████████████████          | 13/18 [00:02<00:01,  4.66it/s]\u001b[A\n",
      "loop param_grid:  78%|████████████████████████████        | 14/18 [00:03<00:00,  4.69it/s]\u001b[A\n",
      "loop param_grid:  83%|██████████████████████████████      | 15/18 [00:03<00:00,  5.38it/s]\u001b[A\n",
      "loop param_grid:  89%|████████████████████████████████    | 16/18 [00:03<00:00,  4.70it/s]\u001b[A\n",
      "loop param_grid:  94%|██████████████████████████████████  | 17/18 [00:03<00:00,  5.23it/s]\u001b[A\n",
      "loop param_grid: 100%|████████████████████████████████████| 18/18 [00:04<00:00,  4.05it/s]\u001b[A\n",
      "loop lags_grid:  33%|█████████████                          | 1/3 [00:04<00:08,  4.07s/it]\u001b[A\n",
      "loop param_grid:   0%|                                             | 0/18 [00:00<?, ?it/s]\u001b[A\n",
      "loop param_grid:   6%|██                                   | 1/18 [00:00<00:02,  7.41it/s]\u001b[A\n",
      "loop param_grid:  11%|████                                 | 2/18 [00:00<00:03,  4.91it/s]\u001b[A\n",
      "loop param_grid:  17%|██████▏                              | 3/18 [00:00<00:02,  5.67it/s]\u001b[A\n",
      "loop param_grid:  22%|████████▏                            | 4/18 [00:00<00:03,  4.10it/s]\u001b[A\n",
      "loop param_grid:  28%|██████████▎                          | 5/18 [00:01<00:02,  4.59it/s]\u001b[A\n",
      "loop param_grid:  33%|████████████▎                        | 6/18 [00:01<00:04,  2.96it/s]\u001b[A\n",
      "loop param_grid:  39%|██████████████▍                      | 7/18 [00:01<00:02,  3.73it/s]\u001b[A\n",
      "loop param_grid:  44%|████████████████▍                    | 8/18 [00:02<00:02,  3.77it/s]\u001b[A\n",
      "loop param_grid:  50%|██████████████████▌                  | 9/18 [00:02<00:02,  4.40it/s]\u001b[A\n",
      "loop param_grid:  56%|████████████████████                | 10/18 [00:02<00:02,  3.80it/s]\u001b[A\n",
      "loop param_grid:  61%|██████████████████████              | 11/18 [00:02<00:01,  4.24it/s]\u001b[A\n",
      "loop param_grid:  67%|████████████████████████            | 12/18 [00:03<00:01,  3.02it/s]\u001b[A\n",
      "loop param_grid:  72%|██████████████████████████          | 13/18 [00:03<00:01,  3.74it/s]\u001b[A\n",
      "loop param_grid:  78%|████████████████████████████        | 14/18 [00:03<00:01,  3.81it/s]\u001b[A\n",
      "loop param_grid:  83%|██████████████████████████████      | 15/18 [00:03<00:00,  4.39it/s]\u001b[A\n",
      "loop param_grid:  89%|████████████████████████████████    | 16/18 [00:04<00:00,  3.79it/s]\u001b[A\n",
      "loop param_grid:  94%|██████████████████████████████████  | 17/18 [00:04<00:00,  4.27it/s]\u001b[A\n",
      "loop param_grid: 100%|████████████████████████████████████| 18/18 [00:04<00:00,  3.21it/s]\u001b[A\n",
      "loop lags_grid:  67%|██████████████████████████             | 2/3 [00:08<00:04,  4.47s/it]\u001b[A\n",
      "loop param_grid:   0%|                                             | 0/18 [00:00<?, ?it/s]\u001b[A\n",
      "loop param_grid:   6%|██                                   | 1/18 [00:00<00:02,  8.27it/s]\u001b[A\n",
      "loop param_grid:  11%|████                                 | 2/18 [00:00<00:02,  5.77it/s]\u001b[A\n",
      "loop param_grid:  17%|██████▏                              | 3/18 [00:00<00:02,  6.72it/s]\u001b[A\n",
      "loop param_grid:  22%|████████▏                            | 4/18 [00:00<00:02,  5.21it/s]\u001b[A\n",
      "loop param_grid:  28%|██████████▎                          | 5/18 [00:00<00:02,  5.89it/s]\u001b[A\n",
      "loop param_grid:  33%|████████████▎                        | 6/18 [00:01<00:02,  4.43it/s]\u001b[A\n",
      "loop param_grid:  39%|██████████████▍                      | 7/18 [00:01<00:02,  5.36it/s]\u001b[A\n",
      "loop param_grid:  44%|████████████████▍                    | 8/18 [00:01<00:01,  5.30it/s]\u001b[A\n",
      "loop param_grid:  50%|██████████████████▌                  | 9/18 [00:01<00:01,  6.00it/s]\u001b[A\n",
      "loop param_grid:  56%|████████████████████                | 10/18 [00:01<00:01,  5.25it/s]\u001b[A\n",
      "loop param_grid:  61%|██████████████████████              | 11/18 [00:01<00:01,  5.79it/s]\u001b[A\n",
      "loop param_grid:  67%|████████████████████████            | 12/18 [00:02<00:01,  4.43it/s]\u001b[A\n",
      "loop param_grid:  72%|██████████████████████████          | 13/18 [00:02<00:00,  5.26it/s]\u001b[A\n",
      "loop param_grid:  78%|████████████████████████████        | 14/18 [00:02<00:00,  5.14it/s]\u001b[A\n",
      "loop param_grid:  83%|██████████████████████████████      | 15/18 [00:02<00:00,  5.84it/s]\u001b[A\n",
      "loop param_grid:  89%|████████████████████████████████    | 16/18 [00:02<00:00,  5.20it/s]\u001b[A\n",
      "loop param_grid:  94%|██████████████████████████████████  | 17/18 [00:03<00:00,  5.69it/s]\u001b[A\n",
      "loop param_grid: 100%|████████████████████████████████████| 18/18 [00:03<00:00,  4.24it/s]\u001b[A\n",
      "loop lags_grid: 100%|███████████████████████████████████████| 3/3 [00:12<00:00,  4.11s/it]\u001b[A\n"
     ]
    },
    {
     "name": "stdout",
     "output_type": "stream",
     "text": [
      "Refitting `forecaster` using the best found parameters and the whole data set: \n",
      "  lags: [ 1  2  3  4  5  6  7  8  9 10 11 12 13 14 15 16 17 18 19 20 21 22 23 24\n",
      " 25 26 27 28 29 30] \n",
      "  params: {'learning_rate': 0.1, 'max_depth': 10, 'n_estimators': 500}\n",
      "\n"
     ]
    }
   ],
   "source": [
    "# Hiperparámetros del regresor\n",
    "param_grid = {\n",
    "    'n_estimators': [100, 500],\n",
    "    'max_depth': [3, 5, 10],\n",
    "    'learning_rate': [0.09, 0.1, 0.15]\n",
    "}\n",
    "\n",
    "# Lags utilizados como predictores\n",
    "lags_grid = [7, 30, [1, 2, 3]]\n",
    "\n",
    "\n",
    "resultados_grid = grid_search_forecaster(\n",
    "        forecaster         = forecaster,\n",
    "        y                  = data.loc[:600, 'value'], # conjunto de train y validación\n",
    "        param_grid         = param_grid,\n",
    "        lags_grid          = lags_grid,\n",
    "        steps              = 60,\n",
    "        refit              = False,\n",
    "        metric             = 'mean_squared_error',\n",
    "        initial_train_size = int(len(datos_train)), # El modelo se entrena con los datos de entrenamiento\n",
    "        return_best        = True,\n",
    "        verbose            = False\n",
    ")"
   ]
  },
  {
   "cell_type": "code",
   "execution_count": 106,
   "id": "b958bdba",
   "metadata": {},
   "outputs": [
    {
     "data": {
      "text/html": [
       "<div>\n",
       "<style scoped>\n",
       "    .dataframe tbody tr th:only-of-type {\n",
       "        vertical-align: middle;\n",
       "    }\n",
       "\n",
       "    .dataframe tbody tr th {\n",
       "        vertical-align: top;\n",
       "    }\n",
       "\n",
       "    .dataframe thead th {\n",
       "        text-align: right;\n",
       "    }\n",
       "</style>\n",
       "<table border=\"1\" class=\"dataframe\">\n",
       "  <thead>\n",
       "    <tr style=\"text-align: right;\">\n",
       "      <th></th>\n",
       "      <th>fecha</th>\n",
       "      <th>value</th>\n",
       "      <th>weekend</th>\n",
       "    </tr>\n",
       "  </thead>\n",
       "  <tbody>\n",
       "    <tr>\n",
       "      <th>0</th>\n",
       "      <td>2019-07-04</td>\n",
       "      <td>932383252</td>\n",
       "      <td>1</td>\n",
       "    </tr>\n",
       "    <tr>\n",
       "      <th>1</th>\n",
       "      <td>2019-07-05</td>\n",
       "      <td>263540907</td>\n",
       "      <td>1</td>\n",
       "    </tr>\n",
       "    <tr>\n",
       "      <th>2</th>\n",
       "      <td>2019-07-06</td>\n",
       "      <td>0</td>\n",
       "      <td>0</td>\n",
       "    </tr>\n",
       "    <tr>\n",
       "      <th>3</th>\n",
       "      <td>2019-07-07</td>\n",
       "      <td>0</td>\n",
       "      <td>0</td>\n",
       "    </tr>\n",
       "    <tr>\n",
       "      <th>4</th>\n",
       "      <td>2019-07-08</td>\n",
       "      <td>301014942</td>\n",
       "      <td>1</td>\n",
       "    </tr>\n",
       "    <tr>\n",
       "      <th>...</th>\n",
       "      <td>...</td>\n",
       "      <td>...</td>\n",
       "      <td>...</td>\n",
       "    </tr>\n",
       "    <tr>\n",
       "      <th>732</th>\n",
       "      <td>2021-07-05</td>\n",
       "      <td>0</td>\n",
       "      <td>1</td>\n",
       "    </tr>\n",
       "    <tr>\n",
       "      <th>733</th>\n",
       "      <td>2021-07-06</td>\n",
       "      <td>763135176</td>\n",
       "      <td>1</td>\n",
       "    </tr>\n",
       "    <tr>\n",
       "      <th>734</th>\n",
       "      <td>2021-07-07</td>\n",
       "      <td>363085445</td>\n",
       "      <td>1</td>\n",
       "    </tr>\n",
       "    <tr>\n",
       "      <th>735</th>\n",
       "      <td>2021-07-08</td>\n",
       "      <td>236200655</td>\n",
       "      <td>1</td>\n",
       "    </tr>\n",
       "    <tr>\n",
       "      <th>736</th>\n",
       "      <td>2021-07-09</td>\n",
       "      <td>228483931</td>\n",
       "      <td>1</td>\n",
       "    </tr>\n",
       "  </tbody>\n",
       "</table>\n",
       "<p>737 rows × 3 columns</p>\n",
       "</div>"
      ],
      "text/plain": [
       "         fecha      value  weekend\n",
       "0   2019-07-04  932383252        1\n",
       "1   2019-07-05  263540907        1\n",
       "2   2019-07-06          0        0\n",
       "3   2019-07-07          0        0\n",
       "4   2019-07-08  301014942        1\n",
       "..         ...        ...      ...\n",
       "732 2021-07-05          0        1\n",
       "733 2021-07-06  763135176        1\n",
       "734 2021-07-07  363085445        1\n",
       "735 2021-07-08  236200655        1\n",
       "736 2021-07-09  228483931        1\n",
       "\n",
       "[737 rows x 3 columns]"
      ]
     },
     "execution_count": 106,
     "metadata": {},
     "output_type": "execute_result"
    }
   ],
   "source": [
    "data"
   ]
  },
  {
   "cell_type": "code",
   "execution_count": 107,
   "id": "9aa54d33",
   "metadata": {},
   "outputs": [
    {
     "name": "stdout",
     "output_type": "stream",
     "text": [
      "Error de backtest: [2.50191774e+16]\n"
     ]
    }
   ],
   "source": [
    "# Backtesting\n",
    "# ==============================================================================\n",
    "metric, predicciones = backtesting_forecaster(\n",
    "    forecaster = forecaster,\n",
    "    y          = datos['value'],\n",
    "    initial_train_size = len(data.loc[:600]),\n",
    "    steps      = 30,\n",
    "    refit      = False,\n",
    "    metric     = 'mean_squared_error',\n",
    "    verbose    = False # Change to True to see detailed information\n",
    ")\n",
    "\n",
    "print(f\"Error de backtest: {metric}\")"
   ]
  },
  {
   "cell_type": "code",
   "execution_count": 108,
   "id": "0fcc305b",
   "metadata": {},
   "outputs": [
    {
     "data": {
      "application/vnd.plotly.v1+json": {
       "config": {
        "plotlyServerURL": "https://plot.ly"
       },
       "data": [
        {
         "hovertemplate": "variable=test<br>date_time=%{x}<br>value=%{y}<extra></extra>",
         "legendgroup": "test",
         "line": {
          "color": "#636efa",
          "dash": "solid"
         },
         "marker": {
          "symbol": "circle"
         },
         "mode": "lines",
         "name": "test",
         "orientation": "v",
         "showlegend": true,
         "type": "scatter",
         "x": [
          601,
          602,
          603,
          604,
          605,
          606,
          607,
          608,
          609,
          610,
          611,
          612,
          613,
          614,
          615,
          616,
          617,
          618,
          619,
          620,
          621,
          622,
          623,
          624,
          625,
          626,
          627,
          628,
          629,
          630,
          631,
          632,
          633,
          634,
          635,
          636,
          637,
          638,
          639,
          640,
          641,
          642,
          643,
          644,
          645,
          646,
          647,
          648,
          649,
          650,
          651,
          652,
          653,
          654,
          655,
          656,
          657,
          658,
          659,
          660,
          661,
          662,
          663,
          664,
          665,
          666,
          667,
          668,
          669,
          670,
          671,
          672,
          673,
          674,
          675,
          676,
          677,
          678,
          679,
          680,
          681,
          682,
          683,
          684,
          685,
          686,
          687,
          688,
          689,
          690,
          691,
          692,
          693,
          694,
          695,
          696,
          697,
          698,
          699,
          700,
          701,
          702,
          703,
          704,
          705,
          706,
          707,
          708,
          709,
          710,
          711,
          712,
          713,
          714,
          715,
          716,
          717,
          718,
          719,
          720,
          721,
          722,
          723,
          724,
          725,
          726,
          727,
          728,
          729,
          730,
          731,
          732,
          733,
          734,
          735,
          736
         ],
         "xaxis": "x",
         "y": [
          423179057,
          323001141,
          305419867,
          0,
          0,
          0,
          1274250042,
          442279010,
          339853724,
          241960270,
          105646383,
          0,
          298063296,
          301153974,
          250729372,
          297732388,
          274644992,
          0,
          0,
          532211746,
          592882666,
          559495163,
          538147248,
          459722983,
          0,
          0,
          0,
          971429473,
          587232641,
          358237477,
          301947985,
          0,
          0,
          426478184,
          342967387,
          406513904,
          400924392,
          0,
          153533063,
          105709507,
          469227509,
          434829330,
          272658697,
          251178090,
          201197577,
          75808988,
          0,
          302025487,
          422294360,
          375890536,
          393357179,
          429403683,
          256638668,
          0,
          563159546,
          776893461,
          609472152,
          481694248,
          394307732,
          0,
          0,
          513343797,
          415795750,
          307113775,
          166972260,
          234142619,
          0,
          0,
          510111855,
          392246862,
          266610383,
          177094280,
          146542899,
          0,
          0,
          201254794,
          137038876,
          107999808,
          127270601,
          192743863,
          0,
          0,
          0,
          611314375,
          565033845,
          502184573,
          477369282,
          289151495,
          0,
          489539679,
          695427617,
          526984083,
          408174191,
          392226550,
          0,
          0,
          622136553,
          603692163,
          503797031,
          389157774,
          298627579,
          0,
          0,
          0,
          368853596,
          460475200,
          258555467,
          233009994,
          0,
          0,
          0,
          445062897,
          440185445,
          510045635,
          420745345,
          259216007,
          0,
          477567932,
          667632251,
          530988567,
          398341383,
          332395364,
          209321480,
          0,
          358793211,
          497324580,
          399713350,
          533519026,
          482622146,
          0,
          0,
          0,
          763135176,
          363085445,
          236200655,
          228483931
         ],
         "yaxis": "y"
        },
        {
         "hovertemplate": "variable=prediccion<br>date_time=%{x}<br>value=%{y}<extra></extra>",
         "legendgroup": "prediccion",
         "line": {
          "color": "#EF553B",
          "dash": "solid"
         },
         "marker": {
          "symbol": "circle"
         },
         "mode": "lines",
         "name": "prediccion",
         "orientation": "v",
         "showlegend": true,
         "type": "scatter",
         "x": [
          601,
          602,
          603,
          604,
          605,
          606,
          607,
          608,
          609,
          610,
          611,
          612,
          613,
          614,
          615,
          616,
          617,
          618,
          619,
          620,
          621,
          622,
          623,
          624,
          625,
          626,
          627,
          628,
          629,
          630,
          631,
          632,
          633,
          634,
          635,
          636,
          637,
          638,
          639,
          640,
          641,
          642,
          643,
          644,
          645,
          646,
          647,
          648,
          649,
          650,
          651,
          652,
          653,
          654,
          655,
          656,
          657,
          658,
          659,
          660,
          661,
          662,
          663,
          664,
          665,
          666,
          667,
          668,
          669,
          670,
          671,
          672,
          673,
          674,
          675,
          676,
          677,
          678,
          679,
          680,
          681,
          682,
          683,
          684,
          685,
          686,
          687,
          688,
          689,
          690,
          691,
          692,
          693,
          694,
          695,
          696,
          697,
          698,
          699,
          700,
          701,
          702,
          703,
          704,
          705,
          706,
          707,
          708,
          709,
          710,
          711,
          712,
          713,
          714,
          715,
          716,
          717,
          718,
          719,
          720,
          721,
          722,
          723,
          724,
          725,
          726,
          727,
          728,
          729,
          730,
          731,
          732,
          733,
          734,
          735,
          736
         ],
         "xaxis": "x",
         "y": [
          468330754.14315176,
          376571613.4196659,
          181402486.37267184,
          20834655.46106935,
          140625355.93779162,
          384115114.4387913,
          596890022.3527937,
          416795638.54796976,
          344919003.3203123,
          261121280.4801281,
          -1841589.2753426728,
          14630891.596855216,
          276098276.7042759,
          413916034.93185,
          342392841.0426889,
          355166020.6169657,
          271953897.33697283,
          5100153.850958548,
          31171701.470848482,
          497865842.1331369,
          684383458.2152693,
          568609036.6587951,
          569368618.2710309,
          478220905.1039574,
          64980470.54244467,
          80390321.4397581,
          773358802.8966537,
          511389455.37300444,
          450634764.4434618,
          217684240.66442057,
          224077486.96842533,
          85565033.1443546,
          21480466.78471659,
          262414751.26053193,
          569910615.8814837,
          459548785.292336,
          385747833.4546242,
          271927132.78988004,
          31512222.910379615,
          -3611822.008174657,
          397885475.7870138,
          296515280.35432976,
          334780224.9266871,
          274781357.350661,
          247671449.91168663,
          48103695.536336735,
          -42268753.78834479,
          488386330.02134967,
          585761132.3398341,
          641668363.7186687,
          612651805.7424047,
          501746584.3623872,
          94817396.00586541,
          31533387.240556628,
          403806089.4815465,
          602988625.2526962,
          407297415.42204106,
          344883675.2561204,
          252762838.75542504,
          38127538.37213054,
          27380637.890554868,
          558452294.0534216,
          369903845.021134,
          285547541.7210028,
          249696101.46401057,
          217616754.23205692,
          20240332.08944434,
          117093362.94084284,
          266241675.62815636,
          380765479.3007566,
          381758991.98933136,
          300869352.56922495,
          289553532.820623,
          85709839.7550439,
          -44432262.5212377,
          185217849.74893954,
          184733190.36374372,
          75248772.98015544,
          5333478.365520312,
          143133551.44619507,
          79887482.27135251,
          22399760.938377697,
          22031770.064139258,
          388388433.46835786,
          513477230.07955396,
          522911060.3774337,
          486352278.379125,
          151064887.97778982,
          69280924.82703465,
          411521584.02806044,
          612962849.9852008,
          435905752.1727169,
          347984041.1089769,
          235673333.94436133,
          178629417.86782923,
          57847283.42311046,
          359518210.8565095,
          416510928.0006583,
          364926881.6821432,
          319983378.7899801,
          169791016.08777854,
          296219.9580478623,
          -6891245.120244179,
          228054311.05063167,
          201562587.5173993,
          197485029.62065864,
          87794273.43564384,
          171293401.55820623,
          18595638.704097074,
          -1443781.57439731,
          143166923.52661338,
          340023358.0669809,
          404585004.18232197,
          462827935.65335655,
          542437192.6895363,
          222801777.4037173,
          -52710675.91050624,
          620855711.4099518,
          665340391.4218663,
          518479095.83966243,
          372456870.2501048,
          226828162.774593,
          112267964.45714733,
          -39623466.81122893,
          605734955.1696576,
          573863670.3576872,
          541215479.9798565,
          344111932.22467595,
          271789166.42647064,
          66116304.795463994,
          26953253.419179726,
          193569667.30797657,
          226518736.25377813,
          300196244.7939056,
          281760753.04552716,
          305803135.1141658
         ],
         "yaxis": "y"
        }
       ],
       "layout": {
        "height": 500,
        "legend": {
         "title": {
          "text": "variable"
         },
         "tracegroupgap": 0
        },
        "template": {
         "data": {
          "bar": [
           {
            "error_x": {
             "color": "#2a3f5f"
            },
            "error_y": {
             "color": "#2a3f5f"
            },
            "marker": {
             "line": {
              "color": "#E5ECF6",
              "width": 0.5
             },
             "pattern": {
              "fillmode": "overlay",
              "size": 10,
              "solidity": 0.2
             }
            },
            "type": "bar"
           }
          ],
          "barpolar": [
           {
            "marker": {
             "line": {
              "color": "#E5ECF6",
              "width": 0.5
             },
             "pattern": {
              "fillmode": "overlay",
              "size": 10,
              "solidity": 0.2
             }
            },
            "type": "barpolar"
           }
          ],
          "carpet": [
           {
            "aaxis": {
             "endlinecolor": "#2a3f5f",
             "gridcolor": "white",
             "linecolor": "white",
             "minorgridcolor": "white",
             "startlinecolor": "#2a3f5f"
            },
            "baxis": {
             "endlinecolor": "#2a3f5f",
             "gridcolor": "white",
             "linecolor": "white",
             "minorgridcolor": "white",
             "startlinecolor": "#2a3f5f"
            },
            "type": "carpet"
           }
          ],
          "choropleth": [
           {
            "colorbar": {
             "outlinewidth": 0,
             "ticks": ""
            },
            "type": "choropleth"
           }
          ],
          "contour": [
           {
            "colorbar": {
             "outlinewidth": 0,
             "ticks": ""
            },
            "colorscale": [
             [
              0,
              "#0d0887"
             ],
             [
              0.1111111111111111,
              "#46039f"
             ],
             [
              0.2222222222222222,
              "#7201a8"
             ],
             [
              0.3333333333333333,
              "#9c179e"
             ],
             [
              0.4444444444444444,
              "#bd3786"
             ],
             [
              0.5555555555555556,
              "#d8576b"
             ],
             [
              0.6666666666666666,
              "#ed7953"
             ],
             [
              0.7777777777777778,
              "#fb9f3a"
             ],
             [
              0.8888888888888888,
              "#fdca26"
             ],
             [
              1,
              "#f0f921"
             ]
            ],
            "type": "contour"
           }
          ],
          "contourcarpet": [
           {
            "colorbar": {
             "outlinewidth": 0,
             "ticks": ""
            },
            "type": "contourcarpet"
           }
          ],
          "heatmap": [
           {
            "colorbar": {
             "outlinewidth": 0,
             "ticks": ""
            },
            "colorscale": [
             [
              0,
              "#0d0887"
             ],
             [
              0.1111111111111111,
              "#46039f"
             ],
             [
              0.2222222222222222,
              "#7201a8"
             ],
             [
              0.3333333333333333,
              "#9c179e"
             ],
             [
              0.4444444444444444,
              "#bd3786"
             ],
             [
              0.5555555555555556,
              "#d8576b"
             ],
             [
              0.6666666666666666,
              "#ed7953"
             ],
             [
              0.7777777777777778,
              "#fb9f3a"
             ],
             [
              0.8888888888888888,
              "#fdca26"
             ],
             [
              1,
              "#f0f921"
             ]
            ],
            "type": "heatmap"
           }
          ],
          "heatmapgl": [
           {
            "colorbar": {
             "outlinewidth": 0,
             "ticks": ""
            },
            "colorscale": [
             [
              0,
              "#0d0887"
             ],
             [
              0.1111111111111111,
              "#46039f"
             ],
             [
              0.2222222222222222,
              "#7201a8"
             ],
             [
              0.3333333333333333,
              "#9c179e"
             ],
             [
              0.4444444444444444,
              "#bd3786"
             ],
             [
              0.5555555555555556,
              "#d8576b"
             ],
             [
              0.6666666666666666,
              "#ed7953"
             ],
             [
              0.7777777777777778,
              "#fb9f3a"
             ],
             [
              0.8888888888888888,
              "#fdca26"
             ],
             [
              1,
              "#f0f921"
             ]
            ],
            "type": "heatmapgl"
           }
          ],
          "histogram": [
           {
            "marker": {
             "pattern": {
              "fillmode": "overlay",
              "size": 10,
              "solidity": 0.2
             }
            },
            "type": "histogram"
           }
          ],
          "histogram2d": [
           {
            "colorbar": {
             "outlinewidth": 0,
             "ticks": ""
            },
            "colorscale": [
             [
              0,
              "#0d0887"
             ],
             [
              0.1111111111111111,
              "#46039f"
             ],
             [
              0.2222222222222222,
              "#7201a8"
             ],
             [
              0.3333333333333333,
              "#9c179e"
             ],
             [
              0.4444444444444444,
              "#bd3786"
             ],
             [
              0.5555555555555556,
              "#d8576b"
             ],
             [
              0.6666666666666666,
              "#ed7953"
             ],
             [
              0.7777777777777778,
              "#fb9f3a"
             ],
             [
              0.8888888888888888,
              "#fdca26"
             ],
             [
              1,
              "#f0f921"
             ]
            ],
            "type": "histogram2d"
           }
          ],
          "histogram2dcontour": [
           {
            "colorbar": {
             "outlinewidth": 0,
             "ticks": ""
            },
            "colorscale": [
             [
              0,
              "#0d0887"
             ],
             [
              0.1111111111111111,
              "#46039f"
             ],
             [
              0.2222222222222222,
              "#7201a8"
             ],
             [
              0.3333333333333333,
              "#9c179e"
             ],
             [
              0.4444444444444444,
              "#bd3786"
             ],
             [
              0.5555555555555556,
              "#d8576b"
             ],
             [
              0.6666666666666666,
              "#ed7953"
             ],
             [
              0.7777777777777778,
              "#fb9f3a"
             ],
             [
              0.8888888888888888,
              "#fdca26"
             ],
             [
              1,
              "#f0f921"
             ]
            ],
            "type": "histogram2dcontour"
           }
          ],
          "mesh3d": [
           {
            "colorbar": {
             "outlinewidth": 0,
             "ticks": ""
            },
            "type": "mesh3d"
           }
          ],
          "parcoords": [
           {
            "line": {
             "colorbar": {
              "outlinewidth": 0,
              "ticks": ""
             }
            },
            "type": "parcoords"
           }
          ],
          "pie": [
           {
            "automargin": true,
            "type": "pie"
           }
          ],
          "scatter": [
           {
            "marker": {
             "colorbar": {
              "outlinewidth": 0,
              "ticks": ""
             }
            },
            "type": "scatter"
           }
          ],
          "scatter3d": [
           {
            "line": {
             "colorbar": {
              "outlinewidth": 0,
              "ticks": ""
             }
            },
            "marker": {
             "colorbar": {
              "outlinewidth": 0,
              "ticks": ""
             }
            },
            "type": "scatter3d"
           }
          ],
          "scattercarpet": [
           {
            "marker": {
             "colorbar": {
              "outlinewidth": 0,
              "ticks": ""
             }
            },
            "type": "scattercarpet"
           }
          ],
          "scattergeo": [
           {
            "marker": {
             "colorbar": {
              "outlinewidth": 0,
              "ticks": ""
             }
            },
            "type": "scattergeo"
           }
          ],
          "scattergl": [
           {
            "marker": {
             "colorbar": {
              "outlinewidth": 0,
              "ticks": ""
             }
            },
            "type": "scattergl"
           }
          ],
          "scattermapbox": [
           {
            "marker": {
             "colorbar": {
              "outlinewidth": 0,
              "ticks": ""
             }
            },
            "type": "scattermapbox"
           }
          ],
          "scatterpolar": [
           {
            "marker": {
             "colorbar": {
              "outlinewidth": 0,
              "ticks": ""
             }
            },
            "type": "scatterpolar"
           }
          ],
          "scatterpolargl": [
           {
            "marker": {
             "colorbar": {
              "outlinewidth": 0,
              "ticks": ""
             }
            },
            "type": "scatterpolargl"
           }
          ],
          "scatterternary": [
           {
            "marker": {
             "colorbar": {
              "outlinewidth": 0,
              "ticks": ""
             }
            },
            "type": "scatterternary"
           }
          ],
          "surface": [
           {
            "colorbar": {
             "outlinewidth": 0,
             "ticks": ""
            },
            "colorscale": [
             [
              0,
              "#0d0887"
             ],
             [
              0.1111111111111111,
              "#46039f"
             ],
             [
              0.2222222222222222,
              "#7201a8"
             ],
             [
              0.3333333333333333,
              "#9c179e"
             ],
             [
              0.4444444444444444,
              "#bd3786"
             ],
             [
              0.5555555555555556,
              "#d8576b"
             ],
             [
              0.6666666666666666,
              "#ed7953"
             ],
             [
              0.7777777777777778,
              "#fb9f3a"
             ],
             [
              0.8888888888888888,
              "#fdca26"
             ],
             [
              1,
              "#f0f921"
             ]
            ],
            "type": "surface"
           }
          ],
          "table": [
           {
            "cells": {
             "fill": {
              "color": "#EBF0F8"
             },
             "line": {
              "color": "white"
             }
            },
            "header": {
             "fill": {
              "color": "#C8D4E3"
             },
             "line": {
              "color": "white"
             }
            },
            "type": "table"
           }
          ]
         },
         "layout": {
          "annotationdefaults": {
           "arrowcolor": "#2a3f5f",
           "arrowhead": 0,
           "arrowwidth": 1
          },
          "autotypenumbers": "strict",
          "coloraxis": {
           "colorbar": {
            "outlinewidth": 0,
            "ticks": ""
           }
          },
          "colorscale": {
           "diverging": [
            [
             0,
             "#8e0152"
            ],
            [
             0.1,
             "#c51b7d"
            ],
            [
             0.2,
             "#de77ae"
            ],
            [
             0.3,
             "#f1b6da"
            ],
            [
             0.4,
             "#fde0ef"
            ],
            [
             0.5,
             "#f7f7f7"
            ],
            [
             0.6,
             "#e6f5d0"
            ],
            [
             0.7,
             "#b8e186"
            ],
            [
             0.8,
             "#7fbc41"
            ],
            [
             0.9,
             "#4d9221"
            ],
            [
             1,
             "#276419"
            ]
           ],
           "sequential": [
            [
             0,
             "#0d0887"
            ],
            [
             0.1111111111111111,
             "#46039f"
            ],
            [
             0.2222222222222222,
             "#7201a8"
            ],
            [
             0.3333333333333333,
             "#9c179e"
            ],
            [
             0.4444444444444444,
             "#bd3786"
            ],
            [
             0.5555555555555556,
             "#d8576b"
            ],
            [
             0.6666666666666666,
             "#ed7953"
            ],
            [
             0.7777777777777778,
             "#fb9f3a"
            ],
            [
             0.8888888888888888,
             "#fdca26"
            ],
            [
             1,
             "#f0f921"
            ]
           ],
           "sequentialminus": [
            [
             0,
             "#0d0887"
            ],
            [
             0.1111111111111111,
             "#46039f"
            ],
            [
             0.2222222222222222,
             "#7201a8"
            ],
            [
             0.3333333333333333,
             "#9c179e"
            ],
            [
             0.4444444444444444,
             "#bd3786"
            ],
            [
             0.5555555555555556,
             "#d8576b"
            ],
            [
             0.6666666666666666,
             "#ed7953"
            ],
            [
             0.7777777777777778,
             "#fb9f3a"
            ],
            [
             0.8888888888888888,
             "#fdca26"
            ],
            [
             1,
             "#f0f921"
            ]
           ]
          },
          "colorway": [
           "#636efa",
           "#EF553B",
           "#00cc96",
           "#ab63fa",
           "#FFA15A",
           "#19d3f3",
           "#FF6692",
           "#B6E880",
           "#FF97FF",
           "#FECB52"
          ],
          "font": {
           "color": "#2a3f5f"
          },
          "geo": {
           "bgcolor": "white",
           "lakecolor": "white",
           "landcolor": "#E5ECF6",
           "showlakes": true,
           "showland": true,
           "subunitcolor": "white"
          },
          "hoverlabel": {
           "align": "left"
          },
          "hovermode": "closest",
          "mapbox": {
           "style": "light"
          },
          "paper_bgcolor": "white",
          "plot_bgcolor": "#E5ECF6",
          "polar": {
           "angularaxis": {
            "gridcolor": "white",
            "linecolor": "white",
            "ticks": ""
           },
           "bgcolor": "#E5ECF6",
           "radialaxis": {
            "gridcolor": "white",
            "linecolor": "white",
            "ticks": ""
           }
          },
          "scene": {
           "xaxis": {
            "backgroundcolor": "#E5ECF6",
            "gridcolor": "white",
            "gridwidth": 2,
            "linecolor": "white",
            "showbackground": true,
            "ticks": "",
            "zerolinecolor": "white"
           },
           "yaxis": {
            "backgroundcolor": "#E5ECF6",
            "gridcolor": "white",
            "gridwidth": 2,
            "linecolor": "white",
            "showbackground": true,
            "ticks": "",
            "zerolinecolor": "white"
           },
           "zaxis": {
            "backgroundcolor": "#E5ECF6",
            "gridcolor": "white",
            "gridwidth": 2,
            "linecolor": "white",
            "showbackground": true,
            "ticks": "",
            "zerolinecolor": "white"
           }
          },
          "shapedefaults": {
           "line": {
            "color": "#2a3f5f"
           }
          },
          "ternary": {
           "aaxis": {
            "gridcolor": "white",
            "linecolor": "white",
            "ticks": ""
           },
           "baxis": {
            "gridcolor": "white",
            "linecolor": "white",
            "ticks": ""
           },
           "bgcolor": "#E5ECF6",
           "caxis": {
            "gridcolor": "white",
            "linecolor": "white",
            "ticks": ""
           }
          },
          "title": {
           "x": 0.05
          },
          "xaxis": {
           "automargin": true,
           "gridcolor": "white",
           "linecolor": "white",
           "ticks": "",
           "title": {
            "standoff": 15
           },
           "zerolinecolor": "white",
           "zerolinewidth": 2
          },
          "yaxis": {
           "automargin": true,
           "gridcolor": "white",
           "linecolor": "white",
           "ticks": "",
           "title": {
            "standoff": 15
           },
           "zerolinecolor": "white",
           "zerolinewidth": 2
          }
         }
        },
        "title": {
         "text": "Valor Recaudo"
        },
        "width": 900,
        "xaxis": {
         "anchor": "y",
         "domain": [
          0,
          1
         ],
         "rangeslider": {
          "visible": true
         },
         "title": {
          "text": "date_time"
         }
        },
        "yaxis": {
         "anchor": "x",
         "domain": [
          0,
          1
         ],
         "title": {
          "text": "value"
         }
        }
       }
      },
      "text/html": [
       "<div>                            <div id=\"f80a501e-cfbe-4236-a7d3-64ad4ed13e2f\" class=\"plotly-graph-div\" style=\"height:500px; width:900px;\"></div>            <script type=\"text/javascript\">                require([\"plotly\"], function(Plotly) {                    window.PLOTLYENV=window.PLOTLYENV || {};                                    if (document.getElementById(\"f80a501e-cfbe-4236-a7d3-64ad4ed13e2f\")) {                    Plotly.newPlot(                        \"f80a501e-cfbe-4236-a7d3-64ad4ed13e2f\",                        [{\"hovertemplate\":\"variable=test<br>date_time=%{x}<br>value=%{y}<extra></extra>\",\"legendgroup\":\"test\",\"line\":{\"color\":\"#636efa\",\"dash\":\"solid\"},\"marker\":{\"symbol\":\"circle\"},\"mode\":\"lines\",\"name\":\"test\",\"orientation\":\"v\",\"showlegend\":true,\"x\":[601,602,603,604,605,606,607,608,609,610,611,612,613,614,615,616,617,618,619,620,621,622,623,624,625,626,627,628,629,630,631,632,633,634,635,636,637,638,639,640,641,642,643,644,645,646,647,648,649,650,651,652,653,654,655,656,657,658,659,660,661,662,663,664,665,666,667,668,669,670,671,672,673,674,675,676,677,678,679,680,681,682,683,684,685,686,687,688,689,690,691,692,693,694,695,696,697,698,699,700,701,702,703,704,705,706,707,708,709,710,711,712,713,714,715,716,717,718,719,720,721,722,723,724,725,726,727,728,729,730,731,732,733,734,735,736],\"xaxis\":\"x\",\"y\":[423179057.0,323001141.0,305419867.0,0.0,0.0,0.0,1274250042.0,442279010.0,339853724.0,241960270.0,105646383.0,0.0,298063296.0,301153974.0,250729372.0,297732388.0,274644992.0,0.0,0.0,532211746.0,592882666.0,559495163.0,538147248.0,459722983.0,0.0,0.0,0.0,971429473.0,587232641.0,358237477.0,301947985.0,0.0,0.0,426478184.0,342967387.0,406513904.0,400924392.0,0.0,153533063.0,105709507.0,469227509.0,434829330.0,272658697.0,251178090.0,201197577.0,75808988.0,0.0,302025487.0,422294360.0,375890536.0,393357179.0,429403683.0,256638668.0,0.0,563159546.0,776893461.0,609472152.0,481694248.0,394307732.0,0.0,0.0,513343797.0,415795750.0,307113775.0,166972260.0,234142619.0,0.0,0.0,510111855.0,392246862.0,266610383.0,177094280.0,146542899.0,0.0,0.0,201254794.0,137038876.0,107999808.0,127270601.0,192743863.0,0.0,0.0,0.0,611314375.0,565033845.0,502184573.0,477369282.0,289151495.0,0.0,489539679.0,695427617.0,526984083.0,408174191.0,392226550.0,0.0,0.0,622136553.0,603692163.0,503797031.0,389157774.0,298627579.0,0.0,0.0,0.0,368853596.0,460475200.0,258555467.0,233009994.0,0.0,0.0,0.0,445062897.0,440185445.0,510045635.0,420745345.0,259216007.0,0.0,477567932.0,667632251.0,530988567.0,398341383.0,332395364.0,209321480.0,0.0,358793211.0,497324580.0,399713350.0,533519026.0,482622146.0,0.0,0.0,0.0,763135176.0,363085445.0,236200655.0,228483931.0],\"yaxis\":\"y\",\"type\":\"scatter\"},{\"hovertemplate\":\"variable=prediccion<br>date_time=%{x}<br>value=%{y}<extra></extra>\",\"legendgroup\":\"prediccion\",\"line\":{\"color\":\"#EF553B\",\"dash\":\"solid\"},\"marker\":{\"symbol\":\"circle\"},\"mode\":\"lines\",\"name\":\"prediccion\",\"orientation\":\"v\",\"showlegend\":true,\"x\":[601,602,603,604,605,606,607,608,609,610,611,612,613,614,615,616,617,618,619,620,621,622,623,624,625,626,627,628,629,630,631,632,633,634,635,636,637,638,639,640,641,642,643,644,645,646,647,648,649,650,651,652,653,654,655,656,657,658,659,660,661,662,663,664,665,666,667,668,669,670,671,672,673,674,675,676,677,678,679,680,681,682,683,684,685,686,687,688,689,690,691,692,693,694,695,696,697,698,699,700,701,702,703,704,705,706,707,708,709,710,711,712,713,714,715,716,717,718,719,720,721,722,723,724,725,726,727,728,729,730,731,732,733,734,735,736],\"xaxis\":\"x\",\"y\":[468330754.14315176,376571613.4196659,181402486.37267184,20834655.46106935,140625355.93779162,384115114.4387913,596890022.3527937,416795638.54796976,344919003.3203123,261121280.4801281,-1841589.2753426728,14630891.596855216,276098276.7042759,413916034.93185,342392841.0426889,355166020.6169657,271953897.33697283,5100153.850958548,31171701.470848482,497865842.1331369,684383458.2152693,568609036.6587951,569368618.2710309,478220905.1039574,64980470.54244467,80390321.4397581,773358802.8966537,511389455.37300444,450634764.4434618,217684240.66442057,224077486.96842533,85565033.1443546,21480466.78471659,262414751.26053193,569910615.8814837,459548785.292336,385747833.4546242,271927132.78988004,31512222.910379615,-3611822.008174657,397885475.7870138,296515280.35432976,334780224.9266871,274781357.350661,247671449.91168663,48103695.536336735,-42268753.78834479,488386330.02134967,585761132.3398341,641668363.7186687,612651805.7424047,501746584.3623872,94817396.00586541,31533387.240556628,403806089.4815465,602988625.2526962,407297415.42204106,344883675.2561204,252762838.75542504,38127538.37213054,27380637.890554868,558452294.0534216,369903845.021134,285547541.7210028,249696101.46401057,217616754.23205692,20240332.08944434,117093362.94084284,266241675.62815636,380765479.3007566,381758991.98933136,300869352.56922495,289553532.820623,85709839.7550439,-44432262.5212377,185217849.74893954,184733190.36374372,75248772.98015544,5333478.365520312,143133551.44619507,79887482.27135251,22399760.938377697,22031770.064139258,388388433.46835786,513477230.07955396,522911060.3774337,486352278.379125,151064887.97778982,69280924.82703465,411521584.02806044,612962849.9852008,435905752.1727169,347984041.1089769,235673333.94436133,178629417.86782923,57847283.42311046,359518210.8565095,416510928.0006583,364926881.6821432,319983378.7899801,169791016.08777854,296219.9580478623,-6891245.120244179,228054311.05063167,201562587.5173993,197485029.62065864,87794273.43564384,171293401.55820623,18595638.704097074,-1443781.57439731,143166923.52661338,340023358.0669809,404585004.18232197,462827935.65335655,542437192.6895363,222801777.4037173,-52710675.91050624,620855711.4099518,665340391.4218663,518479095.83966243,372456870.2501048,226828162.774593,112267964.45714733,-39623466.81122893,605734955.1696576,573863670.3576872,541215479.9798565,344111932.22467595,271789166.42647064,66116304.795463994,26953253.419179726,193569667.30797657,226518736.25377813,300196244.7939056,281760753.04552716,305803135.1141658],\"yaxis\":\"y\",\"type\":\"scatter\"}],                        {\"template\":{\"data\":{\"bar\":[{\"error_x\":{\"color\":\"#2a3f5f\"},\"error_y\":{\"color\":\"#2a3f5f\"},\"marker\":{\"line\":{\"color\":\"#E5ECF6\",\"width\":0.5},\"pattern\":{\"fillmode\":\"overlay\",\"size\":10,\"solidity\":0.2}},\"type\":\"bar\"}],\"barpolar\":[{\"marker\":{\"line\":{\"color\":\"#E5ECF6\",\"width\":0.5},\"pattern\":{\"fillmode\":\"overlay\",\"size\":10,\"solidity\":0.2}},\"type\":\"barpolar\"}],\"carpet\":[{\"aaxis\":{\"endlinecolor\":\"#2a3f5f\",\"gridcolor\":\"white\",\"linecolor\":\"white\",\"minorgridcolor\":\"white\",\"startlinecolor\":\"#2a3f5f\"},\"baxis\":{\"endlinecolor\":\"#2a3f5f\",\"gridcolor\":\"white\",\"linecolor\":\"white\",\"minorgridcolor\":\"white\",\"startlinecolor\":\"#2a3f5f\"},\"type\":\"carpet\"}],\"choropleth\":[{\"colorbar\":{\"outlinewidth\":0,\"ticks\":\"\"},\"type\":\"choropleth\"}],\"contour\":[{\"colorbar\":{\"outlinewidth\":0,\"ticks\":\"\"},\"colorscale\":[[0.0,\"#0d0887\"],[0.1111111111111111,\"#46039f\"],[0.2222222222222222,\"#7201a8\"],[0.3333333333333333,\"#9c179e\"],[0.4444444444444444,\"#bd3786\"],[0.5555555555555556,\"#d8576b\"],[0.6666666666666666,\"#ed7953\"],[0.7777777777777778,\"#fb9f3a\"],[0.8888888888888888,\"#fdca26\"],[1.0,\"#f0f921\"]],\"type\":\"contour\"}],\"contourcarpet\":[{\"colorbar\":{\"outlinewidth\":0,\"ticks\":\"\"},\"type\":\"contourcarpet\"}],\"heatmap\":[{\"colorbar\":{\"outlinewidth\":0,\"ticks\":\"\"},\"colorscale\":[[0.0,\"#0d0887\"],[0.1111111111111111,\"#46039f\"],[0.2222222222222222,\"#7201a8\"],[0.3333333333333333,\"#9c179e\"],[0.4444444444444444,\"#bd3786\"],[0.5555555555555556,\"#d8576b\"],[0.6666666666666666,\"#ed7953\"],[0.7777777777777778,\"#fb9f3a\"],[0.8888888888888888,\"#fdca26\"],[1.0,\"#f0f921\"]],\"type\":\"heatmap\"}],\"heatmapgl\":[{\"colorbar\":{\"outlinewidth\":0,\"ticks\":\"\"},\"colorscale\":[[0.0,\"#0d0887\"],[0.1111111111111111,\"#46039f\"],[0.2222222222222222,\"#7201a8\"],[0.3333333333333333,\"#9c179e\"],[0.4444444444444444,\"#bd3786\"],[0.5555555555555556,\"#d8576b\"],[0.6666666666666666,\"#ed7953\"],[0.7777777777777778,\"#fb9f3a\"],[0.8888888888888888,\"#fdca26\"],[1.0,\"#f0f921\"]],\"type\":\"heatmapgl\"}],\"histogram\":[{\"marker\":{\"pattern\":{\"fillmode\":\"overlay\",\"size\":10,\"solidity\":0.2}},\"type\":\"histogram\"}],\"histogram2d\":[{\"colorbar\":{\"outlinewidth\":0,\"ticks\":\"\"},\"colorscale\":[[0.0,\"#0d0887\"],[0.1111111111111111,\"#46039f\"],[0.2222222222222222,\"#7201a8\"],[0.3333333333333333,\"#9c179e\"],[0.4444444444444444,\"#bd3786\"],[0.5555555555555556,\"#d8576b\"],[0.6666666666666666,\"#ed7953\"],[0.7777777777777778,\"#fb9f3a\"],[0.8888888888888888,\"#fdca26\"],[1.0,\"#f0f921\"]],\"type\":\"histogram2d\"}],\"histogram2dcontour\":[{\"colorbar\":{\"outlinewidth\":0,\"ticks\":\"\"},\"colorscale\":[[0.0,\"#0d0887\"],[0.1111111111111111,\"#46039f\"],[0.2222222222222222,\"#7201a8\"],[0.3333333333333333,\"#9c179e\"],[0.4444444444444444,\"#bd3786\"],[0.5555555555555556,\"#d8576b\"],[0.6666666666666666,\"#ed7953\"],[0.7777777777777778,\"#fb9f3a\"],[0.8888888888888888,\"#fdca26\"],[1.0,\"#f0f921\"]],\"type\":\"histogram2dcontour\"}],\"mesh3d\":[{\"colorbar\":{\"outlinewidth\":0,\"ticks\":\"\"},\"type\":\"mesh3d\"}],\"parcoords\":[{\"line\":{\"colorbar\":{\"outlinewidth\":0,\"ticks\":\"\"}},\"type\":\"parcoords\"}],\"pie\":[{\"automargin\":true,\"type\":\"pie\"}],\"scatter\":[{\"marker\":{\"colorbar\":{\"outlinewidth\":0,\"ticks\":\"\"}},\"type\":\"scatter\"}],\"scatter3d\":[{\"line\":{\"colorbar\":{\"outlinewidth\":0,\"ticks\":\"\"}},\"marker\":{\"colorbar\":{\"outlinewidth\":0,\"ticks\":\"\"}},\"type\":\"scatter3d\"}],\"scattercarpet\":[{\"marker\":{\"colorbar\":{\"outlinewidth\":0,\"ticks\":\"\"}},\"type\":\"scattercarpet\"}],\"scattergeo\":[{\"marker\":{\"colorbar\":{\"outlinewidth\":0,\"ticks\":\"\"}},\"type\":\"scattergeo\"}],\"scattergl\":[{\"marker\":{\"colorbar\":{\"outlinewidth\":0,\"ticks\":\"\"}},\"type\":\"scattergl\"}],\"scattermapbox\":[{\"marker\":{\"colorbar\":{\"outlinewidth\":0,\"ticks\":\"\"}},\"type\":\"scattermapbox\"}],\"scatterpolar\":[{\"marker\":{\"colorbar\":{\"outlinewidth\":0,\"ticks\":\"\"}},\"type\":\"scatterpolar\"}],\"scatterpolargl\":[{\"marker\":{\"colorbar\":{\"outlinewidth\":0,\"ticks\":\"\"}},\"type\":\"scatterpolargl\"}],\"scatterternary\":[{\"marker\":{\"colorbar\":{\"outlinewidth\":0,\"ticks\":\"\"}},\"type\":\"scatterternary\"}],\"surface\":[{\"colorbar\":{\"outlinewidth\":0,\"ticks\":\"\"},\"colorscale\":[[0.0,\"#0d0887\"],[0.1111111111111111,\"#46039f\"],[0.2222222222222222,\"#7201a8\"],[0.3333333333333333,\"#9c179e\"],[0.4444444444444444,\"#bd3786\"],[0.5555555555555556,\"#d8576b\"],[0.6666666666666666,\"#ed7953\"],[0.7777777777777778,\"#fb9f3a\"],[0.8888888888888888,\"#fdca26\"],[1.0,\"#f0f921\"]],\"type\":\"surface\"}],\"table\":[{\"cells\":{\"fill\":{\"color\":\"#EBF0F8\"},\"line\":{\"color\":\"white\"}},\"header\":{\"fill\":{\"color\":\"#C8D4E3\"},\"line\":{\"color\":\"white\"}},\"type\":\"table\"}]},\"layout\":{\"annotationdefaults\":{\"arrowcolor\":\"#2a3f5f\",\"arrowhead\":0,\"arrowwidth\":1},\"autotypenumbers\":\"strict\",\"coloraxis\":{\"colorbar\":{\"outlinewidth\":0,\"ticks\":\"\"}},\"colorscale\":{\"diverging\":[[0,\"#8e0152\"],[0.1,\"#c51b7d\"],[0.2,\"#de77ae\"],[0.3,\"#f1b6da\"],[0.4,\"#fde0ef\"],[0.5,\"#f7f7f7\"],[0.6,\"#e6f5d0\"],[0.7,\"#b8e186\"],[0.8,\"#7fbc41\"],[0.9,\"#4d9221\"],[1,\"#276419\"]],\"sequential\":[[0.0,\"#0d0887\"],[0.1111111111111111,\"#46039f\"],[0.2222222222222222,\"#7201a8\"],[0.3333333333333333,\"#9c179e\"],[0.4444444444444444,\"#bd3786\"],[0.5555555555555556,\"#d8576b\"],[0.6666666666666666,\"#ed7953\"],[0.7777777777777778,\"#fb9f3a\"],[0.8888888888888888,\"#fdca26\"],[1.0,\"#f0f921\"]],\"sequentialminus\":[[0.0,\"#0d0887\"],[0.1111111111111111,\"#46039f\"],[0.2222222222222222,\"#7201a8\"],[0.3333333333333333,\"#9c179e\"],[0.4444444444444444,\"#bd3786\"],[0.5555555555555556,\"#d8576b\"],[0.6666666666666666,\"#ed7953\"],[0.7777777777777778,\"#fb9f3a\"],[0.8888888888888888,\"#fdca26\"],[1.0,\"#f0f921\"]]},\"colorway\":[\"#636efa\",\"#EF553B\",\"#00cc96\",\"#ab63fa\",\"#FFA15A\",\"#19d3f3\",\"#FF6692\",\"#B6E880\",\"#FF97FF\",\"#FECB52\"],\"font\":{\"color\":\"#2a3f5f\"},\"geo\":{\"bgcolor\":\"white\",\"lakecolor\":\"white\",\"landcolor\":\"#E5ECF6\",\"showlakes\":true,\"showland\":true,\"subunitcolor\":\"white\"},\"hoverlabel\":{\"align\":\"left\"},\"hovermode\":\"closest\",\"mapbox\":{\"style\":\"light\"},\"paper_bgcolor\":\"white\",\"plot_bgcolor\":\"#E5ECF6\",\"polar\":{\"angularaxis\":{\"gridcolor\":\"white\",\"linecolor\":\"white\",\"ticks\":\"\"},\"bgcolor\":\"#E5ECF6\",\"radialaxis\":{\"gridcolor\":\"white\",\"linecolor\":\"white\",\"ticks\":\"\"}},\"scene\":{\"xaxis\":{\"backgroundcolor\":\"#E5ECF6\",\"gridcolor\":\"white\",\"gridwidth\":2,\"linecolor\":\"white\",\"showbackground\":true,\"ticks\":\"\",\"zerolinecolor\":\"white\"},\"yaxis\":{\"backgroundcolor\":\"#E5ECF6\",\"gridcolor\":\"white\",\"gridwidth\":2,\"linecolor\":\"white\",\"showbackground\":true,\"ticks\":\"\",\"zerolinecolor\":\"white\"},\"zaxis\":{\"backgroundcolor\":\"#E5ECF6\",\"gridcolor\":\"white\",\"gridwidth\":2,\"linecolor\":\"white\",\"showbackground\":true,\"ticks\":\"\",\"zerolinecolor\":\"white\"}},\"shapedefaults\":{\"line\":{\"color\":\"#2a3f5f\"}},\"ternary\":{\"aaxis\":{\"gridcolor\":\"white\",\"linecolor\":\"white\",\"ticks\":\"\"},\"baxis\":{\"gridcolor\":\"white\",\"linecolor\":\"white\",\"ticks\":\"\"},\"bgcolor\":\"#E5ECF6\",\"caxis\":{\"gridcolor\":\"white\",\"linecolor\":\"white\",\"ticks\":\"\"}},\"title\":{\"x\":0.05},\"xaxis\":{\"automargin\":true,\"gridcolor\":\"white\",\"linecolor\":\"white\",\"ticks\":\"\",\"title\":{\"standoff\":15},\"zerolinecolor\":\"white\",\"zerolinewidth\":2},\"yaxis\":{\"automargin\":true,\"gridcolor\":\"white\",\"linecolor\":\"white\",\"ticks\":\"\",\"title\":{\"standoff\":15},\"zerolinecolor\":\"white\",\"zerolinewidth\":2}}},\"xaxis\":{\"anchor\":\"y\",\"domain\":[0.0,1.0],\"title\":{\"text\":\"date_time\"},\"rangeslider\":{\"visible\":true}},\"yaxis\":{\"anchor\":\"x\",\"domain\":[0.0,1.0],\"title\":{\"text\":\"value\"}},\"legend\":{\"title\":{\"text\":\"variable\"},\"tracegroupgap\":0},\"title\":{\"text\":\"Valor Recaudo\"},\"height\":500,\"width\":900},                        {\"responsive\": true}                    ).then(function(){\n",
       "                            \n",
       "var gd = document.getElementById('f80a501e-cfbe-4236-a7d3-64ad4ed13e2f');\n",
       "var x = new MutationObserver(function (mutations, observer) {{\n",
       "        var display = window.getComputedStyle(gd).display;\n",
       "        if (!display || display === 'none') {{\n",
       "            console.log([gd, 'removed!']);\n",
       "            Plotly.purge(gd);\n",
       "            observer.disconnect();\n",
       "        }}\n",
       "}});\n",
       "\n",
       "// Listen for the removal of the full notebook cells\n",
       "var notebookContainer = gd.closest('#notebook-container');\n",
       "if (notebookContainer) {{\n",
       "    x.observe(notebookContainer, {childList: true});\n",
       "}}\n",
       "\n",
       "// Listen for the clearing of the current output cell\n",
       "var outputEl = gd.closest('.output');\n",
       "if (outputEl) {{\n",
       "    x.observe(outputEl, {childList: true});\n",
       "}}\n",
       "\n",
       "                        })                };                });            </script>        </div>"
      ]
     },
     "metadata": {},
     "output_type": "display_data"
    }
   ],
   "source": [
    "# Gráfico interactivo serie temporal\n",
    "# ==============================================================================\n",
    "datos_plot = pd.DataFrame({\n",
    "                'test': datos_test['value'],\n",
    "                'prediccion': predicciones['pred'],\n",
    "\n",
    "                 })\n",
    "datos_plot.index.name = 'date_time'\n",
    "\n",
    "fig = px.line(\n",
    "    data_frame = datos_plot.reset_index(),\n",
    "    x      = 'date_time',\n",
    "    y      = datos_plot.columns,\n",
    "    title  = 'Valor Recaudo',\n",
    "    width  = 900,\n",
    "    height = 500\n",
    ")\n",
    "\n",
    "fig.update_xaxes(rangeslider_visible=True)\n",
    "fig.show()"
   ]
  },
  {
   "cell_type": "markdown",
   "id": "cdc8d8be",
   "metadata": {},
   "source": [
    "#### Predicción datos futuros LBM"
   ]
  },
  {
   "cell_type": "code",
   "execution_count": 109,
   "id": "ae2cef2c",
   "metadata": {},
   "outputs": [
    {
     "data": {
      "text/plain": [
       "601    4.683308e+08\n",
       "602    3.765716e+08\n",
       "603    1.814025e+08\n",
       "604    2.083466e+07\n",
       "605    1.406254e+08\n",
       "           ...     \n",
       "796    3.593827e+08\n",
       "797    2.361716e+08\n",
       "798    1.633232e+08\n",
       "799    1.042862e+08\n",
       "800   -2.411877e+07\n",
       "Name: pred, Length: 200, dtype: float64"
      ]
     },
     "execution_count": 109,
     "metadata": {},
     "output_type": "execute_result"
    }
   ],
   "source": [
    "predic_datos_futuros_LBM= forecaster.predict(steps= 200)\n",
    "predic_datos_futuros_LBM"
   ]
  },
  {
   "cell_type": "code",
   "execution_count": 110,
   "id": "da231c92",
   "metadata": {},
   "outputs": [],
   "source": [
    "#predic_datos_futuros_LBM.to_excel('predic_datos_futuros_LBM.xlsx')"
   ]
  },
  {
   "cell_type": "code",
   "execution_count": 111,
   "id": "de9b05d1",
   "metadata": {},
   "outputs": [
    {
     "data": {
      "image/png": "[encoded data removed]",
      "text/plain": [
       "<Figure size 792x288 with 1 Axes>"
      ]
     },
     "metadata": {
      "needs_background": "light"
     },
     "output_type": "display_data"
    }
   ],
   "source": [
    "fig, ax = plt.subplots(figsize=(11, 4))\n",
    "datos_test['value'].plot(ax=ax, label='test')\n",
    "predic_datos_futuros_LBM.plot(ax=ax, label='predicciones')\n",
    "ax.legend();"
   ]
  },
  {
   "cell_type": "markdown",
   "id": "654ebad1",
   "metadata": {},
   "source": [
    "## CATBOOST\n",
    "CatBoost se basa en la teoría de los árboles de decisión y la potenciación de gradientes. La idea principal de impulsar es combinar secuencialmente muchos modelos débiles (un modelo que funciona ligeramente mejor que el azar) y, por lo tanto, a través de la búsqueda codiciosa, crear un modelo predictivo competitivo fuerte.Debido a que el aumento de gradiente se ajusta secuencialmente a los árboles de decisión, los árboles ajustados aprenderán de los errores de los árboles anteriores y, por lo tanto, reducirán los errores."
   ]
  },
  {
   "cell_type": "code",
   "execution_count": 112,
   "id": "f97ff000",
   "metadata": {},
   "outputs": [
    {
     "data": {
      "text/plain": [
       "================= \n",
       "ForecasterAutoreg \n",
       "================= \n",
       "Regressor: <catboost.core.CatBoostRegressor object at 0x0000017DFB620490> \n",
       "Lags: [ 1  2  3  4  5  6  7  8  9 10 11 12 13 14 15 16 17 18 19 20 21 22 23 24\n",
       " 25 26 27 28 29 30] \n",
       "Window size: 30 \n",
       "Included exogenous: False \n",
       "Type of exogenous variable: None \n",
       "Exogenous variables names: None \n",
       "Training range: None \n",
       "Training index type: None \n",
       "Training index frequency: None \n",
       "Regressor parameters: {'loss_function': 'RMSE', 'silent': True, 'random_state': 123} \n",
       "Creation date: 2022-02-02 11:42:36 \n",
       "Last fit date: None \n",
       "Skforecast version: 0.4.1 "
      ]
     },
     "execution_count": 112,
     "metadata": {},
     "output_type": "execute_result"
    }
   ],
   "source": [
    "forecaster = ForecasterAutoreg(\n",
    "                regressor = CatBoostRegressor(random_state=123, silent=True),\n",
    "                lags = 30\n",
    "             )\n",
    "\n",
    "forecaster"
   ]
  },
  {
   "cell_type": "code",
   "execution_count": 115,
   "id": "f58c97d6",
   "metadata": {},
   "outputs": [
    {
     "data": {
      "text/html": [
       "<div>\n",
       "<style scoped>\n",
       "    .dataframe tbody tr th:only-of-type {\n",
       "        vertical-align: middle;\n",
       "    }\n",
       "\n",
       "    .dataframe tbody tr th {\n",
       "        vertical-align: top;\n",
       "    }\n",
       "\n",
       "    .dataframe thead th {\n",
       "        text-align: right;\n",
       "    }\n",
       "</style>\n",
       "<table border=\"1\" class=\"dataframe\">\n",
       "  <thead>\n",
       "    <tr style=\"text-align: right;\">\n",
       "      <th></th>\n",
       "      <th>fecha</th>\n",
       "      <th>value</th>\n",
       "      <th>weekend</th>\n",
       "    </tr>\n",
       "  </thead>\n",
       "  <tbody>\n",
       "    <tr>\n",
       "      <th>0</th>\n",
       "      <td>2019-07-04</td>\n",
       "      <td>932383252</td>\n",
       "      <td>1</td>\n",
       "    </tr>\n",
       "    <tr>\n",
       "      <th>1</th>\n",
       "      <td>2019-07-05</td>\n",
       "      <td>263540907</td>\n",
       "      <td>1</td>\n",
       "    </tr>\n",
       "    <tr>\n",
       "      <th>2</th>\n",
       "      <td>2019-07-06</td>\n",
       "      <td>0</td>\n",
       "      <td>0</td>\n",
       "    </tr>\n",
       "    <tr>\n",
       "      <th>3</th>\n",
       "      <td>2019-07-07</td>\n",
       "      <td>0</td>\n",
       "      <td>0</td>\n",
       "    </tr>\n",
       "    <tr>\n",
       "      <th>4</th>\n",
       "      <td>2019-07-08</td>\n",
       "      <td>301014942</td>\n",
       "      <td>1</td>\n",
       "    </tr>\n",
       "    <tr>\n",
       "      <th>...</th>\n",
       "      <td>...</td>\n",
       "      <td>...</td>\n",
       "      <td>...</td>\n",
       "    </tr>\n",
       "    <tr>\n",
       "      <th>732</th>\n",
       "      <td>2021-07-05</td>\n",
       "      <td>0</td>\n",
       "      <td>1</td>\n",
       "    </tr>\n",
       "    <tr>\n",
       "      <th>733</th>\n",
       "      <td>2021-07-06</td>\n",
       "      <td>763135176</td>\n",
       "      <td>1</td>\n",
       "    </tr>\n",
       "    <tr>\n",
       "      <th>734</th>\n",
       "      <td>2021-07-07</td>\n",
       "      <td>363085445</td>\n",
       "      <td>1</td>\n",
       "    </tr>\n",
       "    <tr>\n",
       "      <th>735</th>\n",
       "      <td>2021-07-08</td>\n",
       "      <td>236200655</td>\n",
       "      <td>1</td>\n",
       "    </tr>\n",
       "    <tr>\n",
       "      <th>736</th>\n",
       "      <td>2021-07-09</td>\n",
       "      <td>228483931</td>\n",
       "      <td>1</td>\n",
       "    </tr>\n",
       "  </tbody>\n",
       "</table>\n",
       "<p>737 rows × 3 columns</p>\n",
       "</div>"
      ],
      "text/plain": [
       "         fecha      value  weekend\n",
       "0   2019-07-04  932383252        1\n",
       "1   2019-07-05  263540907        1\n",
       "2   2019-07-06          0        0\n",
       "3   2019-07-07          0        0\n",
       "4   2019-07-08  301014942        1\n",
       "..         ...        ...      ...\n",
       "732 2021-07-05          0        1\n",
       "733 2021-07-06  763135176        1\n",
       "734 2021-07-07  363085445        1\n",
       "735 2021-07-08  236200655        1\n",
       "736 2021-07-09  228483931        1\n",
       "\n",
       "[737 rows x 3 columns]"
      ]
     },
     "execution_count": 115,
     "metadata": {},
     "output_type": "execute_result"
    }
   ],
   "source": [
    "data"
   ]
  },
  {
   "cell_type": "code",
   "execution_count": 116,
   "id": "3724d771",
   "metadata": {},
   "outputs": [
    {
     "name": "stdout",
     "output_type": "stream",
     "text": [
      "Number of models compared: 54\n"
     ]
    },
    {
     "name": "stderr",
     "output_type": "stream",
     "text": [
      "loop lags_grid:   0%|                                               | 0/3 [00:00<?, ?it/s]\n",
      "loop param_grid:   0%|                                             | 0/18 [00:00<?, ?it/s]\u001b[A\n",
      "loop param_grid:   6%|██                                   | 1/18 [00:00<00:10,  1.70it/s]\u001b[A\n",
      "loop param_grid:  11%|████                                 | 2/18 [00:01<00:10,  1.57it/s]\u001b[A\n",
      "loop param_grid:  17%|██████▏                              | 3/18 [00:01<00:08,  1.80it/s]\u001b[A\n",
      "loop param_grid:  22%|████████▏                            | 4/18 [00:02<00:10,  1.30it/s]\u001b[A\n",
      "loop param_grid:  28%|██████████▎                          | 5/18 [00:06<00:24,  1.90s/it]\u001b[A\n",
      "loop param_grid:  33%|████████████▎                        | 6/18 [00:24<01:26,  7.17s/it]\u001b[A\n",
      "loop param_grid:  39%|██████████████▍                      | 7/18 [00:24<00:54,  4.92s/it]\u001b[A\n",
      "loop param_grid:  44%|████████████████▍                    | 8/18 [00:25<00:35,  3.55s/it]\u001b[A\n",
      "loop param_grid:  50%|██████████████████▌                  | 9/18 [00:25<00:23,  2.58s/it]\u001b[A\n",
      "loop param_grid:  56%|████████████████████                | 10/18 [00:26<00:16,  2.10s/it]\u001b[A\n",
      "loop param_grid:  61%|██████████████████████              | 11/18 [00:30<00:17,  2.54s/it]\u001b[A\n",
      "loop param_grid:  67%|████████████████████████            | 12/18 [00:48<00:43,  7.30s/it]\u001b[A\n",
      "loop param_grid:  72%|██████████████████████████          | 13/18 [00:48<00:25,  5.17s/it]\u001b[A\n",
      "loop param_grid:  78%|████████████████████████████        | 14/18 [00:49<00:15,  3.84s/it]\u001b[A\n",
      "loop param_grid:  83%|██████████████████████████████      | 15/18 [00:49<00:08,  2.80s/it]\u001b[A\n",
      "loop param_grid:  89%|████████████████████████████████    | 16/18 [00:50<00:04,  2.29s/it]\u001b[A\n",
      "loop param_grid:  94%|██████████████████████████████████  | 17/18 [00:54<00:02,  2.72s/it]\u001b[A\n",
      "loop param_grid: 100%|████████████████████████████████████| 18/18 [01:12<00:00,  7.30s/it]\u001b[A\n",
      "loop lags_grid:  33%|█████████████                          | 1/3 [01:12<02:24, 72.44s/it]\u001b[A\n",
      "loop param_grid:   0%|                                             | 0/18 [00:00<?, ?it/s]\u001b[A\n",
      "loop param_grid:   6%|██                                   | 1/18 [00:00<00:07,  2.39it/s]\u001b[A\n",
      "loop param_grid:  11%|████                                 | 2/18 [00:01<00:15,  1.03it/s]\u001b[A\n",
      "loop param_grid:  17%|██████▏                              | 3/18 [00:02<00:12,  1.17it/s]\u001b[A\n",
      "loop param_grid:  22%|████████▏                            | 4/18 [00:05<00:22,  1.61s/it]\u001b[A\n",
      "loop param_grid:  28%|██████████▎                          | 5/18 [00:19<01:21,  6.25s/it]\u001b[A\n",
      "loop param_grid:  33%|████████████▎                        | 6/18 [01:28<05:28, 27.40s/it]\u001b[A\n",
      "loop param_grid:  39%|██████████████▍                      | 7/18 [01:28<03:24, 18.58s/it]\u001b[A\n",
      "loop param_grid:  44%|████████████████▍                    | 8/18 [01:29<02:10, 13.08s/it]\u001b[A\n",
      "loop param_grid:  50%|██████████████████▌                  | 9/18 [01:30<01:22,  9.20s/it]\u001b[A\n",
      "loop param_grid:  56%|████████████████████                | 10/18 [01:33<00:57,  7.19s/it]\u001b[A\n",
      "loop param_grid:  61%|██████████████████████              | 11/18 [01:47<01:05,  9.34s/it]\u001b[A\n",
      "loop param_grid:  67%|████████████████████████            | 12/18 [02:54<02:42, 27.03s/it]\u001b[A\n",
      "loop param_grid:  72%|██████████████████████████          | 13/18 [02:55<01:34, 18.96s/it]\u001b[A\n",
      "loop param_grid:  78%|████████████████████████████        | 14/18 [02:56<00:54, 13.70s/it]\u001b[A\n",
      "loop param_grid:  83%|██████████████████████████████      | 15/18 [02:57<00:29,  9.79s/it]\u001b[A\n",
      "loop param_grid:  89%|████████████████████████████████    | 16/18 [03:00<00:15,  7.85s/it]\u001b[A\n",
      "loop param_grid:  94%|██████████████████████████████████  | 17/18 [03:15<00:09,  9.89s/it]\u001b[A\n",
      "loop param_grid: 100%|████████████████████████████████████| 18/18 [04:37<00:00, 31.49s/it]\u001b[A\n",
      "loop lags_grid:  67%|█████████████████████████▎            | 2/3 [05:49<03:12, 192.99s/it]\u001b[A\n",
      "loop param_grid:   0%|                                             | 0/18 [00:00<?, ?it/s]\u001b[A\n",
      "loop param_grid:   6%|██                                   | 1/18 [00:00<00:07,  2.16it/s]\u001b[A\n",
      "loop param_grid:  11%|████                                 | 2/18 [00:01<00:11,  1.41it/s]\u001b[A\n",
      "loop param_grid:  17%|██████▏                              | 3/18 [00:01<00:08,  1.82it/s]\u001b[A\n",
      "loop param_grid:  22%|████████▏                            | 4/18 [00:02<00:08,  1.56it/s]\u001b[A\n",
      "loop param_grid:  28%|██████████▎                          | 5/18 [00:04<00:14,  1.12s/it]\u001b[A\n",
      "loop param_grid:  33%|████████████▎                        | 6/18 [00:13<00:43,  3.65s/it]\u001b[A\n",
      "loop param_grid:  39%|██████████████▍                      | 7/18 [00:13<00:27,  2.53s/it]\u001b[A\n",
      "loop param_grid:  44%|████████████████▍                    | 8/18 [00:13<00:18,  1.88s/it]\u001b[A\n",
      "loop param_grid:  50%|██████████████████▌                  | 9/18 [00:14<00:12,  1.43s/it]\u001b[A\n",
      "loop param_grid:  56%|████████████████████                | 10/18 [00:14<00:09,  1.22s/it]\u001b[A\n",
      "loop param_grid:  61%|██████████████████████              | 11/18 [00:17<00:10,  1.49s/it]\u001b[A\n",
      "loop param_grid:  67%|████████████████████████            | 12/18 [00:25<00:22,  3.74s/it]\u001b[A\n",
      "loop param_grid:  72%|██████████████████████████          | 13/18 [00:26<00:13,  2.67s/it]\u001b[A\n",
      "loop param_grid:  78%|████████████████████████████        | 14/18 [00:26<00:08,  2.02s/it]\u001b[A\n",
      "loop param_grid:  83%|██████████████████████████████      | 15/18 [00:27<00:04,  1.54s/it]\u001b[A\n",
      "loop param_grid:  89%|████████████████████████████████    | 16/18 [00:27<00:02,  1.30s/it]\u001b[A\n",
      "loop param_grid:  94%|██████████████████████████████████  | 17/18 [00:29<00:01,  1.52s/it]\u001b[A\n",
      "loop param_grid: 100%|████████████████████████████████████| 18/18 [00:39<00:00,  3.84s/it]\u001b[A\n",
      "loop lags_grid: 100%|██████████████████████████████████████| 3/3 [06:28<00:00, 129.64s/it]\u001b[A\n"
     ]
    },
    {
     "name": "stdout",
     "output_type": "stream",
     "text": [
      "Refitting `forecaster` using the best found parameters and the whole data set: \n",
      "  lags: [ 1  2  3  4  5  6  7  8  9 10 11 12 13 14 15 16 17 18 19 20 21 22 23 24\n",
      " 25 26 27 28 29 30] \n",
      "  params: {'learning_rate': 0.09, 'max_depth': 3, 'n_estimators': 100}\n",
      "\n"
     ]
    }
   ],
   "source": [
    "# Hiperparámetros del regresor\n",
    "param_grid = {\n",
    "    'n_estimators': [100, 500],\n",
    "    'max_depth': [3, 5, 10],\n",
    "    'learning_rate': [0.09, 0.1, 0.15]\n",
    "}\n",
    "\n",
    "# Lags utilizados como predictores\n",
    "lags_grid = [7, 30, [1, 2, 3]]\n",
    "\n",
    "\n",
    "resultados_grid = grid_search_forecaster(\n",
    "        forecaster         = forecaster,\n",
    "        y                  = data.loc[:600, 'value'], # conjunto de train y validación\n",
    "        param_grid         = param_grid,\n",
    "        lags_grid          = lags_grid,\n",
    "        steps              = 60,\n",
    "        refit              = False,\n",
    "        metric             = 'mean_squared_error',\n",
    "        initial_train_size = int(len(datos_train)), # El modelo se entrena con los datos de entrenamiento\n",
    "        return_best        = True,\n",
    "        verbose            = False\n",
    ")"
   ]
  },
  {
   "cell_type": "code",
   "execution_count": 117,
   "id": "ae0db5c0",
   "metadata": {},
   "outputs": [
    {
     "name": "stdout",
     "output_type": "stream",
     "text": [
      "Error de backtest: [2.25409554e+16]\n"
     ]
    }
   ],
   "source": [
    "# Backtesting\n",
    "# ==============================================================================\n",
    "metric, predicciones = backtesting_forecaster(\n",
    "    forecaster = forecaster,\n",
    "    y          = datos['value'],\n",
    "    initial_train_size = len(datos.loc[:600]),\n",
    "    steps      = 30,\n",
    "    refit      = False,\n",
    "    metric     = 'mean_squared_error',\n",
    "    verbose    = False # Change to True to see detailed information\n",
    ")\n",
    "\n",
    "print(f\"Error de backtest: {metric}\")"
   ]
  },
  {
   "cell_type": "code",
   "execution_count": 118,
   "id": "419da254",
   "metadata": {},
   "outputs": [
    {
     "data": {
      "application/vnd.plotly.v1+json": {
       "config": {
        "plotlyServerURL": "https://plot.ly"
       },
       "data": [
        {
         "hovertemplate": "variable=test<br>date_time=%{x}<br>value=%{y}<extra></extra>",
         "legendgroup": "test",
         "line": {
          "color": "#636efa",
          "dash": "solid"
         },
         "marker": {
          "symbol": "circle"
         },
         "mode": "lines",
         "name": "test",
         "orientation": "v",
         "showlegend": true,
         "type": "scatter",
         "x": [
          601,
          602,
          603,
          604,
          605,
          606,
          607,
          608,
          609,
          610,
          611,
          612,
          613,
          614,
          615,
          616,
          617,
          618,
          619,
          620,
          621,
          622,
          623,
          624,
          625,
          626,
          627,
          628,
          629,
          630,
          631,
          632,
          633,
          634,
          635,
          636,
          637,
          638,
          639,
          640,
          641,
          642,
          643,
          644,
          645,
          646,
          647,
          648,
          649,
          650,
          651,
          652,
          653,
          654,
          655,
          656,
          657,
          658,
          659,
          660,
          661,
          662,
          663,
          664,
          665,
          666,
          667,
          668,
          669,
          670,
          671,
          672,
          673,
          674,
          675,
          676,
          677,
          678,
          679,
          680,
          681,
          682,
          683,
          684,
          685,
          686,
          687,
          688,
          689,
          690,
          691,
          692,
          693,
          694,
          695,
          696,
          697,
          698,
          699,
          700,
          701,
          702,
          703,
          704,
          705,
          706,
          707,
          708,
          709,
          710,
          711,
          712,
          713,
          714,
          715,
          716,
          717,
          718,
          719,
          720,
          721,
          722,
          723,
          724,
          725,
          726,
          727,
          728,
          729,
          730,
          731,
          732,
          733,
          734,
          735,
          736
         ],
         "xaxis": "x",
         "y": [
          423179057,
          323001141,
          305419867,
          0,
          0,
          0,
          1274250042,
          442279010,
          339853724,
          241960270,
          105646383,
          0,
          298063296,
          301153974,
          250729372,
          297732388,
          274644992,
          0,
          0,
          532211746,
          592882666,
          559495163,
          538147248,
          459722983,
          0,
          0,
          0,
          971429473,
          587232641,
          358237477,
          301947985,
          0,
          0,
          426478184,
          342967387,
          406513904,
          400924392,
          0,
          153533063,
          105709507,
          469227509,
          434829330,
          272658697,
          251178090,
          201197577,
          75808988,
          0,
          302025487,
          422294360,
          375890536,
          393357179,
          429403683,
          256638668,
          0,
          563159546,
          776893461,
          609472152,
          481694248,
          394307732,
          0,
          0,
          513343797,
          415795750,
          307113775,
          166972260,
          234142619,
          0,
          0,
          510111855,
          392246862,
          266610383,
          177094280,
          146542899,
          0,
          0,
          201254794,
          137038876,
          107999808,
          127270601,
          192743863,
          0,
          0,
          0,
          611314375,
          565033845,
          502184573,
          477369282,
          289151495,
          0,
          489539679,
          695427617,
          526984083,
          408174191,
          392226550,
          0,
          0,
          622136553,
          603692163,
          503797031,
          389157774,
          298627579,
          0,
          0,
          0,
          368853596,
          460475200,
          258555467,
          233009994,
          0,
          0,
          0,
          445062897,
          440185445,
          510045635,
          420745345,
          259216007,
          0,
          477567932,
          667632251,
          530988567,
          398341383,
          332395364,
          209321480,
          0,
          358793211,
          497324580,
          399713350,
          533519026,
          482622146,
          0,
          0,
          0,
          763135176,
          363085445,
          236200655,
          228483931
         ],
         "yaxis": "y"
        },
        {
         "hovertemplate": "variable=prediccion<br>date_time=%{x}<br>value=%{y}<extra></extra>",
         "legendgroup": "prediccion",
         "line": {
          "color": "#EF553B",
          "dash": "solid"
         },
         "marker": {
          "symbol": "circle"
         },
         "mode": "lines",
         "name": "prediccion",
         "orientation": "v",
         "showlegend": true,
         "type": "scatter",
         "x": [
          601,
          602,
          603,
          604,
          605,
          606,
          607,
          608,
          609,
          610,
          611,
          612,
          613,
          614,
          615,
          616,
          617,
          618,
          619,
          620,
          621,
          622,
          623,
          624,
          625,
          626,
          627,
          628,
          629,
          630,
          631,
          632,
          633,
          634,
          635,
          636,
          637,
          638,
          639,
          640,
          641,
          642,
          643,
          644,
          645,
          646,
          647,
          648,
          649,
          650,
          651,
          652,
          653,
          654,
          655,
          656,
          657,
          658,
          659,
          660,
          661,
          662,
          663,
          664,
          665,
          666,
          667,
          668,
          669,
          670,
          671,
          672,
          673,
          674,
          675,
          676,
          677,
          678,
          679,
          680,
          681,
          682,
          683,
          684,
          685,
          686,
          687,
          688,
          689,
          690,
          691,
          692,
          693,
          694,
          695,
          696,
          697,
          698,
          699,
          700,
          701,
          702,
          703,
          704,
          705,
          706,
          707,
          708,
          709,
          710,
          711,
          712,
          713,
          714,
          715,
          716,
          717,
          718,
          719,
          720,
          721,
          722,
          723,
          724,
          725,
          726,
          727,
          728,
          729,
          730,
          731,
          732,
          733,
          734,
          735,
          736
         ],
         "xaxis": "x",
         "y": [
          457267796.8200125,
          388153260.4596187,
          255450117.57174903,
          -2481474.7384153605,
          95571656.79768461,
          380643945.5162231,
          457316454.642429,
          448658437.0205066,
          360766441.6354906,
          232641154.23422447,
          -18133816.757390738,
          48537103.04249385,
          328652926.78129846,
          251234399.18775293,
          216037986.78217477,
          204764364.7116374,
          189171522.84091067,
          -34016607.10698974,
          7857776.821752071,
          370407933.1315811,
          495254168.0828364,
          525276203.02412593,
          498092660.5595422,
          441921873.7284289,
          36905322.84718421,
          20777867.292735785,
          568719798.6926796,
          605007087.3018771,
          502176742.1669462,
          393686327.44926727,
          274903712.71278226,
          49176661.07743642,
          33369881.438726872,
          221931558.86127692,
          547927818.910202,
          493191085.588606,
          363601866.50148904,
          281023429.5833894,
          11084082.474933445,
          -104137.32275384665,
          304066063.4309751,
          292897380.1339227,
          413645857.00419503,
          263787243.32586992,
          222304005.0937732,
          10723831.295781553,
          -21265295.405733407,
          383710474.26312244,
          536550297.0349375,
          548943447.3441002,
          513834192.3166175,
          412263311.2579947,
          33982485.059494704,
          -9487928.993599713,
          309134695.51319724,
          643760211.1078343,
          501272885.29342306,
          395050189.3007482,
          258526489.41408443,
          7226811.823399961,
          32359626.087590963,
          477379381.87008417,
          386169269.0129512,
          336114494.62636733,
          333055937.48710275,
          207819593.33376348,
          44346136.60165277,
          73734043.69551745,
          414361079.6076845,
          406398590.6612846,
          293358317.20757604,
          245551193.35972026,
          195453329.62690184,
          52971678.737853825,
          14642648.873800129,
          229715241.096587,
          322957911.168675,
          242697874.64083743,
          263767074.31332418,
          312330304.36502135,
          60555167.75298181,
          14178178.7120623,
          426574792.9652643,
          551520477.475379,
          582893821.3984288,
          521304540.20904124,
          360056215.37582695,
          44338231.36389053,
          62744538.47365013,
          467166442.8120876,
          593927738.1818502,
          449219441.7610818,
          361392486.39783895,
          281951007.7472906,
          136830132.6043465,
          42440099.16488287,
          422226763.14788055,
          400708360.9630541,
          313053000.1453812,
          257643214.9903224,
          196460096.64115304,
          80209122.49503177,
          20061564.496725827,
          195851553.27818543,
          213203095.13831648,
          199959510.95517823,
          192768912.173156,
          171583005.88608468,
          72509901.70687824,
          -9260239.584045231,
          205482190.536023,
          434375139.8316157,
          490386456.9758692,
          503155973.0509938,
          486533532.0977137,
          207670106.71353394,
          38302030.5409362,
          495574462.2017699,
          616094728.6180148,
          539655905.959779,
          470634349.29059416,
          320864766.88761556,
          113903268.31007555,
          -1362627.5464566946,
          499235763.33652157,
          582345134.1325719,
          519161488.1793443,
          393476108.97233284,
          264960347.24823377,
          75567147.11116287,
          2223759.7399885654,
          162904105.1920875,
          316807583.96525633,
          357835745.6402501,
          274535471.39454037,
          191691014.58469313
         ],
         "yaxis": "y"
        }
       ],
       "layout": {
        "height": 500,
        "legend": {
         "title": {
          "text": "variable"
         },
         "tracegroupgap": 0
        },
        "template": {
         "data": {
          "bar": [
           {
            "error_x": {
             "color": "#2a3f5f"
            },
            "error_y": {
             "color": "#2a3f5f"
            },
            "marker": {
             "line": {
              "color": "#E5ECF6",
              "width": 0.5
             },
             "pattern": {
              "fillmode": "overlay",
              "size": 10,
              "solidity": 0.2
             }
            },
            "type": "bar"
           }
          ],
          "barpolar": [
           {
            "marker": {
             "line": {
              "color": "#E5ECF6",
              "width": 0.5
             },
             "pattern": {
              "fillmode": "overlay",
              "size": 10,
              "solidity": 0.2
             }
            },
            "type": "barpolar"
           }
          ],
          "carpet": [
           {
            "aaxis": {
             "endlinecolor": "#2a3f5f",
             "gridcolor": "white",
             "linecolor": "white",
             "minorgridcolor": "white",
             "startlinecolor": "#2a3f5f"
            },
            "baxis": {
             "endlinecolor": "#2a3f5f",
             "gridcolor": "white",
             "linecolor": "white",
             "minorgridcolor": "white",
             "startlinecolor": "#2a3f5f"
            },
            "type": "carpet"
           }
          ],
          "choropleth": [
           {
            "colorbar": {
             "outlinewidth": 0,
             "ticks": ""
            },
            "type": "choropleth"
           }
          ],
          "contour": [
           {
            "colorbar": {
             "outlinewidth": 0,
             "ticks": ""
            },
            "colorscale": [
             [
              0,
              "#0d0887"
             ],
             [
              0.1111111111111111,
              "#46039f"
             ],
             [
              0.2222222222222222,
              "#7201a8"
             ],
             [
              0.3333333333333333,
              "#9c179e"
             ],
             [
              0.4444444444444444,
              "#bd3786"
             ],
             [
              0.5555555555555556,
              "#d8576b"
             ],
             [
              0.6666666666666666,
              "#ed7953"
             ],
             [
              0.7777777777777778,
              "#fb9f3a"
             ],
             [
              0.8888888888888888,
              "#fdca26"
             ],
             [
              1,
              "#f0f921"
             ]
            ],
            "type": "contour"
           }
          ],
          "contourcarpet": [
           {
            "colorbar": {
             "outlinewidth": 0,
             "ticks": ""
            },
            "type": "contourcarpet"
           }
          ],
          "heatmap": [
           {
            "colorbar": {
             "outlinewidth": 0,
             "ticks": ""
            },
            "colorscale": [
             [
              0,
              "#0d0887"
             ],
             [
              0.1111111111111111,
              "#46039f"
             ],
             [
              0.2222222222222222,
              "#7201a8"
             ],
             [
              0.3333333333333333,
              "#9c179e"
             ],
             [
              0.4444444444444444,
              "#bd3786"
             ],
             [
              0.5555555555555556,
              "#d8576b"
             ],
             [
              0.6666666666666666,
              "#ed7953"
             ],
             [
              0.7777777777777778,
              "#fb9f3a"
             ],
             [
              0.8888888888888888,
              "#fdca26"
             ],
             [
              1,
              "#f0f921"
             ]
            ],
            "type": "heatmap"
           }
          ],
          "heatmapgl": [
           {
            "colorbar": {
             "outlinewidth": 0,
             "ticks": ""
            },
            "colorscale": [
             [
              0,
              "#0d0887"
             ],
             [
              0.1111111111111111,
              "#46039f"
             ],
             [
              0.2222222222222222,
              "#7201a8"
             ],
             [
              0.3333333333333333,
              "#9c179e"
             ],
             [
              0.4444444444444444,
              "#bd3786"
             ],
             [
              0.5555555555555556,
              "#d8576b"
             ],
             [
              0.6666666666666666,
              "#ed7953"
             ],
             [
              0.7777777777777778,
              "#fb9f3a"
             ],
             [
              0.8888888888888888,
              "#fdca26"
             ],
             [
              1,
              "#f0f921"
             ]
            ],
            "type": "heatmapgl"
           }
          ],
          "histogram": [
           {
            "marker": {
             "pattern": {
              "fillmode": "overlay",
              "size": 10,
              "solidity": 0.2
             }
            },
            "type": "histogram"
           }
          ],
          "histogram2d": [
           {
            "colorbar": {
             "outlinewidth": 0,
             "ticks": ""
            },
            "colorscale": [
             [
              0,
              "#0d0887"
             ],
             [
              0.1111111111111111,
              "#46039f"
             ],
             [
              0.2222222222222222,
              "#7201a8"
             ],
             [
              0.3333333333333333,
              "#9c179e"
             ],
             [
              0.4444444444444444,
              "#bd3786"
             ],
             [
              0.5555555555555556,
              "#d8576b"
             ],
             [
              0.6666666666666666,
              "#ed7953"
             ],
             [
              0.7777777777777778,
              "#fb9f3a"
             ],
             [
              0.8888888888888888,
              "#fdca26"
             ],
             [
              1,
              "#f0f921"
             ]
            ],
            "type": "histogram2d"
           }
          ],
          "histogram2dcontour": [
           {
            "colorbar": {
             "outlinewidth": 0,
             "ticks": ""
            },
            "colorscale": [
             [
              0,
              "#0d0887"
             ],
             [
              0.1111111111111111,
              "#46039f"
             ],
             [
              0.2222222222222222,
              "#7201a8"
             ],
             [
              0.3333333333333333,
              "#9c179e"
             ],
             [
              0.4444444444444444,
              "#bd3786"
             ],
             [
              0.5555555555555556,
              "#d8576b"
             ],
             [
              0.6666666666666666,
              "#ed7953"
             ],
             [
              0.7777777777777778,
              "#fb9f3a"
             ],
             [
              0.8888888888888888,
              "#fdca26"
             ],
             [
              1,
              "#f0f921"
             ]
            ],
            "type": "histogram2dcontour"
           }
          ],
          "mesh3d": [
           {
            "colorbar": {
             "outlinewidth": 0,
             "ticks": ""
            },
            "type": "mesh3d"
           }
          ],
          "parcoords": [
           {
            "line": {
             "colorbar": {
              "outlinewidth": 0,
              "ticks": ""
             }
            },
            "type": "parcoords"
           }
          ],
          "pie": [
           {
            "automargin": true,
            "type": "pie"
           }
          ],
          "scatter": [
           {
            "marker": {
             "colorbar": {
              "outlinewidth": 0,
              "ticks": ""
             }
            },
            "type": "scatter"
           }
          ],
          "scatter3d": [
           {
            "line": {
             "colorbar": {
              "outlinewidth": 0,
              "ticks": ""
             }
            },
            "marker": {
             "colorbar": {
              "outlinewidth": 0,
              "ticks": ""
             }
            },
            "type": "scatter3d"
           }
          ],
          "scattercarpet": [
           {
            "marker": {
             "colorbar": {
              "outlinewidth": 0,
              "ticks": ""
             }
            },
            "type": "scattercarpet"
           }
          ],
          "scattergeo": [
           {
            "marker": {
             "colorbar": {
              "outlinewidth": 0,
              "ticks": ""
             }
            },
            "type": "scattergeo"
           }
          ],
          "scattergl": [
           {
            "marker": {
             "colorbar": {
              "outlinewidth": 0,
              "ticks": ""
             }
            },
            "type": "scattergl"
           }
          ],
          "scattermapbox": [
           {
            "marker": {
             "colorbar": {
              "outlinewidth": 0,
              "ticks": ""
             }
            },
            "type": "scattermapbox"
           }
          ],
          "scatterpolar": [
           {
            "marker": {
             "colorbar": {
              "outlinewidth": 0,
              "ticks": ""
             }
            },
            "type": "scatterpolar"
           }
          ],
          "scatterpolargl": [
           {
            "marker": {
             "colorbar": {
              "outlinewidth": 0,
              "ticks": ""
             }
            },
            "type": "scatterpolargl"
           }
          ],
          "scatterternary": [
           {
            "marker": {
             "colorbar": {
              "outlinewidth": 0,
              "ticks": ""
             }
            },
            "type": "scatterternary"
           }
          ],
          "surface": [
           {
            "colorbar": {
             "outlinewidth": 0,
             "ticks": ""
            },
            "colorscale": [
             [
              0,
              "#0d0887"
             ],
             [
              0.1111111111111111,
              "#46039f"
             ],
             [
              0.2222222222222222,
              "#7201a8"
             ],
             [
              0.3333333333333333,
              "#9c179e"
             ],
             [
              0.4444444444444444,
              "#bd3786"
             ],
             [
              0.5555555555555556,
              "#d8576b"
             ],
             [
              0.6666666666666666,
              "#ed7953"
             ],
             [
              0.7777777777777778,
              "#fb9f3a"
             ],
             [
              0.8888888888888888,
              "#fdca26"
             ],
             [
              1,
              "#f0f921"
             ]
            ],
            "type": "surface"
           }
          ],
          "table": [
           {
            "cells": {
             "fill": {
              "color": "#EBF0F8"
             },
             "line": {
              "color": "white"
             }
            },
            "header": {
             "fill": {
              "color": "#C8D4E3"
             },
             "line": {
              "color": "white"
             }
            },
            "type": "table"
           }
          ]
         },
         "layout": {
          "annotationdefaults": {
           "arrowcolor": "#2a3f5f",
           "arrowhead": 0,
           "arrowwidth": 1
          },
          "autotypenumbers": "strict",
          "coloraxis": {
           "colorbar": {
            "outlinewidth": 0,
            "ticks": ""
           }
          },
          "colorscale": {
           "diverging": [
            [
             0,
             "#8e0152"
            ],
            [
             0.1,
             "#c51b7d"
            ],
            [
             0.2,
             "#de77ae"
            ],
            [
             0.3,
             "#f1b6da"
            ],
            [
             0.4,
             "#fde0ef"
            ],
            [
             0.5,
             "#f7f7f7"
            ],
            [
             0.6,
             "#e6f5d0"
            ],
            [
             0.7,
             "#b8e186"
            ],
            [
             0.8,
             "#7fbc41"
            ],
            [
             0.9,
             "#4d9221"
            ],
            [
             1,
             "#276419"
            ]
           ],
           "sequential": [
            [
             0,
             "#0d0887"
            ],
            [
             0.1111111111111111,
             "#46039f"
            ],
            [
             0.2222222222222222,
             "#7201a8"
            ],
            [
             0.3333333333333333,
             "#9c179e"
            ],
            [
             0.4444444444444444,
             "#bd3786"
            ],
            [
             0.5555555555555556,
             "#d8576b"
            ],
            [
             0.6666666666666666,
             "#ed7953"
            ],
            [
             0.7777777777777778,
             "#fb9f3a"
            ],
            [
             0.8888888888888888,
             "#fdca26"
            ],
            [
             1,
             "#f0f921"
            ]
           ],
           "sequentialminus": [
            [
             0,
             "#0d0887"
            ],
            [
             0.1111111111111111,
             "#46039f"
            ],
            [
             0.2222222222222222,
             "#7201a8"
            ],
            [
             0.3333333333333333,
             "#9c179e"
            ],
            [
             0.4444444444444444,
             "#bd3786"
            ],
            [
             0.5555555555555556,
             "#d8576b"
            ],
            [
             0.6666666666666666,
             "#ed7953"
            ],
            [
             0.7777777777777778,
             "#fb9f3a"
            ],
            [
             0.8888888888888888,
             "#fdca26"
            ],
            [
             1,
             "#f0f921"
            ]
           ]
          },
          "colorway": [
           "#636efa",
           "#EF553B",
           "#00cc96",
           "#ab63fa",
           "#FFA15A",
           "#19d3f3",
           "#FF6692",
           "#B6E880",
           "#FF97FF",
           "#FECB52"
          ],
          "font": {
           "color": "#2a3f5f"
          },
          "geo": {
           "bgcolor": "white",
           "lakecolor": "white",
           "landcolor": "#E5ECF6",
           "showlakes": true,
           "showland": true,
           "subunitcolor": "white"
          },
          "hoverlabel": {
           "align": "left"
          },
          "hovermode": "closest",
          "mapbox": {
           "style": "light"
          },
          "paper_bgcolor": "white",
          "plot_bgcolor": "#E5ECF6",
          "polar": {
           "angularaxis": {
            "gridcolor": "white",
            "linecolor": "white",
            "ticks": ""
           },
           "bgcolor": "#E5ECF6",
           "radialaxis": {
            "gridcolor": "white",
            "linecolor": "white",
            "ticks": ""
           }
          },
          "scene": {
           "xaxis": {
            "backgroundcolor": "#E5ECF6",
            "gridcolor": "white",
            "gridwidth": 2,
            "linecolor": "white",
            "showbackground": true,
            "ticks": "",
            "zerolinecolor": "white"
           },
           "yaxis": {
            "backgroundcolor": "#E5ECF6",
            "gridcolor": "white",
            "gridwidth": 2,
            "linecolor": "white",
            "showbackground": true,
            "ticks": "",
            "zerolinecolor": "white"
           },
           "zaxis": {
            "backgroundcolor": "#E5ECF6",
            "gridcolor": "white",
            "gridwidth": 2,
            "linecolor": "white",
            "showbackground": true,
            "ticks": "",
            "zerolinecolor": "white"
           }
          },
          "shapedefaults": {
           "line": {
            "color": "#2a3f5f"
           }
          },
          "ternary": {
           "aaxis": {
            "gridcolor": "white",
            "linecolor": "white",
            "ticks": ""
           },
           "baxis": {
            "gridcolor": "white",
            "linecolor": "white",
            "ticks": ""
           },
           "bgcolor": "#E5ECF6",
           "caxis": {
            "gridcolor": "white",
            "linecolor": "white",
            "ticks": ""
           }
          },
          "title": {
           "x": 0.05
          },
          "xaxis": {
           "automargin": true,
           "gridcolor": "white",
           "linecolor": "white",
           "ticks": "",
           "title": {
            "standoff": 15
           },
           "zerolinecolor": "white",
           "zerolinewidth": 2
          },
          "yaxis": {
           "automargin": true,
           "gridcolor": "white",
           "linecolor": "white",
           "ticks": "",
           "title": {
            "standoff": 15
           },
           "zerolinecolor": "white",
           "zerolinewidth": 2
          }
         }
        },
        "title": {
         "text": "Valor Recaudo"
        },
        "width": 900,
        "xaxis": {
         "anchor": "y",
         "domain": [
          0,
          1
         ],
         "rangeslider": {
          "visible": true
         },
         "title": {
          "text": "date_time"
         }
        },
        "yaxis": {
         "anchor": "x",
         "domain": [
          0,
          1
         ],
         "title": {
          "text": "value"
         }
        }
       }
      },
      "text/html": [
       "<div>                            <div id=\"72d7d293-5d49-4d7c-85d2-eff741f11c82\" class=\"plotly-graph-div\" style=\"height:500px; width:900px;\"></div>            <script type=\"text/javascript\">                require([\"plotly\"], function(Plotly) {                    window.PLOTLYENV=window.PLOTLYENV || {};                                    if (document.getElementById(\"72d7d293-5d49-4d7c-85d2-eff741f11c82\")) {                    Plotly.newPlot(                        \"72d7d293-5d49-4d7c-85d2-eff741f11c82\",                        [{\"hovertemplate\":\"variable=test<br>date_time=%{x}<br>value=%{y}<extra></extra>\",\"legendgroup\":\"test\",\"line\":{\"color\":\"#636efa\",\"dash\":\"solid\"},\"marker\":{\"symbol\":\"circle\"},\"mode\":\"lines\",\"name\":\"test\",\"orientation\":\"v\",\"showlegend\":true,\"x\":[601,602,603,604,605,606,607,608,609,610,611,612,613,614,615,616,617,618,619,620,621,622,623,624,625,626,627,628,629,630,631,632,633,634,635,636,637,638,639,640,641,642,643,644,645,646,647,648,649,650,651,652,653,654,655,656,657,658,659,660,661,662,663,664,665,666,667,668,669,670,671,672,673,674,675,676,677,678,679,680,681,682,683,684,685,686,687,688,689,690,691,692,693,694,695,696,697,698,699,700,701,702,703,704,705,706,707,708,709,710,711,712,713,714,715,716,717,718,719,720,721,722,723,724,725,726,727,728,729,730,731,732,733,734,735,736],\"xaxis\":\"x\",\"y\":[423179057.0,323001141.0,305419867.0,0.0,0.0,0.0,1274250042.0,442279010.0,339853724.0,241960270.0,105646383.0,0.0,298063296.0,301153974.0,250729372.0,297732388.0,274644992.0,0.0,0.0,532211746.0,592882666.0,559495163.0,538147248.0,459722983.0,0.0,0.0,0.0,971429473.0,587232641.0,358237477.0,301947985.0,0.0,0.0,426478184.0,342967387.0,406513904.0,400924392.0,0.0,153533063.0,105709507.0,469227509.0,434829330.0,272658697.0,251178090.0,201197577.0,75808988.0,0.0,302025487.0,422294360.0,375890536.0,393357179.0,429403683.0,256638668.0,0.0,563159546.0,776893461.0,609472152.0,481694248.0,394307732.0,0.0,0.0,513343797.0,415795750.0,307113775.0,166972260.0,234142619.0,0.0,0.0,510111855.0,392246862.0,266610383.0,177094280.0,146542899.0,0.0,0.0,201254794.0,137038876.0,107999808.0,127270601.0,192743863.0,0.0,0.0,0.0,611314375.0,565033845.0,502184573.0,477369282.0,289151495.0,0.0,489539679.0,695427617.0,526984083.0,408174191.0,392226550.0,0.0,0.0,622136553.0,603692163.0,503797031.0,389157774.0,298627579.0,0.0,0.0,0.0,368853596.0,460475200.0,258555467.0,233009994.0,0.0,0.0,0.0,445062897.0,440185445.0,510045635.0,420745345.0,259216007.0,0.0,477567932.0,667632251.0,530988567.0,398341383.0,332395364.0,209321480.0,0.0,358793211.0,497324580.0,399713350.0,533519026.0,482622146.0,0.0,0.0,0.0,763135176.0,363085445.0,236200655.0,228483931.0],\"yaxis\":\"y\",\"type\":\"scatter\"},{\"hovertemplate\":\"variable=prediccion<br>date_time=%{x}<br>value=%{y}<extra></extra>\",\"legendgroup\":\"prediccion\",\"line\":{\"color\":\"#EF553B\",\"dash\":\"solid\"},\"marker\":{\"symbol\":\"circle\"},\"mode\":\"lines\",\"name\":\"prediccion\",\"orientation\":\"v\",\"showlegend\":true,\"x\":[601,602,603,604,605,606,607,608,609,610,611,612,613,614,615,616,617,618,619,620,621,622,623,624,625,626,627,628,629,630,631,632,633,634,635,636,637,638,639,640,641,642,643,644,645,646,647,648,649,650,651,652,653,654,655,656,657,658,659,660,661,662,663,664,665,666,667,668,669,670,671,672,673,674,675,676,677,678,679,680,681,682,683,684,685,686,687,688,689,690,691,692,693,694,695,696,697,698,699,700,701,702,703,704,705,706,707,708,709,710,711,712,713,714,715,716,717,718,719,720,721,722,723,724,725,726,727,728,729,730,731,732,733,734,735,736],\"xaxis\":\"x\",\"y\":[457267796.8200125,388153260.4596187,255450117.57174903,-2481474.7384153605,95571656.79768461,380643945.5162231,457316454.642429,448658437.0205066,360766441.6354906,232641154.23422447,-18133816.757390738,48537103.04249385,328652926.78129846,251234399.18775293,216037986.78217477,204764364.7116374,189171522.84091067,-34016607.10698974,7857776.821752071,370407933.1315811,495254168.0828364,525276203.02412593,498092660.5595422,441921873.7284289,36905322.84718421,20777867.292735785,568719798.6926796,605007087.3018771,502176742.1669462,393686327.44926727,274903712.71278226,49176661.07743642,33369881.438726872,221931558.86127692,547927818.910202,493191085.588606,363601866.50148904,281023429.5833894,11084082.474933445,-104137.32275384665,304066063.4309751,292897380.1339227,413645857.00419503,263787243.32586992,222304005.0937732,10723831.295781553,-21265295.405733407,383710474.26312244,536550297.0349375,548943447.3441002,513834192.3166175,412263311.2579947,33982485.059494704,-9487928.993599713,309134695.51319724,643760211.1078343,501272885.29342306,395050189.3007482,258526489.41408443,7226811.823399961,32359626.087590963,477379381.87008417,386169269.0129512,336114494.62636733,333055937.48710275,207819593.33376348,44346136.60165277,73734043.69551745,414361079.6076845,406398590.6612846,293358317.20757604,245551193.35972026,195453329.62690184,52971678.737853825,14642648.873800129,229715241.096587,322957911.168675,242697874.64083743,263767074.31332418,312330304.36502135,60555167.75298181,14178178.7120623,426574792.9652643,551520477.475379,582893821.3984288,521304540.20904124,360056215.37582695,44338231.36389053,62744538.47365013,467166442.8120876,593927738.1818502,449219441.7610818,361392486.39783895,281951007.7472906,136830132.6043465,42440099.16488287,422226763.14788055,400708360.9630541,313053000.1453812,257643214.9903224,196460096.64115304,80209122.49503177,20061564.496725827,195851553.27818543,213203095.13831648,199959510.95517823,192768912.173156,171583005.88608468,72509901.70687824,-9260239.584045231,205482190.536023,434375139.8316157,490386456.9758692,503155973.0509938,486533532.0977137,207670106.71353394,38302030.5409362,495574462.2017699,616094728.6180148,539655905.959779,470634349.29059416,320864766.88761556,113903268.31007555,-1362627.5464566946,499235763.33652157,582345134.1325719,519161488.1793443,393476108.97233284,264960347.24823377,75567147.11116287,2223759.7399885654,162904105.1920875,316807583.96525633,357835745.6402501,274535471.39454037,191691014.58469313],\"yaxis\":\"y\",\"type\":\"scatter\"}],                        {\"template\":{\"data\":{\"bar\":[{\"error_x\":{\"color\":\"#2a3f5f\"},\"error_y\":{\"color\":\"#2a3f5f\"},\"marker\":{\"line\":{\"color\":\"#E5ECF6\",\"width\":0.5},\"pattern\":{\"fillmode\":\"overlay\",\"size\":10,\"solidity\":0.2}},\"type\":\"bar\"}],\"barpolar\":[{\"marker\":{\"line\":{\"color\":\"#E5ECF6\",\"width\":0.5},\"pattern\":{\"fillmode\":\"overlay\",\"size\":10,\"solidity\":0.2}},\"type\":\"barpolar\"}],\"carpet\":[{\"aaxis\":{\"endlinecolor\":\"#2a3f5f\",\"gridcolor\":\"white\",\"linecolor\":\"white\",\"minorgridcolor\":\"white\",\"startlinecolor\":\"#2a3f5f\"},\"baxis\":{\"endlinecolor\":\"#2a3f5f\",\"gridcolor\":\"white\",\"linecolor\":\"white\",\"minorgridcolor\":\"white\",\"startlinecolor\":\"#2a3f5f\"},\"type\":\"carpet\"}],\"choropleth\":[{\"colorbar\":{\"outlinewidth\":0,\"ticks\":\"\"},\"type\":\"choropleth\"}],\"contour\":[{\"colorbar\":{\"outlinewidth\":0,\"ticks\":\"\"},\"colorscale\":[[0.0,\"#0d0887\"],[0.1111111111111111,\"#46039f\"],[0.2222222222222222,\"#7201a8\"],[0.3333333333333333,\"#9c179e\"],[0.4444444444444444,\"#bd3786\"],[0.5555555555555556,\"#d8576b\"],[0.6666666666666666,\"#ed7953\"],[0.7777777777777778,\"#fb9f3a\"],[0.8888888888888888,\"#fdca26\"],[1.0,\"#f0f921\"]],\"type\":\"contour\"}],\"contourcarpet\":[{\"colorbar\":{\"outlinewidth\":0,\"ticks\":\"\"},\"type\":\"contourcarpet\"}],\"heatmap\":[{\"colorbar\":{\"outlinewidth\":0,\"ticks\":\"\"},\"colorscale\":[[0.0,\"#0d0887\"],[0.1111111111111111,\"#46039f\"],[0.2222222222222222,\"#7201a8\"],[0.3333333333333333,\"#9c179e\"],[0.4444444444444444,\"#bd3786\"],[0.5555555555555556,\"#d8576b\"],[0.6666666666666666,\"#ed7953\"],[0.7777777777777778,\"#fb9f3a\"],[0.8888888888888888,\"#fdca26\"],[1.0,\"#f0f921\"]],\"type\":\"heatmap\"}],\"heatmapgl\":[{\"colorbar\":{\"outlinewidth\":0,\"ticks\":\"\"},\"colorscale\":[[0.0,\"#0d0887\"],[0.1111111111111111,\"#46039f\"],[0.2222222222222222,\"#7201a8\"],[0.3333333333333333,\"#9c179e\"],[0.4444444444444444,\"#bd3786\"],[0.5555555555555556,\"#d8576b\"],[0.6666666666666666,\"#ed7953\"],[0.7777777777777778,\"#fb9f3a\"],[0.8888888888888888,\"#fdca26\"],[1.0,\"#f0f921\"]],\"type\":\"heatmapgl\"}],\"histogram\":[{\"marker\":{\"pattern\":{\"fillmode\":\"overlay\",\"size\":10,\"solidity\":0.2}},\"type\":\"histogram\"}],\"histogram2d\":[{\"colorbar\":{\"outlinewidth\":0,\"ticks\":\"\"},\"colorscale\":[[0.0,\"#0d0887\"],[0.1111111111111111,\"#46039f\"],[0.2222222222222222,\"#7201a8\"],[0.3333333333333333,\"#9c179e\"],[0.4444444444444444,\"#bd3786\"],[0.5555555555555556,\"#d8576b\"],[0.6666666666666666,\"#ed7953\"],[0.7777777777777778,\"#fb9f3a\"],[0.8888888888888888,\"#fdca26\"],[1.0,\"#f0f921\"]],\"type\":\"histogram2d\"}],\"histogram2dcontour\":[{\"colorbar\":{\"outlinewidth\":0,\"ticks\":\"\"},\"colorscale\":[[0.0,\"#0d0887\"],[0.1111111111111111,\"#46039f\"],[0.2222222222222222,\"#7201a8\"],[0.3333333333333333,\"#9c179e\"],[0.4444444444444444,\"#bd3786\"],[0.5555555555555556,\"#d8576b\"],[0.6666666666666666,\"#ed7953\"],[0.7777777777777778,\"#fb9f3a\"],[0.8888888888888888,\"#fdca26\"],[1.0,\"#f0f921\"]],\"type\":\"histogram2dcontour\"}],\"mesh3d\":[{\"colorbar\":{\"outlinewidth\":0,\"ticks\":\"\"},\"type\":\"mesh3d\"}],\"parcoords\":[{\"line\":{\"colorbar\":{\"outlinewidth\":0,\"ticks\":\"\"}},\"type\":\"parcoords\"}],\"pie\":[{\"automargin\":true,\"type\":\"pie\"}],\"scatter\":[{\"marker\":{\"colorbar\":{\"outlinewidth\":0,\"ticks\":\"\"}},\"type\":\"scatter\"}],\"scatter3d\":[{\"line\":{\"colorbar\":{\"outlinewidth\":0,\"ticks\":\"\"}},\"marker\":{\"colorbar\":{\"outlinewidth\":0,\"ticks\":\"\"}},\"type\":\"scatter3d\"}],\"scattercarpet\":[{\"marker\":{\"colorbar\":{\"outlinewidth\":0,\"ticks\":\"\"}},\"type\":\"scattercarpet\"}],\"scattergeo\":[{\"marker\":{\"colorbar\":{\"outlinewidth\":0,\"ticks\":\"\"}},\"type\":\"scattergeo\"}],\"scattergl\":[{\"marker\":{\"colorbar\":{\"outlinewidth\":0,\"ticks\":\"\"}},\"type\":\"scattergl\"}],\"scattermapbox\":[{\"marker\":{\"colorbar\":{\"outlinewidth\":0,\"ticks\":\"\"}},\"type\":\"scattermapbox\"}],\"scatterpolar\":[{\"marker\":{\"colorbar\":{\"outlinewidth\":0,\"ticks\":\"\"}},\"type\":\"scatterpolar\"}],\"scatterpolargl\":[{\"marker\":{\"colorbar\":{\"outlinewidth\":0,\"ticks\":\"\"}},\"type\":\"scatterpolargl\"}],\"scatterternary\":[{\"marker\":{\"colorbar\":{\"outlinewidth\":0,\"ticks\":\"\"}},\"type\":\"scatterternary\"}],\"surface\":[{\"colorbar\":{\"outlinewidth\":0,\"ticks\":\"\"},\"colorscale\":[[0.0,\"#0d0887\"],[0.1111111111111111,\"#46039f\"],[0.2222222222222222,\"#7201a8\"],[0.3333333333333333,\"#9c179e\"],[0.4444444444444444,\"#bd3786\"],[0.5555555555555556,\"#d8576b\"],[0.6666666666666666,\"#ed7953\"],[0.7777777777777778,\"#fb9f3a\"],[0.8888888888888888,\"#fdca26\"],[1.0,\"#f0f921\"]],\"type\":\"surface\"}],\"table\":[{\"cells\":{\"fill\":{\"color\":\"#EBF0F8\"},\"line\":{\"color\":\"white\"}},\"header\":{\"fill\":{\"color\":\"#C8D4E3\"},\"line\":{\"color\":\"white\"}},\"type\":\"table\"}]},\"layout\":{\"annotationdefaults\":{\"arrowcolor\":\"#2a3f5f\",\"arrowhead\":0,\"arrowwidth\":1},\"autotypenumbers\":\"strict\",\"coloraxis\":{\"colorbar\":{\"outlinewidth\":0,\"ticks\":\"\"}},\"colorscale\":{\"diverging\":[[0,\"#8e0152\"],[0.1,\"#c51b7d\"],[0.2,\"#de77ae\"],[0.3,\"#f1b6da\"],[0.4,\"#fde0ef\"],[0.5,\"#f7f7f7\"],[0.6,\"#e6f5d0\"],[0.7,\"#b8e186\"],[0.8,\"#7fbc41\"],[0.9,\"#4d9221\"],[1,\"#276419\"]],\"sequential\":[[0.0,\"#0d0887\"],[0.1111111111111111,\"#46039f\"],[0.2222222222222222,\"#7201a8\"],[0.3333333333333333,\"#9c179e\"],[0.4444444444444444,\"#bd3786\"],[0.5555555555555556,\"#d8576b\"],[0.6666666666666666,\"#ed7953\"],[0.7777777777777778,\"#fb9f3a\"],[0.8888888888888888,\"#fdca26\"],[1.0,\"#f0f921\"]],\"sequentialminus\":[[0.0,\"#0d0887\"],[0.1111111111111111,\"#46039f\"],[0.2222222222222222,\"#7201a8\"],[0.3333333333333333,\"#9c179e\"],[0.4444444444444444,\"#bd3786\"],[0.5555555555555556,\"#d8576b\"],[0.6666666666666666,\"#ed7953\"],[0.7777777777777778,\"#fb9f3a\"],[0.8888888888888888,\"#fdca26\"],[1.0,\"#f0f921\"]]},\"colorway\":[\"#636efa\",\"#EF553B\",\"#00cc96\",\"#ab63fa\",\"#FFA15A\",\"#19d3f3\",\"#FF6692\",\"#B6E880\",\"#FF97FF\",\"#FECB52\"],\"font\":{\"color\":\"#2a3f5f\"},\"geo\":{\"bgcolor\":\"white\",\"lakecolor\":\"white\",\"landcolor\":\"#E5ECF6\",\"showlakes\":true,\"showland\":true,\"subunitcolor\":\"white\"},\"hoverlabel\":{\"align\":\"left\"},\"hovermode\":\"closest\",\"mapbox\":{\"style\":\"light\"},\"paper_bgcolor\":\"white\",\"plot_bgcolor\":\"#E5ECF6\",\"polar\":{\"angularaxis\":{\"gridcolor\":\"white\",\"linecolor\":\"white\",\"ticks\":\"\"},\"bgcolor\":\"#E5ECF6\",\"radialaxis\":{\"gridcolor\":\"white\",\"linecolor\":\"white\",\"ticks\":\"\"}},\"scene\":{\"xaxis\":{\"backgroundcolor\":\"#E5ECF6\",\"gridcolor\":\"white\",\"gridwidth\":2,\"linecolor\":\"white\",\"showbackground\":true,\"ticks\":\"\",\"zerolinecolor\":\"white\"},\"yaxis\":{\"backgroundcolor\":\"#E5ECF6\",\"gridcolor\":\"white\",\"gridwidth\":2,\"linecolor\":\"white\",\"showbackground\":true,\"ticks\":\"\",\"zerolinecolor\":\"white\"},\"zaxis\":{\"backgroundcolor\":\"#E5ECF6\",\"gridcolor\":\"white\",\"gridwidth\":2,\"linecolor\":\"white\",\"showbackground\":true,\"ticks\":\"\",\"zerolinecolor\":\"white\"}},\"shapedefaults\":{\"line\":{\"color\":\"#2a3f5f\"}},\"ternary\":{\"aaxis\":{\"gridcolor\":\"white\",\"linecolor\":\"white\",\"ticks\":\"\"},\"baxis\":{\"gridcolor\":\"white\",\"linecolor\":\"white\",\"ticks\":\"\"},\"bgcolor\":\"#E5ECF6\",\"caxis\":{\"gridcolor\":\"white\",\"linecolor\":\"white\",\"ticks\":\"\"}},\"title\":{\"x\":0.05},\"xaxis\":{\"automargin\":true,\"gridcolor\":\"white\",\"linecolor\":\"white\",\"ticks\":\"\",\"title\":{\"standoff\":15},\"zerolinecolor\":\"white\",\"zerolinewidth\":2},\"yaxis\":{\"automargin\":true,\"gridcolor\":\"white\",\"linecolor\":\"white\",\"ticks\":\"\",\"title\":{\"standoff\":15},\"zerolinecolor\":\"white\",\"zerolinewidth\":2}}},\"xaxis\":{\"anchor\":\"y\",\"domain\":[0.0,1.0],\"title\":{\"text\":\"date_time\"},\"rangeslider\":{\"visible\":true}},\"yaxis\":{\"anchor\":\"x\",\"domain\":[0.0,1.0],\"title\":{\"text\":\"value\"}},\"legend\":{\"title\":{\"text\":\"variable\"},\"tracegroupgap\":0},\"title\":{\"text\":\"Valor Recaudo\"},\"height\":500,\"width\":900},                        {\"responsive\": true}                    ).then(function(){\n",
       "                            \n",
       "var gd = document.getElementById('72d7d293-5d49-4d7c-85d2-eff741f11c82');\n",
       "var x = new MutationObserver(function (mutations, observer) {{\n",
       "        var display = window.getComputedStyle(gd).display;\n",
       "        if (!display || display === 'none') {{\n",
       "            console.log([gd, 'removed!']);\n",
       "            Plotly.purge(gd);\n",
       "            observer.disconnect();\n",
       "        }}\n",
       "}});\n",
       "\n",
       "// Listen for the removal of the full notebook cells\n",
       "var notebookContainer = gd.closest('#notebook-container');\n",
       "if (notebookContainer) {{\n",
       "    x.observe(notebookContainer, {childList: true});\n",
       "}}\n",
       "\n",
       "// Listen for the clearing of the current output cell\n",
       "var outputEl = gd.closest('.output');\n",
       "if (outputEl) {{\n",
       "    x.observe(outputEl, {childList: true});\n",
       "}}\n",
       "\n",
       "                        })                };                });            </script>        </div>"
      ]
     },
     "metadata": {},
     "output_type": "display_data"
    }
   ],
   "source": [
    "datos_plot = pd.DataFrame({\n",
    "                'test': datos_test['value'],\n",
    "                'prediccion': predicciones['pred'],\n",
    "\n",
    "                 })\n",
    "datos_plot.index.name = 'date_time'\n",
    "\n",
    "fig = px.line(\n",
    "    data_frame = datos_plot.reset_index(),\n",
    "    x      = 'date_time',\n",
    "    y      = datos_plot.columns,\n",
    "    title  = 'Valor Recaudo',\n",
    "    width  = 900,\n",
    "    height = 500\n",
    ")\n",
    "\n",
    "fig.update_xaxes(rangeslider_visible=True)\n",
    "fig.show()"
   ]
  },
  {
   "cell_type": "markdown",
   "id": "2db6565f",
   "metadata": {},
   "source": [
    "#### Predicción datos futuros_CATBOOST"
   ]
  },
  {
   "cell_type": "code",
   "execution_count": 119,
   "id": "5ba3a2eb",
   "metadata": {},
   "outputs": [
    {
     "data": {
      "text/plain": [
       "601    4.572678e+08\n",
       "602    3.881533e+08\n",
       "603    2.554501e+08\n",
       "604   -2.481475e+06\n",
       "605    9.557166e+07\n",
       "           ...     \n",
       "764    2.022191e+08\n",
       "765   -2.791981e+07\n",
       "766   -8.277224e+06\n",
       "767    3.073300e+08\n",
       "768    4.630339e+08\n",
       "Name: pred, Length: 168, dtype: float64"
      ]
     },
     "execution_count": 119,
     "metadata": {},
     "output_type": "execute_result"
    }
   ],
   "source": [
    "predic_datos_futuros_CATBOOST= forecaster.predict(steps= 168)\n",
    "predic_datos_futuros_CATBOOST"
   ]
  },
  {
   "cell_type": "code",
   "execution_count": 120,
   "id": "c1729691",
   "metadata": {},
   "outputs": [],
   "source": [
    "predic_datos_futuros_CATBOOST.to_excel('predic_datos_futuros_CATBOOST.xlsx')"
   ]
  },
  {
   "cell_type": "code",
   "execution_count": 121,
   "id": "4af13f64",
   "metadata": {},
   "outputs": [
    {
     "data": {
      "image/png": "[encoded data removed]",
      "text/plain": [
       "<Figure size 792x288 with 1 Axes>"
      ]
     },
     "metadata": {
      "needs_background": "light"
     },
     "output_type": "display_data"
    }
   ],
   "source": [
    "fig, ax = plt.subplots(figsize=(11, 4))\n",
    "datos_test['value'].plot(ax=ax, label='test')\n",
    "predic_datos_futuros_CATBOOST.plot(ax=ax, label='predicciones')\n",
    "ax.legend();"
   ]
  },
  {
   "cell_type": "code",
   "execution_count": null,
   "id": "03361946",
   "metadata": {},
   "outputs": [],
   "source": []
  }
 ],
 "metadata": {
  "kernelspec": {
   "display_name": "Python 3 (ipykernel)",
   "language": "python",
   "name": "python3"
  },
  "language_info": {
   "codemirror_mode": {
    "name": "ipython",
    "version": 3
   },
   "file_extension": ".py",
   "mimetype": "text/x-python",
   "name": "python",
   "nbconvert_exporter": "python",
   "pygments_lexer": "ipython3",
   "version": "3.9.7"
  }
 },
 "nbformat": 4,
 "nbformat_minor": 5
}
